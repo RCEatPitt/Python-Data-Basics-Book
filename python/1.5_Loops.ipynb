{
 "cells": [
  {
   "cell_type": "markdown",
   "metadata": {},
   "source": [
    "# Looping\n",
    "\n",
    "In this module we will be covering the following topic:\n",
    "\n",
    "* For Loops\n",
    "* List Comprehensions\n",
    "* Dictionary Comprehensions\n"
   ]
  },
  {
   "cell_type": "markdown",
   "metadata": {},
   "source": [
    "Loops like conditional statements allow you to create a more complex block of code, in which you repeat an operation across an iterator. They allow you to perform repetitive tasks. \n",
    "\n",
    "**For** each item **in** \"the list\", perform this operation. Lists are an example of an iterator. An iterator is an oject that has a countable numer of items. They include ,for instance lists, tuples, dictionaries, and range. \n",
    "\n",
    "For example, let's say we wanted to create a new list based on *list a*. If we wanted to each multiple each number in list a by 2, we could perform the tedious tasks of writing 5 lines of code. \n",
    "\n",
    "Altneratively, a more efficient way of crating list b would be to use for loops in the code below. \n",
    "\n",
    "```Python \n",
    "a = [1, 2, 3, 4, 5]\n",
    "print(a)\n",
    "b = []\n",
    "b.append(a[0] * 2)\n",
    "b.append(a[1] * 2)\n",
    "b.append(a[2] * 2)\n",
    "b.append(a[3] * 2)\n",
    "b.append(a[4] * 2)\n",
    "print(b) \n",
    "```\n",
    "\n",
    "**For Loops** \n",
    "```Python\n",
    "a = [1, 2, 3, 4, 5]\n",
    "b = []\n",
    "for i in range(len(a)):\n",
    "    b.append(a[i] * 2)\n",
    "print(b)\n",
    "```"
   ]
  },
  {
   "cell_type": "code",
   "execution_count": 7,
   "metadata": {},
   "outputs": [
    {
     "name": "stdout",
     "output_type": "stream",
     "text": [
      "[1, 2, 3, 4, 5]\n",
      "[2, 4, 6, 8, 10]\n"
     ]
    }
   ],
   "source": [
    "a = [1, 2, 3, 4, 5]\n",
    "print(a)\n",
    "b = []\n",
    "b.append(a[0] * 2)\n",
    "b.append(a[1] * 2)\n",
    "b.append(a[2] * 2)\n",
    "b.append(a[3] * 2)\n",
    "b.append(a[4] * 2)\n",
    "print(b) "
   ]
  },
  {
   "cell_type": "code",
   "execution_count": 12,
   "metadata": {},
   "outputs": [
    {
     "name": "stdout",
     "output_type": "stream",
     "text": [
      "[2, 4, 6, 8, 10]\n"
     ]
    }
   ],
   "source": [
    "a = [1, 2, 3, 4, 5]\n",
    "b = []\n",
    "for i in range(len(a)):\n",
    "    b.append(a[i] * 2)\n",
    "print(b)"
   ]
  },
  {
   "cell_type": "markdown",
   "metadata": {},
   "source": [
    "Similiar in syntax to conditional statements, include a colon `:` after the `for` and `in` statement and make sure to indent in the following line. What follows the `for` can be any string literal. You can call it *i* or *element*. You cannot assign it a numerical literal.  \n",
    "\n",
    "In the first example we are asking Python to print every *i* or number in the range of numbers from 0 to 10.\n",
    "\n",
    "```Python\n",
    "for i in range(0, 10):\n",
    "    print(i)\n",
    "    \n",
    "for element in range(0, 10):\n",
    "    print(element)\n",
    "    \n",
    "``` \n",
    "In the examples below, we are working with lists and dictionaries. \n",
    "\n",
    "```Python\n",
    "fruits = ['apples', 'oranges', 'pears', 'peaches', 'berries'];\n",
    "for i in range(0, len(fruits)):\n",
    "    print(fruits[i])\n",
    "```\n",
    "```Python\n",
    "fruits = ['apples', 'oranges', 'pears', 'peaches', 'berries'];\n",
    "for item in fruits:\n",
    "    print(item)\n",
    "```\n",
    "```Python \n",
    "dict = {\n",
    "    \"John\" : 37,\n",
    "    \"Bob\" : 50,\n",
    "    \"Jane\" : 29,\n",
    "    \"Ann\" : 71\n",
    "}\n",
    "\n",
    "for key, value in dict.items():\n",
    "    print(key, value)\n",
    " ```"
   ]
  },
  {
   "cell_type": "code",
   "execution_count": 8,
   "metadata": {
    "tags": []
   },
   "outputs": [
    {
     "name": "stdout",
     "output_type": "stream",
     "text": [
      "apples\n",
      "oranges\n",
      "pears\n",
      "peaches\n",
      "berries\n"
     ]
    }
   ],
   "source": [
    "# Iterating through a range of values to read from a list\n",
    "fruits = ['apples', 'oranges', 'pears', 'peaches', 'berries'];\n",
    "for i in range(0, len(fruits)):\n",
    "    print(fruits[i])"
   ]
  },
  {
   "cell_type": "code",
   "execution_count": 6,
   "metadata": {},
   "outputs": [
    {
     "name": "stdout",
     "output_type": "stream",
     "text": [
      "apples\n",
      "oranges\n",
      "pears\n",
      "peaches\n",
      "berries\n"
     ]
    }
   ],
   "source": [
    "# Iterating through items in a list\n",
    "fruits = ['apples', 'oranges', 'pears', 'peaches', 'berries'];\n",
    "for item in fruits:\n",
    "    print(item)"
   ]
  },
  {
   "cell_type": "code",
   "execution_count": 7,
   "metadata": {
    "tags": []
   },
   "outputs": [
    {
     "name": "stdout",
     "output_type": "stream",
     "text": [
      "John 37\n",
      "Bob 50\n",
      "Jane 29\n",
      "Ann 71\n"
     ]
    }
   ],
   "source": [
    "# Iterating through a dictionary\n",
    "dict = {\n",
    "    \"John\" : 37,\n",
    "    \"Bob\" : 50,\n",
    "    \"Jane\" : 29,\n",
    "    \"Ann\" : 71\n",
    "}\n",
    "\n",
    "for key, value in dict.items():\n",
    "    print(key, value)"
   ]
  },
  {
   "cell_type": "markdown",
   "metadata": {},
   "source": [
    "The Loop function allows us to modify every item or value in a list or dictionary in a single block of text. \n",
    "\n",
    "Let's use loops to every value in a diciontary. With inflation, the cost of food has risen. Let's add 0.25 to the price for every type of coffee drink. In other words, add 0.25 to each value per key in the dictionary. \n",
    "\n",
    "You'll notice a few things with the syntax. When working with dictionaries, you need to include two string literals, separated by a comma after `for`. They denote the key and value in the dictionary. In the example, *key* and *value* are used but you can use any string literal. The next line, which is indented, performs the operation, which asks that 0.25 be added to each value per key. \n",
    "\n",
    "```Python\n",
    "\n",
    "coffee_price = {'Americano' :2.45, \n",
    "                'Latte' :3.59,\n",
    "                'Espresso' : 1.89 ,\n",
    "                'Mocha' : 3.75 ,\n",
    "                'Cappuccino' : 4.18\n",
    "               }\n",
    "\n",
    "for key, value in coffee_price.items():\n",
    "    coffee_price[key] +=0.25\n",
    "print(coffee_price)\n",
    "``` "
   ]
  },
  {
   "cell_type": "code",
   "execution_count": 30,
   "metadata": {},
   "outputs": [
    {
     "name": "stdout",
     "output_type": "stream",
     "text": [
      "{'Americano': 2.7, 'Latte': 3.84, 'Espresso': 2.1399999999999997, 'Mocha': 4.0, 'Cappuccino': 4.43}\n"
     ]
    }
   ],
   "source": [
    "coffee_price = {'Americano' :2.45, \n",
    "                'Latte' :3.59,\n",
    "                'Espresso' : 1.89 ,\n",
    "                'Mocha' : 3.75 ,\n",
    "                'Cappuccino' : 4.18\n",
    "               }\n",
    "\n",
    "for key, value in coffee_price.items():\n",
    "    coffee_price[key] +=0.25\n",
    "print(coffee_price)"
   ]
  },
  {
   "cell_type": "markdown",
   "metadata": {},
   "source": [
    "### Let's Try it \n",
    "\n",
    "We have two lists in this example. 1) Sort the gas_price_june list 2) Find the median value in the list. 3) Use a loop to iterate across the gas_price_june list, for prices that are above the median, add to the gas_price_highest list. You can use any of the methods reviewed in Module 1.4, like append or combine. \n",
    "\n",
    "\n",
    "```Python\n",
    "gas_price_june = [3.89, 2.91, 4.26, 4.91, 5.23, 3.65, 4.15] \n",
    "gas_price_highest = [5.72, 4.80, 5.51, 5.73]\n",
    "``` "
   ]
  },
  {
   "cell_type": "code",
   "execution_count": null,
   "metadata": {},
   "outputs": [],
   "source": [
    "gas_price_june = [3.89, 2.91, 4.26, 4.91, 5.23, 3.65, 4.15] \n",
    "gas_price_highest = [5.72, 4.80, 5.51, 5.73] "
   ]
  },
  {
   "cell_type": "markdown",
   "metadata": {},
   "source": [
    "## List Comprehensions\n",
    "\n",
    "A list comprehension performs the same function as for loops and conditional statements, but the execute codes more concisely and efficiently.\n",
    "\n",
    "In the example below, 3 is multiplied to every number in the list called *even*. Using the for loop method, we first create an empty list called *new_even*. For every item in the list, we multiple by 3 and append each number to the empty list. Run the code and print the list, *new_even*. \n",
    "\n",
    "List comprehensions can produce the same results but more concisely \n",
    "\n",
    "**For Loop Method** \n",
    "```Python\n",
    "even = [2,4,6,8 ]\n",
    "new_even =[]\n",
    "for i in even:\n",
    "    new_even.append(i*3)\n",
    "print(new_even)\n",
    "``` \n",
    "\n",
    "**List Comprehension** \n",
    "\n",
    "A list comprehension produces the same result but with less lines of code. In the a list comprehension, the `for` and `in` operators are not at the beginning of the statement. Rather the operation is listed first and is followed by the `for` and `in` operators. \n",
    "\n",
    "```Python\n",
    "number = [1,2,3,4, 5]\n",
    "new_number = [(i*3) for i in number]\n",
    "print(new_number)\n",
    "``` "
   ]
  },
  {
   "cell_type": "code",
   "execution_count": 43,
   "metadata": {},
   "outputs": [
    {
     "name": "stdout",
     "output_type": "stream",
     "text": [
      "[3, 6, 9, 12, 15]\n"
     ]
    }
   ],
   "source": [
    "number = [1,2,3,4, 5]\n",
    "new_number = [(i*3) for i in number]\n",
    "print(new_number)"
   ]
  },
  {
   "cell_type": "code",
   "execution_count": 44,
   "metadata": {},
   "outputs": [
    {
     "name": "stdout",
     "output_type": "stream",
     "text": [
      "[3, 6, 9, 12, 15]\n"
     ]
    }
   ],
   "source": [
    "## Using List Comprehension \n",
    "number = [1,2,3,4, 5]\n",
    "new_number = [(i*3) for i in number]\n",
    "print(new_number)\n",
    "\n"
   ]
  },
  {
   "cell_type": "markdown",
   "metadata": {},
   "source": [
    "## Let's try it! \n",
    "\n",
    "Create a for loop or a list comprehension. Find the even numbers in the list, *num*. And Append to a new list called called *new_num*. Hint: you will need the modulus operator and include an if conditional statement! \n",
    "\n",
    "\n",
    "Use both for loops statement and list comprehensions to find \n",
    "\n",
    "```Python \n",
    "num = [12, 9, 3, 6, 10]\n",
    "new_num =[]\n",
    "\n",
    "``` "
   ]
  },
  {
   "cell_type": "code",
   "execution_count": null,
   "metadata": {},
   "outputs": [],
   "source": [
    "num = [12, 9, 3, 6, 10]\n",
    "new_num =[]\n"
   ]
  },
  {
   "cell_type": "markdown",
   "metadata": {},
   "source": [
    "## Dictionary Comprehensions \n",
    "\n",
    "Like list comprehensions, dictionary comprehensions provide a more concise way to iterate over items in a dictionary in contrast to for-loops. \n",
    "\n",
    "The following dictionary shows the height in feet. Let's say we wanted to change the values so they are in inches. We need to multiply each value per key by 12. We can use for loop and a dictionary comprehension. You'll notice that we created a new dictionary called height_inches. As well, the we included the round() function in the operation so that numbers would be rounded up without any decimals. \n",
    "\n",
    "**For Loop** \n",
    "```Python\n",
    "height = {'Lara': 4.8, 'Mark': 6.1, 'Ian': 5.8, 'Annie': 5.3}\n",
    "height_inches ={}\n",
    "\n",
    "for k, v in height.items():\n",
    "    height_inches[k] = round(v*12.0)\n",
    "print(height_inches)\n",
    "\n",
    "```\n",
    "\n",
    "We can perform the same operation using a diciontary comprehension, which only requires one line of code. \n",
    "\n",
    "**Diciontary Comprehension** \n",
    "```Python \n",
    "height = {'Lara': 4.8, 'Mark': 6.1, 'Ian': 5.8, 'Annie': 5.3}\n",
    "\n",
    "height_inches  = {key: round(value*12) for (key,value) in height.items()}  \n",
    "print(height_inches)\n",
    "\n",
    "``` \n"
   ]
  },
  {
   "cell_type": "code",
   "execution_count": 23,
   "metadata": {
    "tags": []
   },
   "outputs": [
    {
     "name": "stdout",
     "output_type": "stream",
     "text": [
      "{'Lara': 58, 'Mark': 73, 'Ian': 70, 'Annie': 64}\n"
     ]
    }
   ],
   "source": [
    "## Using a For Loop\n",
    "## Notice we made a new dictionary called height_inches using the key, values from the height dictionary \n",
    "## Also notice the round() function, this rounds are number so we don't have decimals \n",
    "\n",
    "height = {'Lara': 4.8, 'Mark': 6.1, 'Ian': 5.8, 'Annie': 5.3}\n",
    "height_inches ={}\n",
    "\n",
    "for k, v in height.items():\n",
    "    height_inches[k] = round(v*12.0)\n",
    "print(height_inches)"
   ]
  },
  {
   "cell_type": "code",
   "execution_count": 28,
   "metadata": {},
   "outputs": [
    {
     "name": "stdout",
     "output_type": "stream",
     "text": [
      "{'Lara': 58, 'Mark': 73, 'Ian': 70, 'Annie': 64}\n"
     ]
    }
   ],
   "source": [
    "height = {'Lara': 4.8, 'Mark': 6.1, 'Ian': 5.8, 'Annie': 5.3}\n",
    "\n",
    "height_inches  = {key: round(value*12) for (key,value) in height.items()}  \n",
    "print(height_inches)\n",
    "\n",
    "\n"
   ]
  },
  {
   "cell_type": "markdown",
   "metadata": {},
   "source": [
    "## Practice Questions\n"
   ]
  },
  {
   "cell_type": "markdown",
   "metadata": {},
   "source": [
    "### Question 1\n",
    "\n",
    "Use a for loop with the range function generate `c` by doing the element-wise addition of a with b. Hint, the final list for c should read: c=[6, 8, 10, 12]\n",
    "\n",
    "```Python \n",
    "a = [1, 2, 3, 4]\n",
    "b = [5, 6, 7, 8]\n",
    "c = []\n",
    "``` "
   ]
  },
  {
   "cell_type": "code",
   "execution_count": 1,
   "metadata": {},
   "outputs": [],
   "source": [
    "a = [1, 2, 3, 4]\n",
    "b = [5, 6, 7, 8]\n",
    "c = []"
   ]
  },
  {
   "cell_type": "markdown",
   "metadata": {},
   "source": [
    "### Question 2\n",
    "\n",
    "** Shopping List **\n",
    "\n",
    "This program creates a list called groceries and defines two dictionaries, stock and prices. Using these structures, it computes the bill for the list of groceries."
   ]
  },
  {
   "cell_type": "code",
   "execution_count": null,
   "metadata": {
    "collapsed": true,
    "jupyter": {
     "outputs_hidden": true
    }
   },
   "outputs": [],
   "source": [
    "# First, create a list called shopping_list that contains the strings \"banana\", \"orange\", and \"apple\"\n",
    "shopping_list = [\"banana\", \"orange\", \"apple\"]"
   ]
  },
  {
   "cell_type": "code",
   "execution_count": null,
   "metadata": {
    "collapsed": true,
    "jupyter": {
     "outputs_hidden": true
    }
   },
   "outputs": [],
   "source": [
    "# Next, create the empty prices dictionary\n",
    "prices = {}\n",
    "\n",
    "# We can then add values to the dictionary\n",
    "prices[\"banana\"] = 4\n",
    "prices[\"apple\"] = 2\n",
    "prices[\"orange\"] = 1.5\n",
    "prices[\"pear\"] = 3"
   ]
  },
  {
   "cell_type": "code",
   "execution_count": null,
   "metadata": {
    "collapsed": true,
    "jupyter": {
     "outputs_hidden": true
    }
   },
   "outputs": [],
   "source": [
    "# Next, create the stock dictionary\n",
    "# We will use a different method from before and simply create the dictionary all at once\n",
    "# Note that we use commas to separate items and a comma does not appear after the last item in the dictionary\n",
    "# Also note that the dictionary can be declared on one line or multiple\n",
    "stock = {\n",
    "    \"banana\": 6,\n",
    "    \"apple\": 0,\n",
    "    \"orange\": 32,\n",
    "    \"pear\": 15\n",
    "}"
   ]
  },
  {
   "cell_type": "code",
   "execution_count": null,
   "metadata": {},
   "outputs": [],
   "source": [
    "# To illustrate how to print out the items in a dictionary along with their associated values, \n",
    "# we can use a loop like the one below\n",
    "for item in prices:\n",
    "    print(item)\n",
    "    print(\"price: \" + str(prices[item]))\n",
    "    print(\"stock: \" + str(stock[item]))"
   ]
  },
  {
   "cell_type": "code",
   "execution_count": null,
   "metadata": {},
   "outputs": [],
   "source": [
    "# Now we can compute the bill for the shopping list\n",
    "# We will do this by looping through the items in the list, checking to see if the store has the item in stock,\n",
    "# and adding the price to a variable called grocery_bill\n",
    "# Also, we will update the stock dictionary to reflect any changes in the quantity of a good if it is on the list\n",
    "grocery_bill = 0\n",
    "\n",
    "for item in shopping_list:\n",
    "    if stock[item] > 0:\n",
    "        price = prices[item]\n",
    "        grocery_bill = grocery_bill + price\n",
    "        stock[item] = stock[item] - 1\n",
    "    else:\n",
    "        print(item + \"s are not in stock!\")"
   ]
  },
  {
   "cell_type": "code",
   "execution_count": null,
   "metadata": {},
   "outputs": [],
   "source": [
    "# Finally, output the result\n",
    "print(\"Cost of groceries: \" + str(grocery_bill))"
   ]
  },
  {
   "cell_type": "code",
   "execution_count": null,
   "metadata": {
    "collapsed": true,
    "jupyter": {
     "outputs_hidden": true
    }
   },
   "outputs": [],
   "source": []
  },
  {
   "cell_type": "markdown",
   "metadata": {},
   "source": [
    "** Shopping List: Challenge 1**\n",
    "\n",
    "Write a loop to determine the value of the store's entire stock. "
   ]
  },
  {
   "cell_type": "code",
   "execution_count": null,
   "metadata": {
    "collapsed": true,
    "jupyter": {
     "outputs_hidden": true
    }
   },
   "outputs": [],
   "source": [
    "# Write challenge 1 solution here\n"
   ]
  },
  {
   "cell_type": "code",
   "execution_count": null,
   "metadata": {},
   "outputs": [],
   "source": []
  },
  {
   "cell_type": "code",
   "execution_count": null,
   "metadata": {},
   "outputs": [],
   "source": []
  },
  {
   "cell_type": "markdown",
   "metadata": {},
   "source": [
    "### Answers "
   ]
  },
  {
   "cell_type": "code",
   "execution_count": 6,
   "metadata": {},
   "outputs": [
    {
     "name": "stdout",
     "output_type": "stream",
     "text": [
      "[6, 8, 10, 12]\n"
     ]
    }
   ],
   "source": [
    "#Using a list comprehension\n",
    "a = [1, 2, 3, 4]\n",
    "b = [5, 6, 7, 8]\n",
    "c = []\n",
    "\n",
    "for i in range(len(a)):\n",
    "        c.append(a[i] + b[i])\n",
    "\n",
    "print(c) "
   ]
  },
  {
   "cell_type": "code",
   "execution_count": 3,
   "metadata": {},
   "outputs": [
    {
     "name": "stdout",
     "output_type": "stream",
     "text": [
      "[[6, 8, 10, 12]]\n"
     ]
    }
   ],
   "source": [
    "## Answers for Question 1\n",
    "\n",
    "#Using a list comprehension\n",
    "a = [1, 2, 3, 4]\n",
    "b = [5, 6, 7, 8]\n",
    "c = []\n",
    "\n",
    "c.append([a[i] + b[i] for i in range(len(a))])\n",
    "print(c) "
   ]
  },
  {
   "cell_type": "markdown",
   "metadata": {},
   "source": [
    "** Shopping List: Challenge 1 Solution**"
   ]
  },
  {
   "cell_type": "code",
   "execution_count": null,
   "metadata": {},
   "outputs": [],
   "source": []
  },
  {
   "cell_type": "code",
   "execution_count": null,
   "metadata": {
    "collapsed": true,
    "jupyter": {
     "outputs_hidden": true
    }
   },
   "outputs": [],
   "source": [
    "# First, create a list called shopping_list that contains the strings \"banana\", \"orange\", and \"apple\"\n",
    "shopping_list = [\"banana\", \"orange\", \"apple\"]"
   ]
  },
  {
   "cell_type": "code",
   "execution_count": null,
   "metadata": {
    "collapsed": true,
    "jupyter": {
     "outputs_hidden": true
    }
   },
   "outputs": [],
   "source": [
    "# Next, create the empty prices dictionary\n",
    "prices = {}\n",
    "\n",
    "# We can then add values to the dictionary\n",
    "prices[\"banana\"] = 4\n",
    "prices[\"apple\"] = 2\n",
    "prices[\"orange\"] = 1.5\n",
    "prices[\"pear\"] = 3"
   ]
  },
  {
   "cell_type": "code",
   "execution_count": null,
   "metadata": {
    "collapsed": true,
    "jupyter": {
     "outputs_hidden": true
    }
   },
   "outputs": [],
   "source": [
    "# Next, create the stock dictionary\n",
    "# We will use a different method from before and simply create the dictionary all at once\n",
    "# Note that we use commas to separate items and a comma does not appear after the last item in the dictionary\n",
    "# Also note that the dictionary can be declared on one line or multiple\n",
    "stock = {\n",
    "    \"banana\": 6,\n",
    "    \"apple\": 0,\n",
    "    \"orange\": 32,\n",
    "    \"pear\": 15\n",
    "}"
   ]
  },
  {
   "cell_type": "code",
   "execution_count": null,
   "metadata": {},
   "outputs": [],
   "source": [
    "# To illustrate how to print out the items in a dictionary along with their associated values, \n",
    "# we can use a loop like the one below\n",
    "for item in prices:\n",
    "    print(item)\n",
    "    print(\"price: \" + str(prices[item]))\n",
    "    print(\"stock: \" + str(stock[item]))"
   ]
  },
  {
   "cell_type": "code",
   "execution_count": null,
   "metadata": {},
   "outputs": [],
   "source": [
    "# Now we can compute the bill for the shopping list\n",
    "# We will do this by looping through the items in the list, checking to see if the store has the item in stock,\n",
    "# and adding the price to a variable called grocery_bill\n",
    "# Also, we will update the stock dictionary to reflect any changes in the quantity of a good if it is on the list\n",
    "grocery_bill = 0\n",
    "\n",
    "for item in shopping_list:\n",
    "    if stock[item] > 0:\n",
    "        price = prices[item]\n",
    "        grocery_bill = grocery_bill + price\n",
    "        stock[item] = stock[item] - 1\n",
    "    else:\n",
    "        print(item + \"s are not in stock!\")\n",
    "        \n",
    "print(\"Your total bill is\", grocery_bill)"
   ]
  },
  {
   "cell_type": "code",
   "execution_count": null,
   "metadata": {},
   "outputs": [],
   "source": [
    "# Challenge solution\n",
    "total_stock = 0\n",
    "\n",
    "for item in stock:\n",
    "    total_stock = total_stock + stock[item] * prices[item]\n",
    "    \n",
    "print(\"The value of the store's stock is \" + str(total_stock))"
   ]
  }
 ],
 "metadata": {
  "kernelspec": {
   "display_name": "Python 3 (ipykernel)",
   "language": "python",
   "name": "python3"
  },
  "language_info": {
   "codemirror_mode": {
    "name": "ipython",
    "version": 3
   },
   "file_extension": ".py",
   "mimetype": "text/x-python",
   "name": "python",
   "nbconvert_exporter": "python",
   "pygments_lexer": "ipython3",
   "version": "3.9.12"
  },
  "toc-autonumbering": false,
  "toc-showcode": false
 },
 "nbformat": 4,
 "nbformat_minor": 4
}
