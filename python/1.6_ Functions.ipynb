{
 "cells": [
  {
   "cell_type": "markdown",
   "metadata": {
    "pycharm": {
     "name": "#%% md\n"
    }
   },
   "source": [
    "# Functions\n",
    "\n",
    "In this module, we will cover the following topics:\n",
    "\n",
    "* Built-in Python Functions\n",
    "* Creating and defining your own functions \n",
    "* Named parameters and arguments\n",
    "* Anonymous functions with Lambda\n",
    "\n",
    "A function is a block of organized, reusable code that is used to perform a single, related action. It takes an input and produces an output.  Functions provide better modularity for your application by allowing you to re-used blocks of code without having to re-write it every time or Copy Paste. Let's say you want to test different values using the same block of code, functions allow you use to easily run the same code to input different values, without having to rewrite the whole code. It also helps with the reproducibility in academic research, in which you may want to make your code and methods publically available for others. In general, functions makes your code easier to read, reuse, and update.  \n",
    "\n",
    "In terms of syntax, functions have a name followed by parentheses. You *call* the name of the functions and you can *pass arguments* to a function, which are located within a pair of parentheses `()`. The argument is stored within the *parameter*, which is a type of variable. In this module, we will go into more details about the elements of a function: 1) defining a function 2) calling a function 3) passing an argument that is stored in a parameter 6) returning a value/output \n",
    "\n",
    "In the previous modules, you have already seen a couple functions. For instance, `print ()`, `len()`, `type()` are examples of built-in functions in Python. They are considered functions because we are calling a specific function to be performed on a given argument.\n",
    "\n",
    "Let's take a look at the `print()` function, 'hi', 3, and 5.38 are the arguments. With function, we are asking Python evaluate to evaluate the argument and return a value. `Print` is the name of the function. We are asking it to return or *print* the paramters inside the parentheses, which stores the specific arguments, e.g. *hi*, *3*, *5.38*. \n",
    "\n",
    "```Python \n",
    "print(\"hi\", 3, 5.38)\n",
    "\n",
    "``` \n",
    "\n",
    "\n"
   ]
  },
  {
   "cell_type": "markdown",
   "metadata": {
    "pycharm": {
     "name": "#%% md\n"
    }
   },
   "source": [
    "## Examples of Built-in Functions"
   ]
  },
  {
   "cell_type": "code",
   "execution_count": 1,
   "metadata": {
    "pycharm": {
     "name": "#%%\n"
    }
   },
   "outputs": [
    {
     "name": "stdout",
     "output_type": "stream",
     "text": [
      "hi 3 5.38\n"
     ]
    }
   ],
   "source": [
    "# print is a function\n",
    "print(\"hi\", 3, 5.38)"
   ]
  },
  {
   "cell_type": "code",
   "execution_count": 2,
   "metadata": {
    "pycharm": {
     "name": "#%%\n"
    }
   },
   "outputs": [
    {
     "data": {
      "text/plain": [
       "11"
      ]
     },
     "execution_count": 2,
     "metadata": {},
     "output_type": "execute_result"
    }
   ],
   "source": [
    "# this function tells you the length of things\n",
    "len(\"hello world\")"
   ]
  },
  {
   "cell_type": "code",
   "execution_count": 3,
   "metadata": {
    "pycharm": {
     "name": "#%%\n"
    }
   },
   "outputs": [
    {
     "data": {
      "text/plain": [
       "int"
      ]
     },
     "execution_count": 3,
     "metadata": {},
     "output_type": "execute_result"
    }
   ],
   "source": [
    "# what is the python data type of 5\n",
    "type(5)"
   ]
  },
  {
   "cell_type": "code",
   "execution_count": 6,
   "metadata": {
    "pycharm": {
     "name": "#%%\n"
    }
   },
   "outputs": [
    {
     "name": "stdout",
     "output_type": "stream",
     "text": [
      "0.020225055699283012\n"
     ]
    }
   ],
   "source": [
    "# import the random and randint functions from the random module\n",
    "from random import random, randint\n",
    "\n",
    "# generate a random number\n",
    "x = random()\n",
    "print(x)"
   ]
  },
  {
   "cell_type": "code",
   "execution_count": 7,
   "metadata": {
    "pycharm": {
     "name": "#%%\n"
    }
   },
   "outputs": [
    {
     "data": {
      "text/plain": [
       "4"
      ]
     },
     "execution_count": 7,
     "metadata": {},
     "output_type": "execute_result"
    }
   ],
   "source": [
    "# use the randint function to generate random integers in a range\n",
    "randint(-5, 10)"
   ]
  },
  {
   "cell_type": "code",
   "execution_count": 4,
   "metadata": {
    "pycharm": {
     "name": "#%%\n"
    }
   },
   "outputs": [
    {
     "data": {
      "text/plain": [
       "3"
      ]
     },
     "execution_count": 4,
     "metadata": {},
     "output_type": "execute_result"
    }
   ],
   "source": [
    "# the round() function will round up integers to whole numbers \n",
    "\n",
    "round (3.15)"
   ]
  },
  {
   "cell_type": "markdown",
   "metadata": {
    "pycharm": {
     "name": "#%% md\n"
    }
   },
   "source": [
    "## Creating your own functions\n",
    "\n",
    "\n",
    "Sometimes the function we need doesn't exist! In addition to the built-in functions in Python, we can also create our own functions, using `def` statements. Creating your own functions allows you to develop complex blocks of code for you and other users to easily replicate and reuse. \n",
    " \n",
    "In terms of syntax, function blocks begin with the keyword `def` followed by the *function name* and parentheses `()`. The `def` statement allows us to *define* your function. Any input parameters or arguments should be placed within these parentheses. You can also define parameters inside these parentheses. A function name along with its parameters make up the function's signature.\n",
    "The code block within every function starts with a colon (:) and is indented. \n",
    "\n",
    "When you create a function with a `def` statement, you often but not always include a `return` statement at the end of the block of code. The function specifies what the value or expression that should be returned after evaluating the arguments in the paramater. A return statement with no arguments is the same as return None.\n",
    "\n",
    "Look athe following syntax to create your own function. \n",
    "\n",
    "```\n",
    "def function_name(parameter_1, parameter_2):\n",
    "\"\"\"Documentation string\"\"\"\n",
    "\n",
    "    function code\n",
    "    more code\n",
    "    even more code\n",
    "\n",
    "    return [expression]\n",
    "```\n",
    "\n",
    "To *call* a function you write the name followed by parentheses. If the function has parameters, you assign values or arguments to the parameters. \n",
    "```\n",
    "function_name(some_value, another_value)\n",
    "```\n",
    "\n",
    "Below is an example of a function with no parameters and no return value. \n",
    "\n",
    "```Python\n",
    "def print_lyrics():\n",
    "    \"\"\"Print a song\"\"\"\n",
    "    \n",
    "    print(\"I'm a lumberjack, and I'm okay.\")\n",
    "    print('I sleep all night and I work all day.')\n",
    "    \n",
    "    return None # optional\n",
    "``` "
   ]
  },
  {
   "cell_type": "code",
   "execution_count": 1,
   "metadata": {
    "collapsed": true,
    "jupyter": {
     "outputs_hidden": true
    },
    "pycharm": {
     "name": "#%%\n"
    }
   },
   "outputs": [],
   "source": [
    "# a basic function that takes no parameters and \n",
    "def print_lyrics():\n",
    "    \"\"\"Print a song\"\"\"\n",
    "    \n",
    "    print(\"I'm a lumberjack, and I'm okay.\")\n",
    "    print('I sleep all night and I work all day.')\n",
    "    \n",
    "    return None # optional"
   ]
  },
  {
   "cell_type": "code",
   "execution_count": 3,
   "metadata": {
    "pycharm": {
     "name": "#%%\n"
    }
   },
   "outputs": [
    {
     "name": "stdout",
     "output_type": "stream",
     "text": [
      "I'm a lumberjack, and I'm okay.\n",
      "I sleep all night and I work all day.\n"
     ]
    }
   ],
   "source": [
    "# Calling a function\n",
    "print_lyrics()"
   ]
  },
  {
   "cell_type": "markdown",
   "metadata": {
    "pycharm": {
     "name": "#%% md\n"
    }
   },
   "source": [
    "Below is an example of a function, which has two paramters, two arguments and return values. \n",
    "\n",
    "The name of the function follows the `def` statement, *add_two_numbers*.  And the parameters are *num1* and *num2*. We are asking the function to return the sum of the two values. Note with the return statement, we are creating a variable called *sum_of_two_numbers* and asking the function to return that variable. \n",
    "\n",
    "We run the function by calling its name *add_two_numbers*. The arguements are 1 and 4, which means we passing two values to the function. It automatically produces the return value of the function, which is 5 - the sum of 1 and 4."
   ]
  },
  {
   "cell_type": "code",
   "execution_count": null,
   "metadata": {
    "pycharm": {
     "name": "#%%\n"
    }
   },
   "outputs": [],
   "source": [
    "# create a little addition function\n",
    "def add_two_numbers(num1, num2):\n",
    "    \"\"\"\n",
    "    Function name: add_two_numbers\n",
    "    Parameter(s): num1, num2\n",
    "    Description: This function adds two numbers\n",
    "    Return: This function returns a sum of two numbers\n",
    "    \"\"\"\n",
    "    # add the two parameters and save to a new variable\n",
    "    sum_of_two_numbers = num1 + num2\n",
    "    # return that variable\n",
    "    return sum_of_two_numbers"
   ]
  },
  {
   "cell_type": "code",
   "execution_count": 9,
   "metadata": {
    "pycharm": {
     "name": "#%%\n"
    }
   },
   "outputs": [
    {
     "data": {
      "text/plain": [
       "5"
      ]
     },
     "execution_count": 9,
     "metadata": {},
     "output_type": "execute_result"
    }
   ],
   "source": [
    "# run the function\n",
    "add_two_numbers(1, 4)"
   ]
  },
  {
   "cell_type": "markdown",
   "metadata": {
    "pycharm": {
     "name": "#%% md\n"
    }
   },
   "source": [
    "The below function is the same as above, but one key difference is that we are not creating a new variable to return. Notice the variable *sum_of_two_numbers* is absent. We can instead directly specify to return `num1 + num2`"
   ]
  },
  {
   "cell_type": "code",
   "execution_count": 9,
   "metadata": {
    "pycharm": {
     "name": "#%%\n"
    }
   },
   "outputs": [],
   "source": [
    "# create a little addition function\n",
    "def add_two_numbers(num1, num2):\n",
    "    \"\"\"\n",
    "    Function name: add_two_numbers\n",
    "    Parameter(s): num1, num2\n",
    "    Description: This function adds two numbers\n",
    "    Return: This function returns a sum of two numbers\n",
    "    \"\"\"\n",
    "    # add the two parameters and save to a new variable\n",
    "    return  num1 + num2"
   ]
  },
  {
   "cell_type": "code",
   "execution_count": 10,
   "metadata": {
    "pycharm": {
     "name": "#%%\n"
    }
   },
   "outputs": [
    {
     "data": {
      "text/plain": [
       "5"
      ]
     },
     "execution_count": 10,
     "metadata": {},
     "output_type": "execute_result"
    }
   ],
   "source": [
    "add_two_numbers (1, 4)"
   ]
  },
  {
   "cell_type": "markdown",
   "metadata": {
    "pycharm": {
     "name": "#%% md\n"
    }
   },
   "source": [
    "Let's say we want to print the return value of the function. Notice the error message it produces. To resolve this issue, there are two solutions. To print the return value, you should specify the arguments with the definition name. \n",
    "\n",
    "This code produces an error term: \n",
    "```Python\n",
    "print(add_two_numbers)\n",
    "```\n",
    "\n",
    "This code succesfully prints the return value:\n",
    "\n",
    "```Python\n",
    "print(add_two_numbers(1,4))\n",
    "```\n",
    "\n",
    "You can also create a new variable and assign it the function name along with the arguments, and print the newly created variable \n",
    "\n",
    "```Python\n",
    "result = add_two_numbers(1, 4)\n",
    "print(result)\n",
    "```"
   ]
  },
  {
   "cell_type": "code",
   "execution_count": 15,
   "metadata": {
    "pycharm": {
     "name": "#%%\n"
    }
   },
   "outputs": [
    {
     "name": "stdout",
     "output_type": "stream",
     "text": [
      "<function add_two_numbers at 0x0000020B19CBDC80>\n"
     ]
    }
   ],
   "source": [
    "print(add_two_numbers)"
   ]
  },
  {
   "cell_type": "code",
   "execution_count": 16,
   "metadata": {
    "pycharm": {
     "name": "#%%\n"
    }
   },
   "outputs": [
    {
     "name": "stdout",
     "output_type": "stream",
     "text": [
      "5\n"
     ]
    }
   ],
   "source": [
    "print(add_two_numbers(1,4))"
   ]
  },
  {
   "cell_type": "code",
   "execution_count": 22,
   "metadata": {
    "pycharm": {
     "name": "#%%\n"
    },
    "scrolled": true
   },
   "outputs": [
    {
     "name": "stdout",
     "output_type": "stream",
     "text": [
      "5\n"
     ]
    }
   ],
   "source": [
    "# save the results to a variable\n",
    "result = add_two_numbers(1, 4)\n",
    "# print the variable\n",
    "print(result)"
   ]
  },
  {
   "cell_type": "markdown",
   "metadata": {
    "pycharm": {
     "name": "#%% md\n"
    }
   },
   "source": [
    "Let's look at the function below. Notice that the return value 5 is produced twice. Identify what part of the code yields to two results. "
   ]
  },
  {
   "cell_type": "code",
   "execution_count": 25,
   "metadata": {
    "pycharm": {
     "name": "#%%\n"
    }
   },
   "outputs": [],
   "source": [
    "# create a little addition function\n",
    "def addnprint_two_numbers(num1, num2):\n",
    "    \"\"\"\n",
    "    Function name: add_two_numbers\n",
    "    Parameter(s): num1, num2\n",
    "    Description: This function adds two numbers\n",
    "    Return: This function returns a sum of two numbers\n",
    "    \"\"\"\n",
    "    # add the two parameters and save to a new variable\n",
    "    sum_of_two_numbers = num1 + num2\n",
    "    #print the sum\n",
    "    print(sum_of_two_numbers)\n",
    "    # return that variable\n",
    "    return sum_of_two_numbers"
   ]
  },
  {
   "cell_type": "code",
   "execution_count": 26,
   "metadata": {
    "pycharm": {
     "name": "#%%\n"
    }
   },
   "outputs": [
    {
     "name": "stdout",
     "output_type": "stream",
     "text": [
      "5\n"
     ]
    }
   ],
   "source": [
    "result = addnprint_two_numbers(1, 4)\n",
    "print(result)"
   ]
  },
  {
   "cell_type": "markdown",
   "metadata": {
    "pycharm": {
     "name": "#%% md\n"
    }
   },
   "source": [
    "## Let's Give it a Try! \n",
    "\n",
    "Look at the code below. It's a function that calculates the average for a given list. \n",
    "1) Identify the definition name \n",
    "2) Identify the parameter(s) \n",
    "3) Identify the return statement \n",
    "4) Create a variable that saves the function return value, and print the variable \n",
    "\n",
    "Next, create a function that calcuates the area of a circle. Recall that the formula for area of a circle is A = π(r^2)"
   ]
  },
  {
   "cell_type": "code",
   "execution_count": 34,
   "metadata": {
    "pycharm": {
     "name": "#%%\n"
    }
   },
   "outputs": [],
   "source": [
    "def average (list_numbers):\n",
    "    base_sum = 0\n",
    "    for i in list_numbers:\n",
    "        base_sum = base_sum + i\n",
    "        \n",
    "    num_items = len(list_numbers)\n",
    "        \n",
    "    return base_sum/num_items"
   ]
  },
  {
   "cell_type": "code",
   "execution_count": 35,
   "metadata": {
    "pycharm": {
     "name": "#%%\n"
    }
   },
   "outputs": [
    {
     "data": {
      "text/plain": [
       "3.0"
      ]
     },
     "execution_count": 35,
     "metadata": {},
     "output_type": "execute_result"
    }
   ],
   "source": [
    "num = [1,2,3,4,5]\n",
    "average (num)"
   ]
  },
  {
   "cell_type": "markdown",
   "metadata": {
    "pycharm": {
     "name": "#%% md\n"
    }
   },
   "source": [
    "1) Identify the definition name \n",
    "2) Identify the parameter(s) \n",
    "3) Identify the return statement "
   ]
  },
  {
   "cell_type": "code",
   "execution_count": null,
   "metadata": {
    "pycharm": {
     "name": "#%%\n"
    }
   },
   "outputs": [],
   "source": [
    "## Edit the function to create a variable that saves the function return value, and print the variable "
   ]
  },
  {
   "cell_type": "code",
   "execution_count": null,
   "metadata": {
    "pycharm": {
     "name": "#%%\n"
    }
   },
   "outputs": [],
   "source": []
  },
  {
   "cell_type": "code",
   "execution_count": null,
   "metadata": {
    "pycharm": {
     "name": "#%%\n"
    }
   },
   "outputs": [],
   "source": [
    "## Create a function that caculates the area of a circle. "
   ]
  },
  {
   "cell_type": "code",
   "execution_count": null,
   "metadata": {
    "pycharm": {
     "name": "#%%\n"
    }
   },
   "outputs": [],
   "source": []
  },
  {
   "cell_type": "markdown",
   "metadata": {
    "pycharm": {
     "name": "#%% md\n"
    }
   },
   "source": [
    "## Important notes about functions\n",
    "\n",
    "When calling a function, you must pass values for each parameter in EXACTLY the same order as it appears in the parameter list. You can *only* pass the number of variables specified in the function definition. You'll notice the two examples below result in error messages. \n",
    "\n",
    "In the first example, there are 3 arguments, but when we defined the function, specify only two parameters. The second example also results in error because our defintion function asks to sum two arguments. Because you can't sum a string variable and an integer, it will result in an error message. "
   ]
  },
  {
   "cell_type": "code",
   "execution_count": 36,
   "metadata": {
    "pycharm": {
     "name": "#%%\n"
    }
   },
   "outputs": [
    {
     "ename": "TypeError",
     "evalue": "add_two_numbers() takes 2 positional arguments but 3 were given",
     "output_type": "error",
     "traceback": [
      "\u001b[1;31m---------------------------------------------------------------------------\u001b[0m",
      "\u001b[1;31mTypeError\u001b[0m                                 Traceback (most recent call last)",
      "\u001b[1;32m<ipython-input-36-d52a32ed5b41>\u001b[0m in \u001b[0;36m<module>\u001b[1;34m()\u001b[0m\n\u001b[1;32m----> 1\u001b[1;33m \u001b[0madd_two_numbers\u001b[0m\u001b[1;33m(\u001b[0m\u001b[1;36m1\u001b[0m\u001b[1;33m,\u001b[0m \u001b[1;36m3\u001b[0m\u001b[1;33m,\u001b[0m \u001b[1;36m5\u001b[0m\u001b[1;33m)\u001b[0m\u001b[1;33m\u001b[0m\u001b[0m\n\u001b[0m",
      "\u001b[1;31mTypeError\u001b[0m: add_two_numbers() takes 2 positional arguments but 3 were given"
     ]
    }
   ],
   "source": [
    "add_two_numbers(1, 3, 5)"
   ]
  },
  {
   "cell_type": "markdown",
   "metadata": {
    "pycharm": {
     "name": "#%% md\n"
    }
   },
   "source": [
    "* Functions don't automatically check the type of the variable\n",
    "* So type checking and transformation is important in python"
   ]
  },
  {
   "cell_type": "code",
   "execution_count": 37,
   "metadata": {
    "pycharm": {
     "name": "#%%\n"
    }
   },
   "outputs": [
    {
     "ename": "TypeError",
     "evalue": "must be str, not int",
     "output_type": "error",
     "traceback": [
      "\u001b[1;31m---------------------------------------------------------------------------\u001b[0m",
      "\u001b[1;31mTypeError\u001b[0m                                 Traceback (most recent call last)",
      "\u001b[1;32m<ipython-input-37-4334df071554>\u001b[0m in \u001b[0;36m<module>\u001b[1;34m()\u001b[0m\n\u001b[1;32m----> 1\u001b[1;33m \u001b[0madd_two_numbers\u001b[0m\u001b[1;33m(\u001b[0m\u001b[1;34m\"hello\"\u001b[0m\u001b[1;33m,\u001b[0m \u001b[1;36m5\u001b[0m\u001b[1;33m)\u001b[0m\u001b[1;33m\u001b[0m\u001b[0m\n\u001b[0m",
      "\u001b[1;32m<ipython-input-9-26accea52dc0>\u001b[0m in \u001b[0;36madd_two_numbers\u001b[1;34m(num1, num2)\u001b[0m\n\u001b[0;32m      8\u001b[0m     \"\"\"\n\u001b[0;32m      9\u001b[0m     \u001b[1;31m# add the two parameters and save to a new variable\u001b[0m\u001b[1;33m\u001b[0m\u001b[1;33m\u001b[0m\u001b[0m\n\u001b[1;32m---> 10\u001b[1;33m     \u001b[1;32mreturn\u001b[0m  \u001b[0mnum1\u001b[0m \u001b[1;33m+\u001b[0m \u001b[0mnum2\u001b[0m\u001b[1;33m\u001b[0m\u001b[0m\n\u001b[0m",
      "\u001b[1;31mTypeError\u001b[0m: must be str, not int"
     ]
    }
   ],
   "source": [
    "add_two_numbers(\"hello\", 5)"
   ]
  },
  {
   "cell_type": "markdown",
   "metadata": {
    "pycharm": {
     "name": "#%% md\n"
    }
   },
   "source": [
    "## Named parameters and arguments\n",
    "\n",
    "Sometimes, we want parameters to have default values, which are automatically assigned to a parameter. Other times, we want to pick and choose which parameters to pass into a function (have optional parameters). To address these two use cases, we can create functions with **named** or **keyword parameters** or **named** or **keyword arguments**.\n",
    "\n",
    "### Syntax for functions with named parameters:\n",
    "\n",
    "```\n",
    "def function_name( parameter_1_name = parameter_1_value, parameter_2_name = parameter_2_value ):\n",
    "\n",
    "    function code\n",
    "    more code\n",
    "    even more code\n",
    "\n",
    "    return [expression]\n",
    "```\n",
    "\n",
    "In the example below, we use the if and elif conditional statements to include a number of different operations, *add*, *subtract*, *multiply*, and *divide*. When we call the function, it automatically performs the add operation, unless specified. In the last line, we specify the operation in the paramter by asking the function to subtract. \n",
    "\n",
    "```Python\n",
    "\n",
    "def do_math_with_two_numbers(num1, num2, operation = \"add\"):\n",
    "    \"\"\"Perform specified operation on parameters.\"\"\"\n",
    "    if operation == \"add\":\n",
    "        result = num1 + num2\n",
    "    elif operation == \"subtract\":\n",
    "        result = num1 - num2\n",
    "    elif operation == \"multiply\":\n",
    "        result = num1 * num2\n",
    "    elif operation == \"divide\":\n",
    "        result = num1 / num2\n",
    "    return result\n",
    "\n",
    "test = do_math_with_two_numbers(5, 10)\n",
    "print(test)\n",
    "\n",
    "\n",
    "test = do_math_with_two_numbers(5, 10, operation=\"subtract\")\n",
    "print(test)\n",
    "```"
   ]
  },
  {
   "cell_type": "markdown",
   "metadata": {
    "pycharm": {
     "name": "#%% md\n"
    }
   },
   "source": [
    "## Naming the operations\n",
    "\n",
    "In the example below, we name the operation and include it in the paramter. Run the two lines to see the results. "
   ]
  },
  {
   "cell_type": "code",
   "execution_count": 39,
   "metadata": {
    "pycharm": {
     "name": "#%%\n"
    }
   },
   "outputs": [],
   "source": [
    "# Note that \"operation\" is a named parameter.  \n",
    "# It has a default value of \"add\" and can be skipped alltogether\n",
    "def do_math_with_two_numbers(num1, num2, operation = \"add\"):\n",
    "    \"\"\"Perform specified operation on parameters.\"\"\"\n",
    "    if operation == \"add\":\n",
    "        result = num1 + num2\n",
    "    elif operation == \"subtract\":\n",
    "        result = num1 - num2\n",
    "    elif operation == \"multiply\":\n",
    "        result = num1 * num2\n",
    "    elif operation == \"divide\":\n",
    "        result = num1 / num2\n",
    "    return result"
   ]
  },
  {
   "cell_type": "code",
   "execution_count": 40,
   "metadata": {
    "pycharm": {
     "name": "#%%\n"
    }
   },
   "outputs": [
    {
     "name": "stdout",
     "output_type": "stream",
     "text": [
      "15\n",
      "-5\n"
     ]
    }
   ],
   "source": [
    "# Call the function without the named parameter\n",
    "test = do_math_with_two_numbers(5, 10)\n",
    "print(test)\n",
    "\n",
    "# Call the function with the named parameter\n",
    "test = do_math_with_two_numbers(5, 10, operation=\"subtract\")\n",
    "print(test)\n",
    "\n"
   ]
  },
  {
   "cell_type": "markdown",
   "metadata": {
    "pycharm": {
     "name": "#%% md\n"
    }
   },
   "source": [
    "## Naming the arguments. \n",
    "\n",
    "In this example, we define a function to caculate the area of a triangle. In the paramters, we specify the value for each parameter. "
   ]
  },
  {
   "cell_type": "code",
   "execution_count": 47,
   "metadata": {
    "pycharm": {
     "name": "#%%\n"
    }
   },
   "outputs": [
    {
     "data": {
      "text/plain": [
       "15.0"
      ]
     },
     "execution_count": 47,
     "metadata": {},
     "output_type": "execute_result"
    }
   ],
   "source": [
    "def triangle (b, h):\n",
    "    area_triangle = (b*h)/2\n",
    "    return area_triangle\n",
    "\n",
    "triangle (b=3, h=10)\n",
    "\n"
   ]
  },
  {
   "cell_type": "markdown",
   "metadata": {
    "pycharm": {
     "name": "#%% md\n"
    }
   },
   "source": [
    "## Why do you name parameters? \n",
    "\n",
    "Sometimes it's necessary to assign specific names to the paramters and arguments, especially when order matters. In the example, where we ask the function to calculate the area of a triangle, the order of the arguments, and which value was assigned to which parameter doesn't matter. Let's run the function again, one with positional arguments and one with named or keyword arguments.\n",
    "Even though we switch the value of b and h, the area of the triangle isn't affected, both functions return 15. But, there are instances in which matter orders. \n",
    "\n",
    "```Python\n",
    "\n",
    "def triangle (b, h):\n",
    "    area_triangle = (b*h)/2\n",
    "    return area_triangle\n",
    "\n",
    "triangle (b=3, h=10)\n",
    "```\n",
    "\n",
    "```Python\n",
    "def triangle (b, h):\n",
    "    area_triangle = (b*h)/2\n",
    "    return area_triangle\n",
    "\n",
    "triangle (10, 3)\n",
    "```"
   ]
  },
  {
   "cell_type": "code",
   "execution_count": 50,
   "metadata": {
    "pycharm": {
     "name": "#%%\n"
    }
   },
   "outputs": [
    {
     "data": {
      "text/plain": [
       "15.0"
      ]
     },
     "execution_count": 50,
     "metadata": {},
     "output_type": "execute_result"
    }
   ],
   "source": [
    "def triangle (b, h):\n",
    "    area_triangle = (b*h)/2\n",
    "    return area_triangle\n",
    "\n",
    "triangle (b=3, h=10)"
   ]
  },
  {
   "cell_type": "code",
   "execution_count": 51,
   "metadata": {
    "pycharm": {
     "name": "#%%\n"
    }
   },
   "outputs": [
    {
     "data": {
      "text/plain": [
       "15.0"
      ]
     },
     "execution_count": 51,
     "metadata": {},
     "output_type": "execute_result"
    }
   ],
   "source": [
    "def triangle (b, h):\n",
    "    area_triangle = (b*h)/2\n",
    "    return area_triangle\n",
    "\n",
    "triangle (10, 3)"
   ]
  },
  {
   "cell_type": "markdown",
   "metadata": {
    "pycharm": {
     "name": "#%% md\n"
    }
   },
   "source": [
    "### When order matters! \n",
    "\n",
    "When order matters, that's when named or keyword arguments come in handy! In the example below, the order of the string variables are important! Within the parameters of the function, we explicitly indicate that firstname comes before lastname. When we call functions and leverage named or keyword arugments, it doesn't matter which argument goes first because we have already assigned specific values for *firstname* and *lastname*. The order of the *named arguments* does not matter when we call the function. However if we do not use *named arguments* when calling the functions, we have to be make sure the order is correct! \n",
    "\n",
    "**Examples Using Named Arguments** \n",
    " \n",
    "```Python \n",
    "def voicemail (firstname, lastname):\n",
    "    voicemail_msg = \"Hello, you have reached: \" +  firstname + lastname\n",
    "    return voicemail_msg\n",
    "\n",
    "voicemail (firstname=\"Mary \", lastname =\"Smith\")\n",
    "```\n",
    "**Changing the order of the named arguments** \n",
    "```Python\n",
    "def voicemail (firstname, lastname):\n",
    "    voicemail_msg = \"Hello, you have reached: \" +  firstname + lastname\n",
    "    return voicemail_msg\n",
    "\n",
    "voicemail (lastname =\"Smith\" firstname=\"Mary \")\n",
    "``` \n",
    "\n",
    "**Examples with Positional Arguments**: \n",
    "```Python \n",
    "def voicemail (firstname, lastname):\n",
    "    voicemail_msg = \"Hello, you have reached: \" +  firstname + lastname\n",
    "    return voicemail_msg\n",
    "\n",
    "voicemail (\"Smith \", \"Mary\")\n",
    "```\n"
   ]
  },
  {
   "cell_type": "code",
   "execution_count": 59,
   "metadata": {
    "pycharm": {
     "name": "#%%\n"
    }
   },
   "outputs": [
    {
     "data": {
      "text/plain": [
       "'Hello, you have reached: Mary Smith'"
      ]
     },
     "execution_count": 59,
     "metadata": {},
     "output_type": "execute_result"
    }
   ],
   "source": [
    "def voicemail (firstname, lastname):\n",
    "    voicemail_msg = \"Hello, you have reached: \" +  firstname + lastname\n",
    "    return voicemail_msg\n",
    "\n",
    "voicemail (firstname=\"Mary \", lastname =\"Smith\")\n"
   ]
  },
  {
   "cell_type": "code",
   "execution_count": 66,
   "metadata": {
    "pycharm": {
     "name": "#%%\n"
    },
    "scrolled": true
   },
   "outputs": [
    {
     "data": {
      "text/plain": [
       "'Hello, you have reached: Mary Smith'"
      ]
     },
     "execution_count": 66,
     "metadata": {},
     "output_type": "execute_result"
    }
   ],
   "source": [
    "voicemail (lastname =\"Smith\", firstname=\"Mary \")"
   ]
  },
  {
   "cell_type": "code",
   "execution_count": 67,
   "metadata": {
    "pycharm": {
     "name": "#%%\n"
    }
   },
   "outputs": [
    {
     "data": {
      "text/plain": [
       "'Hello, you have reached: Smith Mary'"
      ]
     },
     "execution_count": 67,
     "metadata": {},
     "output_type": "execute_result"
    }
   ],
   "source": [
    "voicemail (\"Smith \", \"Mary\")"
   ]
  },
  {
   "cell_type": "markdown",
   "metadata": {
    "pycharm": {
     "name": "#%% md\n"
    }
   },
   "source": [
    "## Let's give it a try! \n",
    "\n",
    "Let's create a function in which you print a street address. In this case, order matters; provide the street number, name and end with the zipcode! The following code uses positional arguments. Rewrite the code to use named arguments instead. \n",
    "\n",
    "\n",
    "``` Python\n",
    "def address (x, y, z):\n",
    "    myaddress = print(x, y, z)\n",
    "    return myaddress\n",
    "\n",
    "address (15, \"Oak St\", 15260)\n",
    "```\n",
    "\n"
   ]
  },
  {
   "cell_type": "code",
   "execution_count": 107,
   "metadata": {
    "pycharm": {
     "name": "#%%\n"
    }
   },
   "outputs": [
    {
     "name": "stdout",
     "output_type": "stream",
     "text": [
      "15 Oak St 15260\n"
     ]
    }
   ],
   "source": [
    "## positional arguments \n",
    "def address (x, y, z):\n",
    "    myaddress = print(x, y, z)\n",
    "    return myaddress\n",
    "\n",
    "address (15, \"Oak St\", 15260)\n"
   ]
  },
  {
   "cell_type": "code",
   "execution_count": null,
   "metadata": {
    "pycharm": {
     "name": "#%%\n"
    }
   },
   "outputs": [],
   "source": [
    "## Rewrite the code using named arguments \n",
    "\n"
   ]
  },
  {
   "cell_type": "markdown",
   "metadata": {
    "pycharm": {
     "name": "#%% md\n"
    }
   },
   "source": [
    "## Anonymous Functions: Learning about Lambda! \n",
    "\n",
    "Lambdas are another way to devise a function. The lambda keyword is used to create *anonymous functions*, whereas with standard functions, we create a function name using the `def` statement. Lambda or anonymous functions are handy for simple and concise operations e.g. double, square, and exclaim\n",
    "\n",
    "**Syntax:**\n",
    "```\n",
    "lambda arguments: expression \n",
    "``` \n",
    "\n",
    "Let's look at a function that squares a given a number. We can perform the same operation using anonymous functions.  In the example below, we begin with lambda, which starts the anonymous function. `x` names a single input, use `x, y` for multiple inputs. `:` separates the inputs from the body.`x * 2` is the expression or the body of the function that gets evaluated. It has no name and therefore returns a function object if we run it. Therefore, we assign the lambda function to the variable name *square*.\n",
    "\n",
    "```Python \n",
    "def square (x):\n",
    "    return square_num = x**2\n",
    "\n",
    "square (5)\n",
    "```\n",
    "\n",
    "```python\n",
    "lambda x: x * 2\n",
    "```\n",
    "\n",
    "**Assigning the lambda function to the variable name square:**\n",
    "```Python\n",
    "square = lambda x: x ** 2\n",
    "square(5)\n",
    "```"
   ]
  },
  {
   "cell_type": "code",
   "execution_count": 109,
   "metadata": {
    "pycharm": {
     "name": "#%%\n"
    }
   },
   "outputs": [
    {
     "data": {
      "text/plain": [
       "25"
      ]
     },
     "execution_count": 109,
     "metadata": {},
     "output_type": "execute_result"
    }
   ],
   "source": [
    "## a regular function to square a number \n",
    "def square (x):\n",
    "    square_num  = x**2\n",
    "    return square_num\n",
    "\n",
    "square (5)"
   ]
  },
  {
   "cell_type": "code",
   "execution_count": 125,
   "metadata": {
    "pycharm": {
     "name": "#%%\n"
    }
   },
   "outputs": [
    {
     "data": {
      "text/plain": [
       "<function __main__.<lambda>(x)>"
      ]
     },
     "execution_count": 125,
     "metadata": {},
     "output_type": "execute_result"
    }
   ],
   "source": [
    "# On its own, it's an anonymous function and will not print \n",
    "lambda x: x * 2\n"
   ]
  },
  {
   "cell_type": "code",
   "execution_count": 113,
   "metadata": {
    "pycharm": {
     "name": "#%%\n"
    }
   },
   "outputs": [
    {
     "data": {
      "text/plain": [
       "25"
      ]
     },
     "execution_count": 113,
     "metadata": {},
     "output_type": "execute_result"
    }
   ],
   "source": [
    "## Using lambda, we assign it to a variable called square \n",
    "square = lambda x: x ** 2\n",
    "square(5)"
   ]
  },
  {
   "cell_type": "markdown",
   "metadata": {
    "pycharm": {
     "name": "#%% md\n"
    }
   },
   "source": [
    "## Built-in functions within Lambdas\n",
    "\n",
    "There are also a number of built in functions that can help leverage the power of lambda functions. For example `map` and `filter`\n",
    "\n",
    "For example `map` can allow you to perform a function over a list. Let's look at the example below, in which the lambda function goes through every item in the list and divides by 2. \n",
    "\n",
    "\n",
    "```Python \n",
    "numbers = [10, 12, 14, 16, 18, 20]\n",
    "divide_two = list(map(lambda x: x/2, numbers))\n",
    "print(divide_two)\n",
    "``` \n",
    "\n",
    "The `filter` function iterates over a list and creates a new list given the function evaluates it as true. In the example below, the lambda function creates a condition, in which it evaluates the length of the the names. For names that have more than 3 characters, they are assigned to a new list, *long_names*. \n",
    "\n",
    "```Python \n",
    "names = [\"Mia\", \"Elizabeth\", \"Joe\", \"Catherine\", \"Aaron\"]\n",
    "\n",
    "long_names = list(filter(lambda x: len(x)>3, names))\n",
    "print(long_names)\n",
    "                      \n",
    "```"
   ]
  },
  {
   "cell_type": "code",
   "execution_count": 127,
   "metadata": {
    "pycharm": {
     "name": "#%%\n"
    }
   },
   "outputs": [
    {
     "name": "stdout",
     "output_type": "stream",
     "text": [
      "[5.0, 6.0, 7.0, 8.0, 9.0, 10.0]\n"
     ]
    }
   ],
   "source": [
    "numbers = [10, 12, 14, 16, 18, 20]\n",
    "divide_two = list(map(lambda x: x/2, numbers))\n",
    "print(divide_two)"
   ]
  },
  {
   "cell_type": "code",
   "execution_count": 130,
   "metadata": {
    "pycharm": {
     "name": "#%%\n"
    }
   },
   "outputs": [
    {
     "name": "stdout",
     "output_type": "stream",
     "text": [
      "['Elizabeth', 'Catherine', 'Aaron']\n"
     ]
    }
   ],
   "source": [
    "names = [\"Mia\", \"Elizabeth\", \"Joe\", \"Catherine\", \"Aaron\"]\n",
    "\n",
    "long_names = list(filter(lambda x: len(x)>3, names))\n",
    "print(long_names)\n",
    "                   "
   ]
  },
  {
   "cell_type": "markdown",
   "metadata": {
    "pycharm": {
     "name": "#%% md\n"
    }
   },
   "source": [
    "## Let's give it a try!\n",
    "\n",
    "Transform the standard function into a lambda function:\n",
    "\n",
    "```Python \n",
    "def string (x):\n",
    "    new_string = str(x) \n",
    "    return new_string\n",
    "\n",
    "string_var = string(x) \n",
    "type(string_var)\n",
    "```\n"
   ]
  },
  {
   "cell_type": "code",
   "execution_count": 117,
   "metadata": {
    "pycharm": {
     "name": "#%%\n"
    }
   },
   "outputs": [
    {
     "name": "stdout",
     "output_type": "stream",
     "text": [
      "8\n"
     ]
    },
    {
     "data": {
      "text/plain": [
       "str"
      ]
     },
     "execution_count": 117,
     "metadata": {},
     "output_type": "execute_result"
    }
   ],
   "source": [
    "def string (x):\n",
    "    new_string = str(x) \n",
    "    return new_string\n",
    "\n",
    "string_var = string(8) \n",
    "print(string_var)\n",
    "type(string_var)\n"
   ]
  },
  {
   "cell_type": "code",
   "execution_count": null,
   "metadata": {
    "pycharm": {
     "name": "#%%\n"
    }
   },
   "outputs": [],
   "source": [
    "## Transform the above standard function into a lambda function\n",
    "\n"
   ]
  },
  {
   "cell_type": "markdown",
   "metadata": {
    "pycharm": {
     "name": "#%% md\n"
    }
   },
   "source": [
    "## Practice Questions\n",
    "\n",
    "If you get stuck, scroll to the bottom for the answers! \n",
    "\n"
   ]
  },
  {
   "cell_type": "markdown",
   "metadata": {
    "pycharm": {
     "name": "#%% md\n"
    }
   },
   "source": [
    "**Question 1**: Write a function, computepay, that takes two parameters (hours and rate), computes someone's weekly pay, and returns that number. Note, because we are not robber barons looking to exploit the labor of the proletariat the function should compute time-and-a-half for overtime above 40.\n",
    "\n",
    "Remember the syntax for writing function is:\n",
    "\n",
    "def function_name(parameter_1, parameter_2):\n",
    "\"\"\"Documentation string\"\"\"\n",
    "\n",
    "    function code\n",
    "    more code\n",
    "    even more code\n",
    "\n",
    "    return [expression]\n",
    "Computational Thinking\n",
    "Define the function with the proper signature\n",
    "Check to see if the number of hours is over 40\n"
   ]
  },
  {
   "cell_type": "code",
   "execution_count": null,
   "metadata": {
    "pycharm": {
     "name": "#%%\n"
    }
   },
   "outputs": [],
   "source": [
    "### Write your function code here\n"
   ]
  },
  {
   "cell_type": "code",
   "execution_count": null,
   "metadata": {
    "pycharm": {
     "name": "#%%\n"
    }
   },
   "outputs": [],
   "source": [
    "# Test the computepay function\n",
    "pay = computepay(40, 10)\n",
    "print(pay) # should be 400"
   ]
  },
  {
   "cell_type": "code",
   "execution_count": null,
   "metadata": {
    "pycharm": {
     "name": "#%%\n"
    }
   },
   "outputs": [],
   "source": [
    "# Test the computepay function\n",
    "pay = computepay(60, 15)\n",
    "print(pay) # should be 1050.0"
   ]
  },
  {
   "cell_type": "raw",
   "metadata": {
    "pycharm": {
     "name": "#%% raw\n"
    }
   },
   "source": []
  },
  {
   "cell_type": "raw",
   "metadata": {
    "pycharm": {
     "name": "#%% raw\n"
    }
   },
   "source": []
  },
  {
   "cell_type": "markdown",
   "metadata": {
    "pycharm": {
     "name": "#%% md\n"
    }
   },
   "source": [
    "**Question 2** Create a function using named arguments. Create a function that calculates a person's Body Mass Index (BMI). \n",
    "BMI = kg/(meter)^2 \n",
    "\n",
    "Order matters; it is imperative that the values you assign to weight and height match accordingly. \n",
    "\n",
    "Start with you `def` statement:\n",
    "\n",
    "```Python\n",
    "def bmi (weight, height):\n",
    "```\n",
    "   "
   ]
  },
  {
   "cell_type": "code",
   "execution_count": null,
   "metadata": {
    "pycharm": {
     "name": "#%%\n"
    }
   },
   "outputs": [],
   "source": [
    "# Write your code here to calculate BMI \n",
    "\n"
   ]
  },
  {
   "cell_type": "code",
   "execution_count": null,
   "metadata": {
    "pycharm": {
     "name": "#%%\n"
    }
   },
   "outputs": [],
   "source": []
  },
  {
   "cell_type": "markdown",
   "metadata": {
    "pycharm": {
     "name": "#%% md\n"
    }
   },
   "source": [
    "**Question 3** Create a new list using a `lambda` function and `filter` the list below to identify the \"above average\" grades. Remember to calculate the average grade from the list. \n",
    "\n",
    "```Python\n",
    "\n",
    "grades = [80, 93, 75, 79, 88, 97, 70, 85, 90]\n",
    "\n",
    "```"
   ]
  },
  {
   "cell_type": "code",
   "execution_count": null,
   "metadata": {
    "pycharm": {
     "name": "#%%\n"
    }
   },
   "outputs": [],
   "source": [
    "## Create a new list of above average students using a lambda function and filter\n",
    "\n",
    "grades = [80, 93, 75, 79, 88, 97, 70, 85, 90]\n",
    " "
   ]
  },
  {
   "cell_type": "markdown",
   "metadata": {
    "pycharm": {
     "name": "#%% md\n"
    }
   },
   "source": [
    "### Answers"
   ]
  },
  {
   "cell_type": "code",
   "execution_count": null,
   "metadata": {
    "pycharm": {
     "name": "#%%\n"
    }
   },
   "outputs": [],
   "source": [
    "## Answer to Question 1:\n",
    "\n",
    "def computepay(hours, rate):\n",
    "    if hours > 40:\n",
    "        overtime = hours - 40\n",
    "        pay = (40 * rate) + (overtime * (rate * 1.5))\n",
    "    else:\n",
    "        pay = hours * rate\n",
    "    return pay"
   ]
  },
  {
   "cell_type": "code",
   "execution_count": 71,
   "metadata": {
    "pycharm": {
     "name": "#%%\n"
    }
   },
   "outputs": [
    {
     "data": {
      "text/plain": [
       "28.88888888888889"
      ]
     },
     "execution_count": 71,
     "metadata": {},
     "output_type": "execute_result"
    }
   ],
   "source": [
    "## Answer to Question 2\n",
    "\n",
    "def bmi (weight, height):\n",
    "    bmi_formula= weight/(height**2) \n",
    "    return  bmi_formula\n",
    "\n",
    "bmi  (height =1.5, weight = 65)"
   ]
  },
  {
   "cell_type": "code",
   "execution_count": 138,
   "metadata": {
    "pycharm": {
     "name": "#%%\n"
    }
   },
   "outputs": [
    {
     "name": "stdout",
     "output_type": "stream",
     "text": [
      "[93, 88, 97, 85, 90]\n"
     ]
    }
   ],
   "source": [
    "## Answer to Question 3\n",
    "\n",
    "grades = [80, 93, 75, 79, 88, 97, 70, 85, 90]\n",
    "\n",
    "average = (sum(grades))/(len(grades))\n",
    "\n",
    "above_avg = list(filter(lambda x: x> average,grades))\n",
    "\n",
    "\n",
    "## Can also be written out more succinctly:\n",
    "above_avg = list(filter(lambda x: x> (sum(grades))/(len(grades)) ,grades))\n",
    "print(above_avg)\n",
    "                        "
   ]
  }
 ],
 "metadata": {
  "kernelspec": {
   "display_name": "Python 3 (ipykernel)",
   "language": "python",
   "name": "python3"
  },
  "language_info": {
   "codemirror_mode": {
    "name": "ipython",
    "version": 3
   },
   "file_extension": ".py",
   "mimetype": "text/x-python",
   "name": "python",
   "nbconvert_exporter": "python",
   "pygments_lexer": "ipython3",
   "version": "3.9.12"
  },
  "toc-autonumbering": true
 },
 "nbformat": 4,
 "nbformat_minor": 4
}
