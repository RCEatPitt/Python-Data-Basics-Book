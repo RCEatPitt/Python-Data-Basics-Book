{
 "cells": [
  {
   "cell_type": "markdown",
   "metadata": {
    "pycharm": {
     "name": "#%% md\n"
    }
   },
   "source": [
    "# Python Data Structures \n",
    "\n",
    "In this module we will be covering the following topics. \n",
    "\n",
    "* Lists\n",
    "* Tuples \n",
    "* Dictionaries \n",
    "\n",
    "We'll review what they are and different codes and syntax required to edit the contents within these various data structures. \n"
   ]
  },
  {
   "cell_type": "markdown",
   "metadata": {
    "pycharm": {
     "name": "#%% md\n"
    }
   },
   "source": [
    "## Lists\n",
    "\n",
    "Lists are a datatype that contain multiple values, which are ordered sequentially. A list can contain string, integers, non-integers and Boolean variables as well as a mix of variable types. In the examples below, list1 contains only string variables, list2 contains integers and list 4 contains a mix. In list4, the first two items in a list are integers, the next 3 items are string and the last item is a Boolean variable type. \n",
    "\n",
    "```Python\n",
    "\n",
    "list4 = [\"1\", \"2\", \"x\", \"y\", \"z\", True] \n",
    "\n",
    "``` \n",
    "\n",
    "You will also notice the special syntax used to create lists. The items in your list must be contained within square brackets `[]`. Each item is separated by a comma `,`. Similar to assigning a value to a variable, the `=` sign to assign a list to a variable. \n",
    "\n",
    "\n"
   ]
  },
  {
   "cell_type": "code",
   "execution_count": 1,
   "metadata": {
    "pycharm": {
     "name": "#%%\n"
    }
   },
   "outputs": [],
   "source": [
    "# Examples of Lists \n",
    "list1 = ['apples', 'oranges', 'pears', 'peaches'];\n",
    "list2 = [1, 2, 3, 4, 5];\n",
    "list3 = [\"a\", \"b\", \"c\", \"d\"]\n",
    "# Note that the following list contains mixed data types\n",
    "list4 = [\"1\", \"2\", \"x\", \"y\", \"z\", True] \n"
   ]
  },
  {
   "cell_type": "markdown",
   "metadata": {
    "pycharm": {
     "name": "#%% md\n"
    }
   },
   "source": [
    "### Disecting a list \n",
    "\n",
    "\n",
    "Let's explore the `index` and `len` function to further disect a list \n",
    "\n",
    "\n",
    "In a list, each item is assigned a position or *index*. The first item in the list is zero, the second item is one and so forth. In the list below, apples is assigned an index position of 0, oranges is assigned an index position of 1, pears is assigned an index position of 2. \n",
    "\n",
    "\n",
    "\n",
    "```Python\n",
    "\n",
    "list1 = ['apples', 'oranges', 'pears', 'peaches'];\n",
    "\n",
    "``` \n",
    "\n"
   ]
  },
  {
   "cell_type": "markdown",
   "metadata": {
    "pycharm": {
     "name": "#%% md\n"
    }
   },
   "source": [
    "###  Accessing Values in Lists \n",
    "\n",
    "To identify or access a specific element in the a list, we can use a number of different tools. Because in a list, each item is assigned an index value we can use the index number to identify the item. As previously mentioned the first item in a list is indexed 0, we can identify the first item by placing `[0]` within the argument of a print function. To identify the last item in a list, place `[-1]` in the print function. The second last item in a list is given the index value of -2, the third last item, -3 and so on. \n",
    "\n",
    "```Python\n",
    "fruits = ['apples', 'oranges', 'pears', 'peaches', 'berries']\n",
    "print(fruits[0]) # Get the first element of the list\n",
    "print(fruits[-1]) # Get the last element of the list\n",
    "``` "
   ]
  },
  {
   "cell_type": "code",
   "execution_count": 12,
   "metadata": {
    "pycharm": {
     "name": "#%%\n"
    }
   },
   "outputs": [
    {
     "name": "stdout",
     "output_type": "stream",
     "text": [
      "apples\n",
      "berries\n"
     ]
    }
   ],
   "source": [
    "fruits = ['apples', 'oranges', 'pears', 'peaches', 'berries']\n",
    "print(fruits[0]) # Get the first element of the list\n",
    "print(fruits[-1]) # Get the last element of the list"
   ]
  },
  {
   "cell_type": "markdown",
   "metadata": {
    "pycharm": {
     "name": "#%% md\n"
    }
   },
   "source": [
    "#### Try it yourself! \n",
    "\n",
    "In the line below, create a list of any variable type. Identify the second to last item on the list. \n",
    "\n"
   ]
  },
  {
   "cell_type": "code",
   "execution_count": null,
   "metadata": {
    "pycharm": {
     "name": "#%%\n"
    }
   },
   "outputs": [],
   "source": []
  },
  {
   "cell_type": "markdown",
   "metadata": {
    "pycharm": {
     "name": "#%% md\n"
    }
   },
   "source": [
    "The `index()` function returns the index position of any specified element in the list. Using the fruits example, we can find the index position of any the items by firstly creating a new variable, in this case *fruits_index*.  \n",
    "\n",
    "```Python \n",
    "fruits = ['apples', 'oranges', 'pears', 'peaches', 'berries']\n",
    "\n",
    "fruits_index = fruits.index('pears') \n",
    "print(fruits_index) \n",
    "```"
   ]
  },
  {
   "cell_type": "code",
   "execution_count": 3,
   "metadata": {
    "pycharm": {
     "name": "#%%\n"
    }
   },
   "outputs": [
    {
     "name": "stdout",
     "output_type": "stream",
     "text": [
      "2\n"
     ]
    }
   ],
   "source": [
    "fruits = ['apples', 'oranges', 'pears', 'peaches', 'berries']\n",
    "\n",
    "fruits_index = fruits.index('pears') \n",
    "print(fruits_index)"
   ]
  },
  {
   "cell_type": "markdown",
   "metadata": {
    "pycharm": {
     "name": "#%% md\n"
    }
   },
   "source": [
    "#### Try it yourself! \n",
    "\n",
    "In the line below, use the `index` function to find the index position of *'peaches'*. \n",
    "\n"
   ]
  },
  {
   "cell_type": "code",
   "execution_count": null,
   "metadata": {
    "pycharm": {
     "name": "#%%\n"
    }
   },
   "outputs": [],
   "source": [
    "## Identify the index position of \n",
    "fruits = ['apples', 'oranges', 'pears', 'peaches', 'berries']"
   ]
  },
  {
   "cell_type": "markdown",
   "metadata": {
    "pycharm": {
     "name": "#%% md\n"
    }
   },
   "source": [
    "### Leveraging len() \n",
    "\n",
    "The len(list) function will count the number of items in the list. Run the code below to see how Python returns the number of items in a list. While we can see ourselves that there are only 4 items in *list2* for instance, there may be times in which the list is extremely long and it would be tedious to count each item. \n",
    "\n",
    "```Python \n",
    "list2 = [1, 2, 3, 4, 5]\n",
    "len(list2)\n",
    "```\n",
    "\n",
    " \n"
   ]
  },
  {
   "cell_type": "code",
   "execution_count": 11,
   "metadata": {
    "pycharm": {
     "name": "#%%\n"
    }
   },
   "outputs": [
    {
     "data": {
      "text/plain": [
       "5"
      ]
     },
     "execution_count": 11,
     "metadata": {},
     "output_type": "execute_result"
    }
   ],
   "source": [
    "list2 = [1, 2, 3, 4, 5]\n",
    "len(list2)"
   ]
  },
  {
   "cell_type": "code",
   "execution_count": 7,
   "metadata": {
    "pycharm": {
     "name": "#%%\n"
    }
   },
   "outputs": [
    {
     "data": {
      "text/plain": [
       "4"
      ]
     },
     "execution_count": 7,
     "metadata": {},
     "output_type": "execute_result"
    }
   ],
   "source": [
    "list5 = [1, 3.5, \"derp\", [\"a\", \"nested\", \"list\", \"of\", \"strings\"]]\n",
    "len(list5)"
   ]
  },
  {
   "cell_type": "markdown",
   "metadata": {
    "pycharm": {
     "name": "#%% md\n"
    }
   },
   "source": [
    "### Creating a list within a list\n",
    "\n",
    "The structure of lists also allows you to create a list within a list. You will notice the third item in list5 below is a list itself. You will notice that for list5, which contains a list within a list, when you use the `len()` function to count the number of elements, the embedded list is indexed as the 4th item. \n",
    "\n",
    "```Python\n",
    "\n",
    "list5 = [1, 3.5, \"derp\", [\"a\", \"nested\", \"list\", \"of\", \"strings\"]]\n",
    "\n",
    "```"
   ]
  },
  {
   "cell_type": "code",
   "execution_count": 26,
   "metadata": {
    "pycharm": {
     "name": "#%%\n"
    }
   },
   "outputs": [
    {
     "data": {
      "text/plain": [
       "4"
      ]
     },
     "execution_count": 26,
     "metadata": {},
     "output_type": "execute_result"
    }
   ],
   "source": [
    "list5 = [1, 3.5, \"derp\", [\"a\", \"nested\", \"list\", \"of\", \"strings\"]]\n",
    "len(list5)"
   ]
  },
  {
   "cell_type": "markdown",
   "metadata": {
    "pycharm": {
     "name": "#%% md\n"
    }
   },
   "source": [
    "### Sorting Lists \n",
    "\n",
    "The sort function allows you to rearrange the items in a list. By default, it will rearrange the items in ascending order. In the example below, sorting the price variable will arrange the list from lowest to highest. For string variables, the sorting function will arrange the items in alphabetical order. Run the following examples to see how the `sorted()` method rearranges items in he *fruits* list and the *price* list. \n",
    "\n",
    "```Python\n",
    "price = [1.55, 2.99, 1.25, 2.25, 4.99] \n",
    "sorted_price = sorted(price)\n",
    "print(sorted_price) \n",
    "``` \n",
    "\n",
    "```Python\n",
    "fruits = ['apples', 'oranges', 'pears', 'peaches', 'berries'];\n",
    "sorted_fruits = sorted(fruits)\n",
    "print(sorted_fruits)\n",
    "``` \n"
   ]
  },
  {
   "cell_type": "code",
   "execution_count": 15,
   "metadata": {
    "pycharm": {
     "name": "#%%\n"
    }
   },
   "outputs": [
    {
     "name": "stdout",
     "output_type": "stream",
     "text": [
      "[1.25, 1.55, 2.25, 2.99, 4.99]\n"
     ]
    }
   ],
   "source": [
    "price = [1.55, 2.99, 1.25, 2.25, 4.99] \n",
    "sorted_price = sorted(price)\n",
    "print(sorted_price) "
   ]
  },
  {
   "cell_type": "code",
   "execution_count": 4,
   "metadata": {
    "pycharm": {
     "name": "#%%\n"
    }
   },
   "outputs": [
    {
     "name": "stdout",
     "output_type": "stream",
     "text": [
      "['apples', 'berries', 'oranges', 'peaches', 'pears']\n"
     ]
    }
   ],
   "source": [
    "fruits = ['apples', 'oranges', 'pears', 'peaches', 'berries'];\n",
    "sorted_fruits = sorted(fruits)\n",
    "print(sorted_fruits)"
   ]
  },
  {
   "cell_type": "markdown",
   "metadata": {
    "pycharm": {
     "name": "#%% md\n"
    }
   },
   "source": [
    "By default, the items will be sorted in ascending order, but you can also reverse the order of the list. The sort function can include the *reverse* parameter. \n",
    "\n",
    "```Python\n",
    "price = [1.55, 2.99, 1.25, 2.25, 4.99] \n",
    "price_descend = sorted (fruits, reverse=True)\n",
    "print(price_descend)\n",
    "```\n",
    "\n",
    "``` Python\n",
    "fruits = ['apples', 'oranges', 'pears', 'peaches', 'berries']\n",
    "fruits_descend = sorted (fruits, reverse=True)\n",
    "print(fruits_descend) \n",
    "``` "
   ]
  },
  {
   "cell_type": "code",
   "execution_count": 21,
   "metadata": {
    "pycharm": {
     "name": "#%%\n"
    }
   },
   "outputs": [
    {
     "name": "stdout",
     "output_type": "stream",
     "text": [
      "[4.99, 2.99, 2.25, 1.55, 1.25]\n"
     ]
    }
   ],
   "source": [
    "price = [1.55, 2.99, 1.25, 2.25, 4.99] \n",
    "price_descend = sorted (price, reverse=True)\n",
    "print(price_descend)"
   ]
  },
  {
   "cell_type": "code",
   "execution_count": null,
   "metadata": {
    "pycharm": {
     "name": "#%%\n"
    }
   },
   "outputs": [],
   "source": [
    "fruits = ['apples', 'oranges', 'pears', 'peaches', 'berries'];\n",
    "fruits_descend = sorted (fruits, reverse=True)\n",
    "print(fruits_descend) "
   ]
  },
  {
   "cell_type": "markdown",
   "metadata": {
    "pycharm": {
     "name": "#%% md\n"
    }
   },
   "source": [
    "In the example above, we use the `sorted()` method to reorder the items in the list. Alternatively we can use the `sort()` method to perform the same function. The one key difference is that the `sort()` method changes the original variable. By constrast the `sorted()` requires you to create a new variable. \n",
    "\n",
    "```Python \n",
    "price = [1.55, 2.99, 1.25, 2.25, 4.99] \n",
    "price.sort()\n",
    "print (price) \n",
    "```\n",
    "\n",
    "```Python\n",
    "fruits = ['apples', 'oranges', 'pears', 'peaches', 'berries']\n",
    "fruits.sort()\n",
    "print(fruits)\n",
    "```"
   ]
  },
  {
   "cell_type": "code",
   "execution_count": 25,
   "metadata": {
    "pycharm": {
     "name": "#%%\n"
    }
   },
   "outputs": [
    {
     "name": "stdout",
     "output_type": "stream",
     "text": [
      "[1.25, 1.55, 2.25, 2.99, 4.99]\n"
     ]
    }
   ],
   "source": [
    "# Using the sort() method \n",
    "price = [1.55, 2.99, 1.25, 2.25, 4.99] \n",
    "price.sort()\n",
    "print (price) "
   ]
  },
  {
   "cell_type": "code",
   "execution_count": 24,
   "metadata": {
    "pycharm": {
     "name": "#%%\n"
    }
   },
   "outputs": [
    {
     "name": "stdout",
     "output_type": "stream",
     "text": [
      "['apples', 'berries', 'oranges', 'peaches', 'pears']\n"
     ]
    }
   ],
   "source": [
    "# Using the sort() method \n",
    "fruits = ['apples', 'oranges', 'pears', 'peaches', 'berries']\n",
    "fruits.sort()\n",
    "print(fruits)"
   ]
  },
  {
   "cell_type": "markdown",
   "metadata": {
    "pycharm": {
     "name": "#%% md\n"
    }
   },
   "source": [
    "#### Try it yourself \n",
    "\n",
    "In the next line, use either the sort() or sorted() method to arrange the list into ascending order. Next reverse the order into descending order. \n",
    "\n",
    "```Python\n",
    "\n",
    "test_scores = [92, 75, 88, 83, 97, 77, 81]\n",
    "student_names = ['Sarah', 'Chris', 'Jeremy', 'Beth', 'Emily', 'Anna']\n",
    "```\n",
    "\n"
   ]
  },
  {
   "cell_type": "code",
   "execution_count": null,
   "metadata": {
    "pycharm": {
     "name": "#%%\n"
    }
   },
   "outputs": [],
   "source": [
    "# Arrange the lists into ascending order \n",
    "test_scores = [92, 75, 88, 83, 97, 77, 81]"
   ]
  },
  {
   "cell_type": "code",
   "execution_count": null,
   "metadata": {
    "pycharm": {
     "name": "#%%\n"
    }
   },
   "outputs": [],
   "source": [
    "# Arrange the lists into descending order \n",
    "student_names = ['Sarah', 'Chris', 'Jeremy', 'Beth', 'Emily', 'Anna']"
   ]
  },
  {
   "cell_type": "markdown",
   "metadata": {
    "pycharm": {
     "name": "#%% md\n"
    }
   },
   "source": [
    "### Changing Content of Lists \n",
    "\n",
    "#### Deleting and Removing Items from a List \n",
    "One important component about the characteristic of lists, is that they are *mutable*, which means you can change the content of the list. You can remove or delete items, add items, slice, and combine different lists together. \n",
    "\n",
    "**Del** method \n",
    "To delete an item from the list, there are few different methods: `del`, `remove` and `pop`. Using the `del` method, you have to specify the index position of the item. In the example below, we deleted *pears* from the list by specifying its index position.\n",
    "\n",
    "```Python\n",
    "fruits = ['apples', 'oranges', 'pears', 'peaches', 'berries'];\n",
    "print(fruits)\n",
    "del fruits[2];\n",
    "print(fruits)\n",
    "``` \n",
    "\n",
    "You can also delete multiple items by using the `:` operator. The code below deletes the items between the index number of 2 and 4, it is inclusive of item 2 (*pears*) but excludes the 4th item, *berries*. \n",
    "```Python\n",
    "fruits = ['apples', 'oranges', 'pears', 'peaches', 'berries'];\n",
    "print(fruits)\n",
    "del fruits[2:4];\n",
    "print(fruits)\n",
    "\n",
    "``` \n",
    "\n",
    "\n",
    "**Remove method**\n",
    "An alternative method is the `remove` method. You don't need specify the index position in the argument. You'll notice instead of specifying *2*, we need to include item itself, *pears* \n",
    "\n",
    "```Python\n",
    "fruits = ['apples', 'oranges', 'pears', 'peaches', 'berries']\n",
    "print(fruits)\n",
    "fruits.remove('pears')\n",
    "print(fruits)\n",
    "``` \n",
    "\n",
    "**Pop Method** \n",
    "You can also use the `pop` method to remove an element from a list. You'll notice that using the `del` and `remove` method, they both permaneantly change the original *fruits* lists. The `pop` method similarly alters the original list and permanently removes the item. \n",
    "\n",
    "By creating a new list variable name, and identifying the index position in the argument, the removed item is assigned to the variable. You'll see that the removed item *pears* is assigned to the new variable *pears_pop*. \n",
    "\n",
    "```Python \n",
    "fruits = ['apples', 'oranges', 'pears', 'peaches', 'berries']\n",
    "print(fruits)\n",
    "pears_pop = fruits.pop(2)\n",
    "print(pears_pop)\n",
    "print(fruits)\n",
    "``` \n",
    "\n",
    "If you do not identify the index position in the argument, Python by default removes the last item in the list. \n",
    "\n",
    "```Python\n",
    "fruits = ['apples', 'oranges', 'pears', 'peaches', 'berries']\n",
    "fruits.pop()\n",
    "print(fruits)\n",
    "``` "
   ]
  },
  {
   "cell_type": "code",
   "execution_count": 27,
   "metadata": {
    "pycharm": {
     "name": "#%%\n"
    }
   },
   "outputs": [
    {
     "name": "stdout",
     "output_type": "stream",
     "text": [
      "['apples', 'oranges', 'pears', 'peaches', 'berries']\n",
      "['apples', 'oranges', 'peaches', 'berries']\n"
     ]
    }
   ],
   "source": [
    "# Using the del method \n",
    "fruits = ['apples', 'oranges', 'pears', 'peaches', 'berries'];\n",
    "print(fruits)\n",
    "del fruits[2];\n",
    "print(fruits)"
   ]
  },
  {
   "cell_type": "code",
   "execution_count": 136,
   "metadata": {
    "pycharm": {
     "name": "#%%\n"
    }
   },
   "outputs": [
    {
     "name": "stdout",
     "output_type": "stream",
     "text": [
      "['apples', 'oranges', 'pears', 'peaches', 'berries']\n",
      "['apples', 'oranges', 'berries']\n"
     ]
    }
   ],
   "source": [
    "## Deleting multiple items \n",
    "fruits = ['apples', 'oranges', 'pears', 'peaches', 'berries'];\n",
    "print(fruits)\n",
    "del fruits[2:4];\n",
    "print(fruits)"
   ]
  },
  {
   "cell_type": "code",
   "execution_count": 28,
   "metadata": {
    "pycharm": {
     "name": "#%%\n"
    }
   },
   "outputs": [
    {
     "name": "stdout",
     "output_type": "stream",
     "text": [
      "['apples', 'oranges', 'pears', 'peaches', 'berries']\n",
      "['apples', 'oranges', 'peaches', 'berries']\n"
     ]
    }
   ],
   "source": [
    "#Using the remove method \n",
    "fruits = ['apples', 'oranges', 'pears', 'peaches', 'berries']\n",
    "print(fruits)\n",
    "fruits.remove('pears')\n",
    "print(fruits)"
   ]
  },
  {
   "cell_type": "code",
   "execution_count": 35,
   "metadata": {
    "pycharm": {
     "name": "#%%\n"
    }
   },
   "outputs": [
    {
     "name": "stdout",
     "output_type": "stream",
     "text": [
      "['apples', 'oranges', 'pears', 'peaches', 'berries']\n",
      "pears\n",
      "['apples', 'oranges', 'peaches', 'berries']\n"
     ]
    }
   ],
   "source": [
    "#Using the pop method \n",
    "fruits = ['apples', 'oranges', 'pears', 'peaches', 'berries']\n",
    "print(fruits)\n",
    "pears_pop = fruits.pop(2)\n",
    "print(pears_pop)\n",
    "print(fruits)"
   ]
  },
  {
   "cell_type": "code",
   "execution_count": 40,
   "metadata": {
    "pycharm": {
     "name": "#%%\n"
    }
   },
   "outputs": [
    {
     "name": "stdout",
     "output_type": "stream",
     "text": [
      "['apples', 'oranges', 'pears', 'peaches']\n"
     ]
    }
   ],
   "source": [
    "## When you don't specify the index position, Python deletes the last item in the list \n",
    "fruits = ['apples', 'oranges', 'pears', 'peaches', 'berries']\n",
    "fruits.pop()\n",
    "print(fruits)"
   ]
  },
  {
   "cell_type": "markdown",
   "metadata": {
    "pycharm": {
     "name": "#%% md\n"
    }
   },
   "source": [
    "#### Removing Duplicates from a List \n",
    "\n",
    "When you have duplicates in a list, the `remove` method will remove the first matching duplicate. You'll notice in the example below, the `remove` method removes the first instance that *peaches* but the two other duplicates of *peaches* remain in the list. \n",
    "\n",
    "```Python \n",
    "fruits = ['peaches', 'apples', 'oranges', 'pears', 'peaches', 'berries', 'peaches']\n",
    "fruits.remove(peaches)\n",
    "print(fruits)\n",
    "``` \n",
    "\n",
    "You can also check for duplicates by asking Python to return how many items a given item appears in the list using the `.count()` function\n",
    "\n",
    "```Python \n",
    "fruits = ['peaches', 'apples', 'oranges', 'pears', 'peaches', 'berries', 'peaches']\n",
    "duplicates=fruits.count('peaches')\n",
    "print(duplicates)\n",
    "```"
   ]
  },
  {
   "cell_type": "code",
   "execution_count": null,
   "metadata": {
    "pycharm": {
     "name": "#%%\n"
    }
   },
   "outputs": [],
   "source": [
    "fruits = ['peaches', 'apples', 'oranges', 'pears', 'peaches', 'berries', 'peaches']\n",
    "fruits.remove('peaches')\n",
    "print(fruits)"
   ]
  },
  {
   "cell_type": "code",
   "execution_count": 146,
   "metadata": {
    "pycharm": {
     "name": "#%%\n"
    }
   },
   "outputs": [
    {
     "name": "stdout",
     "output_type": "stream",
     "text": [
      "3\n"
     ]
    }
   ],
   "source": [
    "fruits = ['peaches', 'apples', 'oranges', 'pears', 'peaches', 'berries', 'peaches']\n",
    "duplicates=fruits.count('peaches')\n",
    "print(duplicates)"
   ]
  },
  {
   "cell_type": "markdown",
   "metadata": {
    "pycharm": {
     "name": "#%% md\n"
    }
   },
   "source": [
    "#### Try it yourself! \n",
    "\n",
    "In the line below, first, reorder the list below using the `sorted` or `sort` method. Next, use the `del`, `remove` or `pop` method to take out the second element of the list. \n",
    "\n",
    "```Python \n",
    "\n",
    "winter_olympic = [1968, 1952, 1988, 2002, 1998, 2010] \n",
    "\n",
    "``` "
   ]
  },
  {
   "cell_type": "code",
   "execution_count": null,
   "metadata": {
    "pycharm": {
     "name": "#%%\n"
    }
   },
   "outputs": [],
   "source": [
    "winter_olympic = [1968, 1952, 1988, 2002, 1998, 2010] "
   ]
  },
  {
   "cell_type": "markdown",
   "metadata": {
    "pycharm": {
     "name": "#%% md\n"
    }
   },
   "source": [
    "#### Inserting, Updating and Appending Items to a List \n",
    "\n",
    "\n",
    "**Insert** \n",
    "You can add items to your list with the `insert()` method. It takes two parameters, the index number and the item. In the code below, the item *bananas* is added as the third item in the list, with an index position of 2. \n",
    "\n",
    "```Python\n",
    "fruits = ['apples', 'oranges', 'pears', 'peaches', 'berries'];\n",
    "fruits.insert(2, 'bananas')\n",
    "print(fruits)\n",
    "```\n",
    "\n",
    "**Update** \n",
    "You can change the items in your list by updating. Using this method, you have to specify the index position of the new item. In the example below, we add *bananas* to the list by assgining it an index position of 2. Run the code and see the new returned list. You'll notice that *bananas* has replaced *pears* in the list.\n",
    "\n",
    "``` Python \n",
    "fruits = ['apples', 'oranges', 'pears', 'peaches', 'berries'];\n",
    "fruits[2] = 'bananas'\n",
    "print(fruits[2])\n",
    "``` \n",
    "You can also insert multiple items by specifying a range in the index positions. Let's say we want to add bananas and mangos to the fruits list. In the code below, we are adding bananas by assigning it an index position of 2 and adding mangos by assigning it an index position of 3. \n",
    "\n",
    "```Python\n",
    "fruits = ['apples', 'oranges', 'pears', 'peaches', 'berries'];\n",
    "fruits[2:3] = 'bananas', 'mangos'\n",
    "print(fruits)\n",
    "``` \n",
    "\n",
    "**Append** \n",
    "You can also add items to your list by using the append function. By default, the new item will be added at the end of the list. In the example below, you'll use the index function to return the item  position of *bananas*. \n",
    "\n",
    "```Python \n",
    "fruits = ['apples', 'oranges', 'pears', 'peaches', 'berries'];\n",
    "print(fruits)\n",
    "fruits.append('bananas')\n",
    "print(fruits)\n",
    "fruit_index = fruits.index('bananas')\n",
    "print(fruit_index)\n",
    "``` \n",
    "\n",
    "**Combine**\n",
    "You can also add items by combbining lists. Using this method, we have to create a new variable, *food* \n",
    "\n",
    "```Python\n",
    "fruits = ['apples', 'oranges', 'pears', 'peaches', 'berries'];\n",
    "vegetables = ['tomatoes', 'cucumbers', 'celery']\n",
    "food = fruits + vegetables\n",
    "print(food)\n",
    "``` "
   ]
  },
  {
   "cell_type": "code",
   "execution_count": 151,
   "metadata": {
    "pycharm": {
     "name": "#%%\n"
    }
   },
   "outputs": [
    {
     "name": "stdout",
     "output_type": "stream",
     "text": [
      "['apples', 'oranges', 'bananas', 'pears', 'peaches', 'berries']\n"
     ]
    }
   ],
   "source": [
    "# Inserting items into lists\n",
    "\n",
    "fruits = ['apples', 'oranges', 'pears', 'peaches', 'berries'];\n",
    "fruits.insert(2, 'bananas')\n",
    "print(fruits)"
   ]
  },
  {
   "cell_type": "code",
   "execution_count": 124,
   "metadata": {
    "pycharm": {
     "name": "#%%\n"
    }
   },
   "outputs": [
    {
     "name": "stdout",
     "output_type": "stream",
     "text": [
      "['apples', 'oranges', 'bananas', 'peaches', 'berries']\n",
      "bananas\n"
     ]
    }
   ],
   "source": [
    "# Updating Lists\n",
    "\n",
    "fruits = ['apples', 'oranges', 'pears', 'peaches', 'berries'];\n",
    "fruits[2] = 'bananas'\n",
    "print(fruits)\n",
    "print(fruits[2])"
   ]
  },
  {
   "cell_type": "code",
   "execution_count": 133,
   "metadata": {
    "pycharm": {
     "name": "#%%\n"
    }
   },
   "outputs": [
    {
     "name": "stdout",
     "output_type": "stream",
     "text": [
      "['apples', 'oranges', 'bananas', 'mangos', 'peaches', 'berries']\n"
     ]
    }
   ],
   "source": [
    "# Updating multiple items \n",
    "fruits = ['apples', 'oranges', 'pears', 'peaches', 'berries'];\n",
    "fruits[2:3] = 'bananas', 'mangos'\n",
    "print(fruits)"
   ]
  },
  {
   "cell_type": "code",
   "execution_count": 130,
   "metadata": {
    "pycharm": {
     "name": "#%%\n"
    }
   },
   "outputs": [
    {
     "name": "stdout",
     "output_type": "stream",
     "text": [
      "['apples', 'oranges', 'pears', 'peaches', 'berries']\n",
      "['apples', 'oranges', 'pears', 'peaches', 'berries', 'bananas']\n",
      "5\n"
     ]
    }
   ],
   "source": [
    "# Appending a list\n",
    "fruits = ['apples', 'oranges', 'pears', 'peaches', 'berries'];\n",
    "print(fruits)\n",
    "fruits.append('bananas')\n",
    "print(fruits)\n",
    "fruit_index = fruits.index('bananas')\n",
    "print(fruit_index)"
   ]
  },
  {
   "cell_type": "code",
   "execution_count": 131,
   "metadata": {
    "pycharm": {
     "name": "#%%\n"
    }
   },
   "outputs": [
    {
     "name": "stdout",
     "output_type": "stream",
     "text": [
      "['apples', 'oranges', 'pears', 'peaches', 'berries', 'tomatoes', 'cucumbers', 'celery']\n"
     ]
    }
   ],
   "source": [
    "## Combine \n",
    "fruits = ['apples', 'oranges', 'pears', 'peaches', 'berries'];\n",
    "vegetables = ['tomatoes', 'cucumbers', 'celery']\n",
    "food = fruits + vegetables\n",
    "print(food)"
   ]
  },
  {
   "cell_type": "markdown",
   "metadata": {
    "pycharm": {
     "name": "#%% md\n"
    }
   },
   "source": [
    "#### Let's try it! \n",
    "\n",
    "Add two more PA area codes to the list. Add the Harrisburg area code (717) and the Erie area code (814) to the list. Use the *Update*, *Append* and *Combine* method. The two new area codes should appear as the third and fourth item on the list respectively.\n",
    "\n",
    "```Python\n",
    "area_codes = [412, 878, 215, 267, 484, 610]\n",
    "\n",
    "```"
   ]
  },
  {
   "cell_type": "code",
   "execution_count": null,
   "metadata": {
    "pycharm": {
     "name": "#%%\n"
    }
   },
   "outputs": [],
   "source": [
    "## use the Update method to add two area codes to the list"
   ]
  },
  {
   "cell_type": "code",
   "execution_count": null,
   "metadata": {
    "pycharm": {
     "name": "#%%\n"
    }
   },
   "outputs": [],
   "source": [
    "## Use the Append method "
   ]
  },
  {
   "cell_type": "code",
   "execution_count": null,
   "metadata": {
    "pycharm": {
     "name": "#%%\n"
    }
   },
   "outputs": [],
   "source": [
    "## Use the Combine method "
   ]
  },
  {
   "cell_type": "markdown",
   "metadata": {
    "pycharm": {
     "name": "#%% md\n"
    }
   },
   "source": [
    "### Extend vs Append\n",
    "\n",
    "A similar method to append() is the extend() function. The extend method is useful when you have multiple items that you want to add to a list. \n",
    "\n",
    "In the example below, you'll seee that with multiple items, the append method attaches a list to a list. It will attach the items as a single object. By contrast the extend method lengthens and extends the existing list to include each of the new items. When we use the len() function, you can see that with the extend method, the items in the fruit list lengthened the overall number of items in the grocery list. \n",
    "\n",
    "**Append**\n",
    "```Python\n",
    "grocery = ['eggs', 'milk', 'cheese'] \n",
    "fruit = ['apples', 'oranges', 'pears', 'berries'] \n",
    "\n",
    "grocery.append(fruit)\n",
    "print (grocery)\n",
    "len(grocery)\n",
    "```\n",
    "\n",
    "**Extend**\n",
    "```Python\n",
    "grocery = ['eggs', 'milk', 'cheese'] \n",
    "fruit = ['apples', 'oranges', 'pears', 'berries'] \n",
    "\n",
    "grocery.append(fruit)\n",
    "print (grocery)\n",
    "len(grocery)\n",
    "``` "
   ]
  },
  {
   "cell_type": "code",
   "execution_count": 6,
   "metadata": {
    "pycharm": {
     "name": "#%%\n"
    }
   },
   "outputs": [
    {
     "name": "stdout",
     "output_type": "stream",
     "text": [
      "['eggs', 'milk', 'cheese', ['apples', 'oranges', 'pears', 'berries']]\n"
     ]
    },
    {
     "data": {
      "text/plain": [
       "4"
      ]
     },
     "execution_count": 6,
     "metadata": {},
     "output_type": "execute_result"
    }
   ],
   "source": [
    "# Using append \n",
    "grocery = ['eggs', 'milk', 'cheese'] \n",
    "fruit = ['apples', 'oranges', 'pears', 'berries'] \n",
    "\n",
    "grocery.append(fruit)\n",
    "print (grocery)\n",
    "len(grocery)"
   ]
  },
  {
   "cell_type": "code",
   "execution_count": 8,
   "metadata": {
    "pycharm": {
     "name": "#%%\n"
    }
   },
   "outputs": [
    {
     "name": "stdout",
     "output_type": "stream",
     "text": [
      "['eggs', 'milk', 'cheese', 'apples', 'oranges', 'pears', 'berries']\n"
     ]
    },
    {
     "data": {
      "text/plain": [
       "7"
      ]
     },
     "execution_count": 8,
     "metadata": {},
     "output_type": "execute_result"
    }
   ],
   "source": [
    "# Using extend\n",
    "grocery = ['eggs', 'milk', 'cheese'] \n",
    "fruit = ['apples', 'oranges', 'pears', 'berries'] \n",
    "\n",
    "grocery.extend(fruit)\n",
    "print (grocery)\n",
    "len(grocery)"
   ]
  },
  {
   "cell_type": "markdown",
   "metadata": {
    "pycharm": {
     "name": "#%% md\n"
    }
   },
   "source": [
    "### Slicing lists \n",
    "\n",
    "Slicing returns a slice or a portion of objects of any datatype, including lists. The syntax for slicing includes identifying parameters within the brackets, *stop*, *stop*, *step*. *Start* refers to the starting index, where slice begins, *stop* refers to the index position, where the slice ends, and *step* is an optional argument that refers to the increment of each index position. By default the *step* or increment is one. \n",
    "\n",
    "The first method uses the slicing operator `:`\n",
    "\n",
    "The image below depicts where the slice begins and ends. With list *L*, we are asking Python to slice the list from the beginning of index 2 and the end of index 7, with an increment of 1. Starting at index 2, this would include *c* at the beginning of the slice and excludes the item at the 7th index position, which is *h*. The sliced lists ends at *g*. \n",
    "\n",
    "```Python \n",
    "\n",
    "L = ['a', 'b', 'c', 'd', 'e', 'f', 'g', 'h', 'i']\n",
    "print(L[0])\n",
    "print(L[7])\n",
    "print(L[2:7])\n",
    "\n",
    "``` \n",
    "\n",
    "\n"
   ]
  },
  {
   "cell_type": "markdown",
   "metadata": {
    "pycharm": {
     "name": "#%% md\n"
    }
   },
   "source": [
    "<img src='images/slicing.png' />\n",
    "\n",
    "Source: https://www.learnbyexample.org/python-list-slicing/"
   ]
  },
  {
   "cell_type": "code",
   "execution_count": 137,
   "metadata": {
    "pycharm": {
     "name": "#%%\n"
    }
   },
   "outputs": [
    {
     "name": "stdout",
     "output_type": "stream",
     "text": [
      "a\n",
      "h\n",
      "['c', 'd', 'e', 'f', 'g']\n"
     ]
    }
   ],
   "source": [
    "# Run the code to see how Python slices list L: \n",
    "\n",
    "L = ['a', 'b', 'c', 'd', 'e', 'f', 'g', 'h', 'i']\n",
    "print(L[0])\n",
    "print(L[7])\n",
    "print(L[2:7])\n"
   ]
  },
  {
   "cell_type": "markdown",
   "metadata": {
    "pycharm": {
     "name": "#%% md\n"
    }
   },
   "source": [
    "Let's look at the `step` parameter. The image below depicts how Python returns a slice of the list when an increment is 2.\n",
    "\n",
    "In the code below, the last value in the argument is denoted by the number 2, which asks Python to slice the list to include every second number. Run the example below and you'll see that Python returns a new list, which begins with *c*, and includes every other letter until the end of the slice at *g*. \n",
    "\n",
    "```Python\n",
    "L = ['a', 'b', 'c', 'd', 'e', 'f', 'g', 'h', 'i']\n",
    "print(L[2:7:2])\n",
    "``` "
   ]
  },
  {
   "cell_type": "markdown",
   "metadata": {
    "pycharm": {
     "name": "#%% md\n"
    }
   },
   "source": [
    "<img src='images/slice_step.png' />\n",
    "\n",
    "Source: https://www.learnbyexample.org/python-list-slicing/"
   ]
  },
  {
   "cell_type": "code",
   "execution_count": 102,
   "metadata": {
    "pycharm": {
     "name": "#%%\n"
    }
   },
   "outputs": [
    {
     "name": "stdout",
     "output_type": "stream",
     "text": [
      "['c', 'e', 'g']\n"
     ]
    }
   ],
   "source": [
    "L = ['a', 'b', 'c', 'd', 'e', 'f', 'g', 'h', 'i']\n",
    "print(L[2:7:2])"
   ]
  },
  {
   "cell_type": "markdown",
   "metadata": {
    "pycharm": {
     "name": "#%% md\n"
    }
   },
   "source": [
    "In the examples below, the first slice returns `apple`, because only 0 is identified in the argument, meaning it is both the start and stop of the slice. In the second example, we are asking Python to slice the list beginning at *apples*, and ending at the second item, with an increment of 1. If you wanted to include *pears* in the list, you should type `[0:3]` as the argument, which will include the second index item and stop at the 3rd item. \n",
    "\n",
    "```Python \n",
    "fruits = ['apples', 'oranges', 'pears', 'peaches', 'berries'];\n",
    "print(fruits[0]) # returns the first element of the list\n",
    "print(fruits[0:2]) # returns the first two elements of the list\n",
    "print(fruits[:3]) # returns everything before the element with index 3\n",
    "print(fruits[3:]) # returns everything starting with the element with index 3\n",
    "print(fruits[-1]) # returns the last element of the list\n",
    "```\n",
    "\n",
    "You'll also notice that when you slice a list, it will by default remain as a list structure regardless of how many items are in the list. Run the code below, and you'll see the data type for *fruits* after slicing. \n",
    "```Python\n",
    "fruits = ['apples', 'oranges', 'pears', 'peaches', 'berries']\n",
    "print(fruits[0])\n",
    "type(fruits)\n",
    "```\n"
   ]
  },
  {
   "cell_type": "code",
   "execution_count": 72,
   "metadata": {
    "pycharm": {
     "name": "#%%\n"
    }
   },
   "outputs": [
    {
     "name": "stdout",
     "output_type": "stream",
     "text": [
      "apples\n",
      "['apples', 'oranges']\n",
      "['apples', 'oranges', 'pears']\n",
      "['peaches', 'berries']\n",
      "berries\n"
     ]
    }
   ],
   "source": [
    "fruits = ['apples', 'oranges', 'pears', 'peaches', 'berries'];\n",
    "print(fruits[0]) # returns the first element of the list\n",
    "print(fruits[0:2]) # returns the first two elements of the list\n",
    "print(fruits[:3]) # returns everything before the element with index 3\n",
    "print(fruits[3:]) # returns everything starting with the element with index 3\n",
    "print(fruits[-1]) # returns the last element of the list"
   ]
  },
  {
   "cell_type": "code",
   "execution_count": 9,
   "metadata": {
    "pycharm": {
     "name": "#%%\n"
    }
   },
   "outputs": [
    {
     "name": "stdout",
     "output_type": "stream",
     "text": [
      "apples\n"
     ]
    },
    {
     "data": {
      "text/plain": [
       "list"
      ]
     },
     "execution_count": 9,
     "metadata": {},
     "output_type": "execute_result"
    }
   ],
   "source": [
    "fruits = ['apples', 'oranges', 'pears', 'peaches', 'berries']\n",
    "print(fruits[0])\n",
    "type(fruits)"
   ]
  },
  {
   "cell_type": "markdown",
   "metadata": {
    "pycharm": {
     "name": "#%% md\n"
    }
   },
   "source": [
    "You can also slice a list by specifying negative index positions. In the image below, the last item in the list has an index position of -1 and the first item in the list has an index position of -9. The code below slices the list from -2 to -7, which would return a list that begins with *c* and ends with *g*. \n",
    "\n",
    "```Python\n",
    "L = ['a', 'b', 'c', 'd', 'e', 'f', 'g', 'h', 'i']\n",
    "print(L[-7:-2])\n",
    "``` "
   ]
  },
  {
   "cell_type": "markdown",
   "metadata": {
    "pycharm": {
     "name": "#%% md\n"
    }
   },
   "source": [
    "<img src='images/neg.png' />\n",
    "\n",
    "Source: https://www.learnbyexample.org/python-list-slicing/"
   ]
  },
  {
   "cell_type": "code",
   "execution_count": 144,
   "metadata": {
    "pycharm": {
     "name": "#%%\n"
    }
   },
   "outputs": [
    {
     "name": "stdout",
     "output_type": "stream",
     "text": [
      "['c', 'd', 'e', 'f', 'g']\n"
     ]
    }
   ],
   "source": [
    "L = ['a', 'b', 'c', 'd', 'e', 'f', 'g', 'h', 'i']\n",
    "print(L[-7:-2])\n"
   ]
  },
  {
   "cell_type": "markdown",
   "metadata": {
    "pycharm": {
     "name": "#%% md\n"
    }
   },
   "source": [
    "#### Alternative way to slice a list\n",
    "\n",
    "In the examples above, we used the `:` operator. We can also slice a list using the `slice()` function. The syntax is slightly different. Instead of separating the index positions with a colon `:`, we use commas. And instead of square brackets, we use round brackets. \n",
    "\n",
    "In the first example, the only value in the argument is 3,  this is equivalent to specifying the start as 0 and the end as 3, `slice(0, 3)`. Both will return the identitcal list. \n",
    "\n",
    "In the third example, we are asking Python to slice the list at index 1 and end at index position 5, which returns a list the begins with 4 and ends at 10. \n",
    "\n",
    "In the last example, we specify 2 as the step, which will produce a list that includes every second number. \n",
    "\n",
    "\n",
    "```Python\n",
    "even = [2, 4, 6, 8, 10, 12, 14, 16]\n",
    "s1 = slice(3)\n",
    "print(even[s1]) \n",
    "``` \n",
    "\n",
    "```Python\n",
    "even = [2, 4, 6, 8, 10, 12]\n",
    "s1 = slice(0,3)\n",
    "print(even[s1])\n",
    "``` \n",
    "\n",
    "```Python\n",
    "even = [2, 4, 6, 8, 10, 12, 14, 16]\n",
    "s2 = slice(1,5)\n",
    "print(even[s2]) \n",
    "``` \n",
    "\n",
    "```Python\n",
    "even = [2, 4, 6, 8, 10, 12, 14, 16]\n",
    "s3 = slice(1,6,2)\n",
    "print(even[s3])  \n",
    "``` "
   ]
  },
  {
   "cell_type": "code",
   "execution_count": 106,
   "metadata": {
    "pycharm": {
     "name": "#%%\n"
    }
   },
   "outputs": [
    {
     "name": "stdout",
     "output_type": "stream",
     "text": [
      "[2, 4, 6]\n"
     ]
    }
   ],
   "source": [
    "even = [2, 4, 6, 8, 10, 12, 14, 16]\n",
    "s1 = slice(3)\n",
    "print(even[s1])"
   ]
  },
  {
   "cell_type": "code",
   "execution_count": 107,
   "metadata": {
    "pycharm": {
     "name": "#%%\n"
    }
   },
   "outputs": [
    {
     "name": "stdout",
     "output_type": "stream",
     "text": [
      "[2, 4, 6]\n"
     ]
    }
   ],
   "source": [
    "even = [2, 4, 6, 8, 10, 12, 14, 16]\n",
    "s1 = slice(0,3)\n",
    "print(even[s1])"
   ]
  },
  {
   "cell_type": "code",
   "execution_count": 96,
   "metadata": {
    "pycharm": {
     "name": "#%%\n"
    }
   },
   "outputs": [
    {
     "name": "stdout",
     "output_type": "stream",
     "text": [
      "[4, 6, 8, 10]\n"
     ]
    }
   ],
   "source": [
    "even = [2, 4, 6, 8, 10, 12, 14, 16]\n",
    "s2 = slice(1,5)\n",
    "print(even[s2]) "
   ]
  },
  {
   "cell_type": "code",
   "execution_count": 108,
   "metadata": {
    "pycharm": {
     "name": "#%%\n"
    }
   },
   "outputs": [
    {
     "name": "stdout",
     "output_type": "stream",
     "text": [
      "[4, 8, 12]\n"
     ]
    }
   ],
   "source": [
    "even = [2, 4, 6, 8, 10, 12, 14, 16]\n",
    "s3 = slice(1,6,2)\n",
    "print(even[s3]) "
   ]
  },
  {
   "cell_type": "markdown",
   "metadata": {
    "pycharm": {
     "name": "#%% md\n"
    }
   },
   "source": [
    "#### Let's Try It! \n",
    "\n",
    "Sort the first list *gas_price_june*, and then slice it so that the two highest values are added to the list, *gas_price_highest*. Then sort that second list.  \n",
    "\n",
    "```Python\n",
    "\n",
    "gas_price_june = [3.89, 2.91, 4.26, 5.23, 3.65, 4.15] \n",
    "gas_price_highest = [5.72, 4.80, 5.51, 5.73]\n",
    "\n",
    "```"
   ]
  },
  {
   "cell_type": "code",
   "execution_count": null,
   "metadata": {
    "pycharm": {
     "name": "#%%\n"
    }
   },
   "outputs": [],
   "source": [
    "gas_price_june = [3.89, 2.91, 4.26, 5.23, 3.65, 4.15] \n",
    "gas_price_highest = [5.72, 4.80, 5.51, 5.73]\n"
   ]
  },
  {
   "cell_type": "markdown",
   "metadata": {
    "pycharm": {
     "name": "#%% md\n"
    }
   },
   "source": [
    "## Tuples\n",
    "\n",
    "A `tuple` is very similar to a `list`, but one important distinguishing feature is that tuples are not mutable. Unlike a list, you cannot change the content of a tuple by deleting, inserting, or appending items.\n",
    "\n",
    "There is also a difference in syntax. Instead of squaret brackets, items in a tuple are contained within a pair of round brackets.\n",
    "\n",
    "Run the code below to see how Python identifies the datatype of the variable *age* \n",
    "\n",
    "```Python\n",
    "age = (41, 39, 29, 25, 50, 32) \n",
    "type(age)\n",
    "```"
   ]
  },
  {
   "cell_type": "code",
   "execution_count": 149,
   "metadata": {
    "pycharm": {
     "name": "#%%\n"
    }
   },
   "outputs": [
    {
     "data": {
      "text/plain": [
       "tuple"
      ]
     },
     "execution_count": 149,
     "metadata": {},
     "output_type": "execute_result"
    }
   ],
   "source": [
    "age = (41, 39, 29, 25, 50, 32) \n",
    "type(age)"
   ]
  },
  {
   "cell_type": "markdown",
   "metadata": {
    "pycharm": {
     "name": "#%% md\n"
    }
   },
   "source": [
    "###  Tuples vs Lists \n",
    "\n",
    "Let's say we wanted to add a pizza type to the list or tuple. While there are a number of different methods to add a new item to a list, we are limited when it comes to Tuples. \n",
    "\n",
    "For example let's try to add *Hawaiian* by inserting it into the list or updating the list. Both methods work with lists but you'll notice with Tuples, an error message is returned:  *'tuple' object does not support item assignment* \n",
    "\n",
    "```Python\n",
    "pizza_list =['cheese', 'pepperoni', 'veggie', 'margherita'] \n",
    "pizza_list[2] = 'Hawaiian'\n",
    "print(pizza_list) \n",
    "```\n",
    "```Python\n",
    "pizza_list =['cheese', 'pepperoni', 'veggie', 'margherita'] \n",
    "pizza_list[2] = 'Hawaiian'\n",
    "print(pizza_list) \n",
    "``` \n",
    "```Python\n",
    "pizza_tuple = ('cheese', 'pepperoni', 'veggie', 'margherita')\n",
    "pizza_tuple.insert(1,'Hawaiian')\n",
    "```\n",
    "\n",
    "In order to make changes to a Tuple, we first have to convert it to a list using the `list()` function. \n",
    "\n",
    "```Python \n",
    "pizza_tuple = ('cheese', 'pepperoni', 'veggie', 'margherita')\n",
    "pizza_tuple.append('Hawaiian')\n",
    "print(pizza_tuple)\n",
    "```"
   ]
  },
  {
   "cell_type": "code",
   "execution_count": 155,
   "metadata": {
    "pycharm": {
     "name": "#%%\n"
    }
   },
   "outputs": [
    {
     "name": "stdout",
     "output_type": "stream",
     "text": [
      "['cheese', 'Hawaiian', 'pepperoni', 'veggie', 'margherita']\n"
     ]
    }
   ],
   "source": [
    "pizza_list =['cheese', 'pepperoni', 'veggie', 'margherita'] \n",
    "pizza_list.insert(1,'Hawaiian')\n",
    "print(pizza_list) "
   ]
  },
  {
   "cell_type": "code",
   "execution_count": 150,
   "metadata": {
    "pycharm": {
     "name": "#%%\n"
    }
   },
   "outputs": [
    {
     "name": "stdout",
     "output_type": "stream",
     "text": [
      "['cheese', 'pepperoni', 'Hawaiian', 'margherita']\n"
     ]
    }
   ],
   "source": [
    "pizza_list =['cheese', 'pepperoni', 'veggie', 'margherita'] \n",
    "pizza_list[2] = 'Hawaiian'\n",
    "print(pizza_list) "
   ]
  },
  {
   "cell_type": "code",
   "execution_count": 156,
   "metadata": {
    "pycharm": {
     "name": "#%%\n"
    }
   },
   "outputs": [
    {
     "ename": "AttributeError",
     "evalue": "'tuple' object has no attribute 'insert'",
     "output_type": "error",
     "traceback": [
      "\u001b[1;31m---------------------------------------------------------------------------\u001b[0m",
      "\u001b[1;31mAttributeError\u001b[0m                            Traceback (most recent call last)",
      "\u001b[1;32m<ipython-input-156-4b6a80132689>\u001b[0m in \u001b[0;36m<module>\u001b[1;34m()\u001b[0m\n\u001b[0;32m      1\u001b[0m \u001b[0mpizza_tuple\u001b[0m \u001b[1;33m=\u001b[0m \u001b[1;33m(\u001b[0m\u001b[1;34m'cheese'\u001b[0m\u001b[1;33m,\u001b[0m \u001b[1;34m'pepperoni'\u001b[0m\u001b[1;33m,\u001b[0m \u001b[1;34m'veggie'\u001b[0m\u001b[1;33m,\u001b[0m \u001b[1;34m'margherita'\u001b[0m\u001b[1;33m)\u001b[0m\u001b[1;33m\u001b[0m\u001b[0m\n\u001b[1;32m----> 2\u001b[1;33m \u001b[0mpizza_tuple\u001b[0m\u001b[1;33m.\u001b[0m\u001b[0minsert\u001b[0m\u001b[1;33m(\u001b[0m\u001b[1;36m1\u001b[0m\u001b[1;33m,\u001b[0m\u001b[1;34m'Hawaiian'\u001b[0m\u001b[1;33m)\u001b[0m\u001b[1;33m\u001b[0m\u001b[0m\n\u001b[0m",
      "\u001b[1;31mAttributeError\u001b[0m: 'tuple' object has no attribute 'insert'"
     ]
    }
   ],
   "source": [
    "pizza_tuple = ('cheese', 'pepperoni', 'veggie', 'margherita')\n",
    "pizza_tuple.insert(1,'Hawaiian')"
   ]
  },
  {
   "cell_type": "code",
   "execution_count": 154,
   "metadata": {
    "pycharm": {
     "name": "#%%\n"
    }
   },
   "outputs": [
    {
     "ename": "TypeError",
     "evalue": "'tuple' object does not support item assignment",
     "output_type": "error",
     "traceback": [
      "\u001b[1;31m---------------------------------------------------------------------------\u001b[0m",
      "\u001b[1;31mTypeError\u001b[0m                                 Traceback (most recent call last)",
      "\u001b[1;32m<ipython-input-154-36f38829359f>\u001b[0m in \u001b[0;36m<module>\u001b[1;34m()\u001b[0m\n\u001b[0;32m      1\u001b[0m \u001b[0mpizza_tuple\u001b[0m \u001b[1;33m=\u001b[0m \u001b[1;33m(\u001b[0m\u001b[1;34m'cheese'\u001b[0m\u001b[1;33m,\u001b[0m \u001b[1;34m'pepperoni'\u001b[0m\u001b[1;33m,\u001b[0m \u001b[1;34m'veggie'\u001b[0m\u001b[1;33m,\u001b[0m \u001b[1;34m'margherita'\u001b[0m\u001b[1;33m)\u001b[0m\u001b[1;33m\u001b[0m\u001b[0m\n\u001b[1;32m----> 2\u001b[1;33m \u001b[0mpizza_tuple\u001b[0m\u001b[1;33m[\u001b[0m\u001b[1;36m2\u001b[0m\u001b[1;33m]\u001b[0m \u001b[1;33m=\u001b[0m \u001b[1;34m'Hawaiian'\u001b[0m\u001b[1;33m\u001b[0m\u001b[0m\n\u001b[0m\u001b[0;32m      3\u001b[0m \u001b[0mprint\u001b[0m\u001b[1;33m(\u001b[0m\u001b[0mpizza_tuple\u001b[0m\u001b[1;33m)\u001b[0m\u001b[1;33m\u001b[0m\u001b[0m\n",
      "\u001b[1;31mTypeError\u001b[0m: 'tuple' object does not support item assignment"
     ]
    }
   ],
   "source": [
    "pizza_tuple = ('cheese', 'pepperoni', 'veggie', 'margherita')\n",
    "pizza_tuple[2] = 'Hawaiian'\n",
    "print(pizza_tuple)"
   ]
  },
  {
   "cell_type": "code",
   "execution_count": 161,
   "metadata": {
    "pycharm": {
     "name": "#%%\n"
    }
   },
   "outputs": [
    {
     "name": "stdout",
     "output_type": "stream",
     "text": [
      "['cheese', 'pepperoni', 'veggie', 'margherita']\n",
      "['cheese', 'Hawaiian', 'pepperoni', 'veggie', 'margherita']\n"
     ]
    }
   ],
   "source": [
    "## Converting tuple to a list \n",
    "\n",
    "pizza_tuple = ('cheese', 'pepperoni', 'veggie', 'margherita')\n",
    "new_pizza_list = list(pizza_tuple)\n",
    "print(new_pizza_list)\n",
    "new_pizza_list.insert(1, 'Hawaiian')\n",
    "print(new_pizza_list)"
   ]
  },
  {
   "cell_type": "markdown",
   "metadata": {
    "pycharm": {
     "name": "#%% md\n"
    }
   },
   "source": [
    "## Dictionaries\n",
    "\n",
    "A dictionary is a collection of items that contains a key and value pair. The key and value pair are connected, for example you can think of test scores for each student, the price of each foood time; each value is therefore associated with a key. \n",
    "\n",
    "For the syntax, each key is separated from its value by a colon `(:)` and each item is separated by commas. The entire dictionary is enclosed in a pair of curly braces, `{}`.Keys are unique within a dictionary, but values do not need to be. The values of a dictionary can be of any type, but the keys must be immutable, such as strings, numbers, or tuples data types.\n",
    "\n",
    "Dicionaries like lists are mutable, meaning you can change, delete, and add items. It is also different from lists in that each item is not ordered. While in lists, each item is assigned an index position, there is no sequential order of the items in a dictionary. \n",
    "\n",
    "Run the code below to see how Python returns the data type of *age_dict*\n",
    "\n",
    "```Python \n",
    "\n",
    "age_dict = {\n",
    "    \"John\" : 37,\n",
    "    \"Bob\" : 50,\n",
    "    \"Jane\" : 29,\n",
    "    \"Ann\" : 71\n",
    "}\n",
    "type(age_dict) \n",
    "``` \n"
   ]
  },
  {
   "cell_type": "code",
   "execution_count": 165,
   "metadata": {
    "pycharm": {
     "name": "#%%\n"
    }
   },
   "outputs": [
    {
     "data": {
      "text/plain": [
       "dict"
      ]
     },
     "execution_count": 165,
     "metadata": {},
     "output_type": "execute_result"
    }
   ],
   "source": [
    "# Creating a dictionary\n",
    "\n",
    "age_dict = {\n",
    "    \"John\" : 37,\n",
    "    \"Bob\" : 50,\n",
    "    \"Jane\" : 29,\n",
    "    \"Ann\" : 71\n",
    "}\n",
    "type(age_dict)"
   ]
  },
  {
   "cell_type": "markdown",
   "metadata": {
    "pycharm": {
     "name": "#%% md\n"
    }
   },
   "source": [
    "### Accessing Values in a Dictionary \n",
    "\n",
    "You can ask Python to return the value associated with any particular key. \n",
    "```Python\n",
    "print(age_dict[\"John\"])\n",
    "```"
   ]
  },
  {
   "cell_type": "code",
   "execution_count": 177,
   "metadata": {
    "pycharm": {
     "name": "#%%\n"
    }
   },
   "outputs": [
    {
     "name": "stdout",
     "output_type": "stream",
     "text": [
      "38\n",
      "50\n",
      "29\n"
     ]
    }
   ],
   "source": [
    "# Accessing a value from a dictionary by its key\n",
    "print(age_dict[\"John\"])\n",
    "print(age_dict[\"Bob\"])\n",
    "print(age_dict[\"Jane\"])"
   ]
  },
  {
   "cell_type": "markdown",
   "metadata": {
    "pycharm": {
     "name": "#%% md\n"
    }
   },
   "source": [
    "### Updating a Dictionary \n",
    "\n",
    "Let's say we want to change the value within a dictionary. For instance, what if John's age is actually 38 and not 37. The code below shows how update a value. \n",
    "\n",
    "What if we wanted to add an item, or a key-value pair, to the dictionary. The code below shows how to add a new item, Rose age 32 to the dictionary. It will automatically appear at the end of the dictionary.\n",
    "\n",
    "\n",
    "```Python \n",
    "age_dict = {\n",
    "    \"John\" : 37,\n",
    "    \"Bob\" : 50,\n",
    "    \"Jane\" : 29,\n",
    "    \"Ann\" : 71\n",
    "}\n",
    "\n",
    "age_dict[\"John\"] = 38 # Update an item\n",
    "age_dict[\"Rose\"] = 32 # Add new entry\n",
    "``` "
   ]
  },
  {
   "cell_type": "code",
   "execution_count": 176,
   "metadata": {
    "pycharm": {
     "name": "#%%\n"
    }
   },
   "outputs": [
    {
     "name": "stdout",
     "output_type": "stream",
     "text": [
      "{'John': 38, 'Bob': 50, 'Jane': 29, 'Ann': 71}\n",
      "{'John': 38, 'Bob': 50, 'Jane': 29, 'Ann': 71, 'Rose': 32}\n"
     ]
    }
   ],
   "source": [
    "# Updating Dictionary\n",
    "age_dict = {\n",
    "    \"John\" : 37,\n",
    "    \"Bob\" : 50,\n",
    "    \"Jane\" : 29,\n",
    "    \"Ann\" : 71\n",
    "}\n",
    "\n",
    "age_dict[\"John\"] = 38 # Update an item\n",
    "print(age_dict)\n",
    "age_dict[\"Rose\"] = 32 # Add new entry\n",
    "print(age_dict)"
   ]
  },
  {
   "cell_type": "markdown",
   "metadata": {
    "pycharm": {
     "name": "#%% md\n"
    }
   },
   "source": [
    "####  Deleting Dictionary Elements\n",
    "\n",
    "To remove an item from a dictionary, you can specify the key. In the example below, we specify *John* in the argument, which deletes the first item, deleting both the key and its associated value. \n",
    "\n",
    "We can also clear all items in the dictionary, with the `clear()` function. \n",
    "\n",
    "del\n",
    "\n",
    "```Python\n",
    "age_dict = {\n",
    "    \"John\" : 37,\n",
    "    \"Bob\" : 50,\n",
    "    \"Jane\" : 29,\n",
    "    \"Ann\" : 71\n",
    "}\n",
    "\n",
    "del age_dict['John'] # remove entry with key 'John'\n",
    "age_dict.clear()    # remove all entries in dict\n",
    "del age_dict     # delete entire dictionary\n",
    "``` "
   ]
  },
  {
   "cell_type": "code",
   "execution_count": 170,
   "metadata": {
    "pycharm": {
     "name": "#%%\n"
    }
   },
   "outputs": [
    {
     "name": "stdout",
     "output_type": "stream",
     "text": [
      "{'Bob': 50, 'Jane': 29, 'Ann': 71}\n",
      "{}\n"
     ]
    }
   ],
   "source": [
    "# Deleting Dictionary Elements\n",
    "age_dict = {\n",
    "    \"John\" : 37,\n",
    "    \"Bob\" : 50,\n",
    "    \"Jane\" : 29,\n",
    "    \"Ann\" : 71\n",
    "}\n",
    "\n",
    "del age_dict['John'] # remove entry with key 'John'\n",
    "print(age_dict)\n",
    "age_dict.clear() # remove all entries in dict\n",
    "print(age_dict)\n",
    "del age_dict       # delete entire dictionary\n"
   ]
  },
  {
   "cell_type": "code",
   "execution_count": 167,
   "metadata": {
    "pycharm": {
     "name": "#%%\n"
    }
   },
   "outputs": [
    {
     "name": "stdout",
     "output_type": "stream",
     "text": [
      "{'Bob': 50, 'Jane': 29, 'Ann': 71}\n"
     ]
    }
   ],
   "source": [
    "dict = {\n",
    "    \"John\" : 37,\n",
    "    \"Bob\" : 50,\n",
    "    \"Jane\" : 29,\n",
    "    \"Ann\" : 71\n",
    "}\n",
    "\n",
    "del dict['John']; # remove entry with key 'John'\n",
    "print(dict)"
   ]
  },
  {
   "cell_type": "markdown",
   "metadata": {
    "pycharm": {
     "name": "#%% md\n"
    }
   },
   "source": [
    "## Practice Questions\n",
    "\n",
    "If you get stuck, scroll to the bottom for the answers! \n",
    "\n"
   ]
  },
  {
   "cell_type": "markdown",
   "metadata": {
    "pycharm": {
     "name": "#%% md\n"
    }
   },
   "source": [
    "The price of berries are on sale, and have been reduced to 4.99. Change the value associated with the key *berries*, so that it reads the sale price of 4.99. \n",
    "\n",
    "Next, add an item. A new shipment of mangos arrived, add it to your diciontary. Mangos cost 2.35 each. \n",
    "\n",
    "Are tomatoes fruits? Delete them from the dictionary! \n",
    "\n",
    "```Python\n",
    "\n",
    "fruit_prices = {'apples': 1.89, \n",
    "                'oranges': 3.67,\n",
    "                'pears': 2.15,\n",
    "                'peaches': 3.35,\n",
    "                'berries': 6.99,\n",
    "                'tomatoes': 0.89\n",
    "               } \n",
    "print(fruit_prices)\n",
    "```"
   ]
  },
  {
   "cell_type": "code",
   "execution_count": null,
   "metadata": {
    "pycharm": {
     "name": "#%%\n"
    }
   },
   "outputs": [],
   "source": [
    "# Change the value of berries to 4.99\n"
   ]
  },
  {
   "cell_type": "code",
   "execution_count": null,
   "metadata": {
    "pycharm": {
     "name": "#%%\n"
    }
   },
   "outputs": [],
   "source": [
    "\n",
    "# Add mangos to the dictionary "
   ]
  },
  {
   "cell_type": "code",
   "execution_count": null,
   "metadata": {
    "pycharm": {
     "name": "#%%\n"
    }
   },
   "outputs": [],
   "source": [
    "# Delete Tomatoes!\n"
   ]
  },
  {
   "cell_type": "code",
   "execution_count": null,
   "metadata": {
    "pycharm": {
     "name": "#%%\n"
    }
   },
   "outputs": [],
   "source": []
  },
  {
   "cell_type": "code",
   "execution_count": null,
   "metadata": {
    "pycharm": {
     "name": "#%%\n"
    }
   },
   "outputs": [],
   "source": []
  },
  {
   "cell_type": "code",
   "execution_count": null,
   "metadata": {
    "pycharm": {
     "name": "#%%\n"
    }
   },
   "outputs": [],
   "source": []
  },
  {
   "cell_type": "code",
   "execution_count": null,
   "metadata": {
    "pycharm": {
     "name": "#%%\n"
    }
   },
   "outputs": [],
   "source": []
  },
  {
   "cell_type": "markdown",
   "metadata": {
    "pycharm": {
     "name": "#%% md\n"
    }
   },
   "source": [
    "### Answers"
   ]
  },
  {
   "cell_type": "code",
   "execution_count": 2,
   "metadata": {
    "pycharm": {
     "name": "#%%\n"
    }
   },
   "outputs": [
    {
     "name": "stdout",
     "output_type": "stream",
     "text": [
      "{'apples': 1.89, 'oranges': 3.67, 'pears': 2.15, 'peaches': 3.35, 'berries': 6.99, 'tomatoes': 0.89}\n",
      "{'apples': 1.89, 'oranges': 3.67, 'pears': 2.15, 'peaches': 3.35, 'berries': 4.99, 'tomatoes': 0.89}\n"
     ]
    }
   ],
   "source": [
    "# Changing the price of berries to sale price of 4.99 \n",
    "\n",
    "fruit_prices = {'apples': 1.89, \n",
    "                'oranges': 3.67,\n",
    "                'pears': 2.15,\n",
    "                'peaches': 3.35,\n",
    "                'berries': 6.99,\n",
    "                'tomatoes': 0.89\n",
    "               } \n",
    "print(fruit_prices)\n",
    "\n",
    "fruit_prices['berries'] = 4.99\n",
    "\n",
    "print(fruit_prices)"
   ]
  },
  {
   "cell_type": "code",
   "execution_count": 3,
   "metadata": {
    "pycharm": {
     "name": "#%%\n"
    }
   },
   "outputs": [
    {
     "name": "stdout",
     "output_type": "stream",
     "text": [
      "{'apples': 1.89, 'oranges': 3.67, 'pears': 2.15, 'peaches': 3.35, 'berries': 6.99, 'tomatoes': 0.89}\n",
      "{'apples': 1.89, 'oranges': 3.67, 'pears': 2.15, 'peaches': 3.35, 'berries': 6.99, 'tomatoes': 0.89, 'Mangos': 2.35}\n"
     ]
    }
   ],
   "source": [
    "# Adding an item. A new shipment of mangos arrived, add it to your diciontary. Mangos cost 2.35 each. \n",
    "\n",
    "fruit_prices = {'apples': 1.89, \n",
    "                'oranges': 3.67,\n",
    "                'pears': 2.15,\n",
    "                'peaches': 3.35,\n",
    "                'berries': 6.99,\n",
    "                'tomatoes': 0.89\n",
    "               } \n",
    "print(fruit_prices)\n",
    "\n",
    "fruit_prices[\"Mangos\"] = 2.35\n",
    "print(fruit_prices)"
   ]
  },
  {
   "cell_type": "code",
   "execution_count": 4,
   "metadata": {
    "pycharm": {
     "name": "#%%\n"
    }
   },
   "outputs": [
    {
     "name": "stdout",
     "output_type": "stream",
     "text": [
      "{'apples': 1.89, 'oranges': 3.67, 'pears': 2.15, 'peaches': 3.35, 'berries': 6.99, 'tomatoes': 0.89}\n",
      "{'apples': 1.89, 'oranges': 3.67, 'pears': 2.15, 'peaches': 3.35, 'berries': 6.99}\n"
     ]
    }
   ],
   "source": [
    "# Are tomatoes fruits? Delete them from the dictionary!  \n",
    "\n",
    "\n",
    "fruit_prices = {'apples': 1.89, \n",
    "                'oranges': 3.67,\n",
    "                'pears': 2.15,\n",
    "                'peaches': 3.35,\n",
    "                'berries': 6.99,\n",
    "                'tomatoes': 0.89\n",
    "               } \n",
    "print(fruit_prices)\n",
    "del fruit_prices['tomatoes']\n",
    "\n",
    "print(fruit_prices)"
   ]
  },
  {
   "cell_type": "markdown",
   "metadata": {
    "pycharm": {
     "name": "#%% md\n"
    }
   },
   "source": [
    "## Resources and Links\n",
    "\n",
    "https://www.tutorialspoint.com/python/python_lists.htm \n",
    "\n",
    "https://www.tutorialspoint.com/python/python_dictionary.htm \n",
    "\n",
    "https://www.learnbyexample.org/python-list-slicing/"
   ]
  }
 ],
 "metadata": {
  "kernelspec": {
   "display_name": "Python 3 (ipykernel)",
   "language": "python",
   "name": "python3"
  },
  "language_info": {
   "codemirror_mode": {
    "name": "ipython",
    "version": 3
   },
   "file_extension": ".py",
   "mimetype": "text/x-python",
   "name": "python",
   "nbconvert_exporter": "python",
   "pygments_lexer": "ipython3",
   "version": "3.9.12"
  },
  "toc-autonumbering": true
 },
 "nbformat": 4,
 "nbformat_minor": 4
}
