{
 "cells": [
  {
   "cell_type": "markdown",
   "metadata": {
    "pycharm": {
     "name": "#%% md\n"
    }
   },
   "source": [
    "# Control Flow Statements and Conditional Statements \n",
    "\n",
    "In this module, we will cover the following topics:\n",
    "* Conditional Statements \n",
    "\n",
    "Control flow using conditional statements allow users to develop more complex blocks of code. Instead of executing statements line by line, you're asking Python to evaluate a block of code. A block of code often starts with a *conditional statement* and it is followed by a *clause*. You're guiding Python to make decisions based on conditional statements. *if x equals this, then do y*. \n",
    "\n",
    "With conditional statements, you have to be mindful about syntax! You'll recall from the previous module, we introduced the importance of indentation and comparison and boolean operators. Indenting the clause after the conditional statement is essential for creating your block of code. Pay attention to the placement of the colon and the indentation of the clause that follows. \n",
    "\n",
    "\n",
    "In the following module, we will review `if`, `elif` and `else` and how they are used in conditional statements. "
   ]
  },
  {
   "cell_type": "markdown",
   "metadata": {
    "pycharm": {
     "name": "#%% md\n"
    }
   },
   "source": [
    "\n",
    "##  The \"If-Conditional\"  statement \n",
    "\n",
    "A conditional statement begin with an *if* conditional statement, it ends in a colon and is followed by an indentation in the next line. The flow chart below encapsulates the sequence of actions you're asking Python to evaluate and perform based on a specificed condition. `If` the variable equals the string value *Alice*, then the conditional statement is true or in other words, condition was met, and Python will execute the the clause the follows the if-statement. In this case, you're asking Python to print *'Hello, Alice'* If the condition was not met, then the clause will not be run. Python will skip the clause and evaluate the `else` statement. It will execute the clause that follows the `else` statement. \n",
    "\n",
    "In the example below, if the string value assigned to the variable *name* is not *Alice*, Python then skips the clause and evalutes the `else` statement and executes the clause that follows, which is to print *'Hello, Stranger'*\n",
    "\n",
    "\n",
    "```Python\n",
    "if name == 'Alice':\n",
    "    print('Hi, Alice.')\n",
    "else:\n",
    "    print('Hello, stranger.')\n",
    "``` \n",
    "\n"
   ]
  },
  {
   "cell_type": "markdown",
   "metadata": {
    "pycharm": {
     "name": "#%% md\n"
    }
   },
   "source": [
    "![Control Flow diagram](images/controlflow.jpg)\n",
    "\n",
    "*Source: Automate the Boring Stuff* "
   ]
  },
  {
   "cell_type": "markdown",
   "metadata": {
    "pycharm": {
     "name": "#%% md\n"
    }
   },
   "source": [
    "### Try it for Yourself! \n",
    "Execute the code based on the flow chart above. Next, write a block of code such that if the condition is not met, the clause associated with the `else` statement is run instead. "
   ]
  },
  {
   "cell_type": "code",
   "execution_count": 17,
   "metadata": {
    "pycharm": {
     "name": "#%%\n"
    }
   },
   "outputs": [
    {
     "name": "stdout",
     "output_type": "stream",
     "text": [
      "Hi, Alice.\n"
     ]
    }
   ],
   "source": [
    "## Execute the code yourself based on the condition described in the flow chart above \n",
    "name = 'Alice'\n",
    "if name == 'Alice':\n",
    "    print('Hi, Alice.')\n",
    "else:\n",
    "    print('Hello, stranger.')\n",
    "\n"
   ]
  },
  {
   "cell_type": "code",
   "execution_count": null,
   "metadata": {
    "pycharm": {
     "name": "#%%\n"
    }
   },
   "outputs": [],
   "source": [
    "## Now execute the code, so that it prints \"Hello, stranger\". \n",
    "## What value do you have to assign to the variable name in order for the condition to be false? \n",
    "\n",
    "name == ''"
   ]
  },
  {
   "cell_type": "markdown",
   "metadata": {
    "pycharm": {
     "name": "#%% md\n"
    }
   },
   "source": [
    "## Conditionals with Boolean and Comparison Operators\n",
    "\n",
    "\n",
    "Conditional statement or `if-then` statements are usually based on a comparison or boolean condition. In the example below, we will use a Boolean value. If the condition is True, Python will execute the code. If the statement is false, the clause will be skipped. \n",
    "\n",
    "\n",
    "Pay close attention to the equal sign `=`. When we use the equal sign to assign a value to a variable, Python treats it as an **ASSIGNMENT** operator. In the line of code below, we are assigning the value of \"True\" to the boolean variable \"condition\", `condition = True`. \n",
    "\n",
    "When we need to compare two values, we have to use a double equal sign `==`, which is a **COMPARISON** operator. In the line of code below we compare the value already stored in the boolean varialbe \"condition\" to \"True\"\n",
    "`if condition == True:`\n",
    " \n",
    " \n",
    "```Python\n",
    "condition = True\n",
    "if condition == True:\n",
    "    print(\"The code inside if block gets executed\")\n",
    "```\n",
    "\n",
    "```Python\n",
    "condition = True\n",
    "if condition == False:\n",
    "    print(\"The code inside if block gets executed\")\n",
    "```"
   ]
  },
  {
   "cell_type": "code",
   "execution_count": null,
   "metadata": {
    "pycharm": {
     "name": "#%%\n"
    }
   },
   "outputs": [],
   "source": [
    "condition = True\n",
    "if condition == True:\n",
    "    print(\"The code inside if block gets executed\")"
   ]
  },
  {
   "cell_type": "code",
   "execution_count": null,
   "metadata": {
    "pycharm": {
     "name": "#%%\n"
    }
   },
   "outputs": [],
   "source": [
    "condition = True\n",
    "if condition == False:\n",
    "    print(\"The code inside if block gets executed\")"
   ]
  },
  {
   "cell_type": "markdown",
   "metadata": {
    "pycharm": {
     "name": "#%% md\n"
    }
   },
   "source": [
    "### Try it for Yourself! \n",
    "\n",
    "Create two conditional statements, one true and one false using comparison operators. Start by assigning a numeric value to the variable x and use comparison operators like `<` or `>` to create a true or false condition. Use the Print function for your clause.  Look at the example below \n"
   ]
  },
  {
   "cell_type": "code",
   "execution_count": null,
   "metadata": {
    "pycharm": {
     "name": "#%%\n"
    }
   },
   "outputs": [],
   "source": [
    "# Create a True condition \n",
    "\n",
    "x= \n",
    "if x "
   ]
  },
  {
   "cell_type": "code",
   "execution_count": null,
   "metadata": {
    "pycharm": {
     "name": "#%%\n"
    }
   },
   "outputs": [],
   "source": [
    "# Create a False condition \n",
    "\n",
    "x= \n",
    "if x "
   ]
  },
  {
   "cell_type": "markdown",
   "metadata": {
    "pycharm": {
     "name": "#%% md\n"
    }
   },
   "source": [
    "## Nested Conditionals \n",
    "\n",
    "You can also embedd or nest conditional statements within other conditional statements. This allows you to check for additional conditions. In the example below, if x and y are equal in value, the first conditional statement is true, and Python will print the clause *x and y are equal*. If x and y are not equal in value, the first conditional statement would be false, and Python will skip the first clause  and proceed to the  `else` conditional statement. \n",
    "\n",
    "You will notice that instead of clause immediately following the `else` conditional statement, an `if` conditional statement is embedded or nested within it. This allows you to include another conditional statement when the first condition if false. The second `if` conditional statement asks Python to evaluate if x is less than y.  If the statement is true,  Python will print the clause *x is less than y*. If false, Python will execute the second `else` statement, which is to print *x is greater than y*.  \n",
    "\n",
    "\n",
    "```Python\n",
    "x = 5\n",
    "y = 5\n",
    "\n",
    "if x == y:\n",
    "    print('x and y are equal')\n",
    "else:\n",
    "    if x < y:\n",
    "        print('x is less than y')\n",
    "    else:\n",
    "        print('x is greater than y')\n",
    "``` "
   ]
  },
  {
   "cell_type": "code",
   "execution_count": 18,
   "metadata": {
    "pycharm": {
     "name": "#%%\n"
    }
   },
   "outputs": [
    {
     "name": "stdout",
     "output_type": "stream",
     "text": [
      "x and y are equal\n"
     ]
    }
   ],
   "source": [
    "#Run the code yourself \n",
    "\n",
    "x = 5\n",
    "y = 5\n",
    "\n",
    "if x == y:\n",
    "    print('x and y are equal')\n",
    "else:\n",
    "    if x < y:\n",
    "        print('x is less than y')\n",
    "    else:\n",
    "        print('x is greater than y')"
   ]
  },
  {
   "cell_type": "markdown",
   "metadata": {
    "pycharm": {
     "name": "#%% md\n"
    }
   },
   "source": [
    "### Try it for Yourself! \n",
    "\n",
    "In the line below, use the example code and change the values of x and y so that first conditional statement is false and the second conditional statement is true. You want Python to print the clause *x is less than y*. In the next line, change the values of x and y so that both `if` conditional statements are false. You want Python to print the last `else` statement, *x is greater than y*"
   ]
  },
  {
   "cell_type": "code",
   "execution_count": null,
   "metadata": {
    "pycharm": {
     "name": "#%%\n"
    }
   },
   "outputs": [],
   "source": [
    "# Copy and paste the example from above. Change the values of x and y so that Python prints \"x is less than y\""
   ]
  },
  {
   "cell_type": "code",
   "execution_count": null,
   "metadata": {
    "pycharm": {
     "name": "#%%\n"
    }
   },
   "outputs": [],
   "source": [
    "# Copy and paste the example from above. Change the values of x and y so that Python prints \"x is greater than y\""
   ]
  },
  {
   "cell_type": "markdown",
   "metadata": {
    "pycharm": {
     "name": "#%% md\n"
    }
   },
   "source": [
    "## Chained Conditionals: If, Elif, Else\n",
    "\n",
    "There may be cases in which you want to execute multiple conditions. To do so,  you will include the `elif` conditional statement. *Elif* is a contraction for *else if*. The `elif` conditional statement allows you to insert multiple conditions in the block of code.  \n",
    "\n",
    "There is no limit on the number of `elif` conditional statements that you can include in your block of code, but you can only have one `else` statement, which is placed at the very end. \n",
    "\n",
    "In the example below, the block of code begins with the `if` conditional statement, followed by the `elif` conditonal statement and ends with the `else` conditional statement.  If the first statement is true, it will print the clause that follows the `if` conditional statement. If name equals *'Alice'*, the condition is met, and Python will print *Hi, Alice*. If the condition is not met, and the statement is false, instead of printing the clause, it will proceed to execute the `elif` statement. Python will evaluate if the height is above 6.5. If the height is above 6.5, Python will execute the clause and print *Tall stranger*. If both statements are false, the name is neither Alice nor is the height above 6.5, Python will print the clause that follows the `else` statement. It will print the clause *'Wrong person'*. \n",
    "\n",
    "Because we are assigning 'Francis' to the name variable, and height equals 5.5, both the `if` and `elif` conditional statements are false. Python will print `Wrong person`.  \n",
    "\n",
    "\n",
    "```Python\n",
    "\n",
    "name ='Francis'\n",
    "height = 5.5\n",
    "\n",
    "if name == 'Alice':\n",
    "    print('Hi, Alice.')\n",
    "    \n",
    "elif height > 6.5:\n",
    "    print('Tall stranger') \n",
    "    \n",
    "else:\n",
    "    print('Wrong person')\n",
    "```"
   ]
  },
  {
   "cell_type": "code",
   "execution_count": 13,
   "metadata": {
    "pycharm": {
     "name": "#%%\n"
    }
   },
   "outputs": [
    {
     "name": "stdout",
     "output_type": "stream",
     "text": [
      "Wrong person\n"
     ]
    }
   ],
   "source": [
    "name ='Francis'\n",
    "height = 5.5\n",
    "\n",
    "if name == 'Alice':\n",
    "    print('Hi, Alice.')\n",
    "    \n",
    "elif height > 6.5:\n",
    "    print('Tall stranger') \n",
    "    \n",
    "else:\n",
    "    print('Wrong person')"
   ]
  },
  {
   "cell_type": "markdown",
   "metadata": {
    "pycharm": {
     "name": "#%% md\n"
    }
   },
   "source": [
    "### Try it for yourself!\n",
    "\n",
    "Using the example above, Change the code so that the `elif` conditional statement is true such that Python prints *Tall stranger*. You can either change `elif` statement itself or change the values assigned to the variables. \n",
    "\n",
    "In the next line, add a second elif statement in the block of code. "
   ]
  },
  {
   "cell_type": "code",
   "execution_count": null,
   "metadata": {
    "pycharm": {
     "name": "#%%\n"
    }
   },
   "outputs": [],
   "source": [
    "## Adjust the code so the elif conditional statement is met, and it prints 'Tall stranger'\n"
   ]
  },
  {
   "cell_type": "markdown",
   "metadata": {
    "pycharm": {
     "name": "#%% md\n"
    }
   },
   "source": [
    "## Nested vs Chained Conditional  \n",
    "\n",
    "Both Nested and Chained Conditionals are similar in that they check for multiple conditional statements. They allow you to evaluate and execute another conditional statement, when the first `if` conditional statment is False. You will also notice that the syntax is a bit different. When nesting conditional statements, you have to indent the second set of `if` and `else` conditional statements. When using the `elif` conditional statement to check for another condition, you do not need to indent. \n",
    "\n",
    "The first example below uses nested conditionals to test a second set of conditions. Run the code, you will see that neither of the if-conditional statements are true. Given we assign the string value *\"South Negley Ave\"* to the variable *street_name* and a numerical value of 200 to the variable *street_num*, they fulfill neither of the `if` conditions. Python then skips the two clauses and evaluates the last `else` statement and executes the last clause, whcih is to print *'You are in Shadyside, but not Shady Ave'*. \n",
    "\n",
    "\n",
    "*Example using Nested Conditionals* \n",
    "```Python \n",
    "street_name = \"South Negley Ave\"\n",
    "street_num = 200 \n",
    "\n",
    "\n",
    "if street_name == \"Shady Ave\":\n",
    "    print('You are on Shady Ave')\n",
    "else:\n",
    "    if street_num > 605:\n",
    "        print('You are in Squirre Hill, but not on Shady Ave')\n",
    "    else:\n",
    "        print('You are in Shadyside, but not on Shady Ave')\n",
    "        \n",
    "```\n",
    "\n",
    "The second example uses chained conditionals and results in the same outcome. Python also prints the last clause, *'You are in Shadyside, but not Shady Ave'*. Again, because the *street_name* is *South Negley Ave* and *street_num* equals 200, neither of the `if` conditional statements are True. Python skips both clauses and evalutes the `else` statement and executes the last clause.  \n",
    "\n",
    "*Example using Chained Conditionals* \n",
    "\n",
    "```Python\n",
    "street_name = \"South Negley Ave\"\n",
    "street_num = 200 \n",
    "\n",
    "if street_name == \"Shady Ave\":\n",
    "    print('You are on Shady Ave')\n",
    "    \n",
    "elif street_num > 605:\n",
    "    print('You are in Squirre Hill, but not on Shady Ave')\n",
    "else:\n",
    "    print('You are in Shadyside, but not on Shady Ave')\n",
    "\n",
    "```"
   ]
  },
  {
   "cell_type": "code",
   "execution_count": 27,
   "metadata": {
    "pycharm": {
     "name": "#%%\n"
    }
   },
   "outputs": [
    {
     "name": "stdout",
     "output_type": "stream",
     "text": [
      "You are in Shadyside, but not on Shady Ave\n"
     ]
    }
   ],
   "source": [
    "#Using Nested Conditionals:\n",
    "street_name = \"South Negley Ave\"\n",
    "street_num = 200 \n",
    "\n",
    "\n",
    "if street_name == \"Shady Ave\":\n",
    "    print('You are on Shady Ave')\n",
    "else:\n",
    "    if street_num > 605:\n",
    "        print('You are in Squirre Hill, but not on Shady Ave')\n",
    "    else:\n",
    "        print('You are in Shadyside, but not on Shady Ave')\n",
    "        "
   ]
  },
  {
   "cell_type": "code",
   "execution_count": 29,
   "metadata": {
    "pycharm": {
     "name": "#%%\n"
    }
   },
   "outputs": [
    {
     "name": "stdout",
     "output_type": "stream",
     "text": [
      "You are in Shadyside, but not on Shady Ave\n"
     ]
    }
   ],
   "source": [
    "# Producing the same clause but using chained conditionals:\n",
    "\n",
    "street_name = \"South Negley Ave\"\n",
    "street_num = 200 \n",
    "\n",
    "\n",
    "if street_name == \"Shady Ave\":\n",
    "    print('You are on Shady Ave')\n",
    "    \n",
    "elif street_num > 605:\n",
    "    print('You are in Squirre Hill, but not on Shady Ave')\n",
    "else:\n",
    "    print('You are in Shadyside, but not on Shady Ave')\n",
    "\n"
   ]
  },
  {
   "cell_type": "markdown",
   "metadata": {
    "pycharm": {
     "name": "#%% md\n"
    }
   },
   "source": [
    "## Mutiple Conditionals using  `and`, `or`\n",
    "\n",
    "We can also leverage comparison and boolean conditions within a block of code. In the example below, we will include `and` and `or` in the `if` and `else` conditional statements. \n",
    "\n",
    "For films that are rated R, minors under the age of 17 must be accompanied by an adult or if they are over 17 they can buy ticket without an adult. There is an `and` , in which anyone under 17 must be companied by an adult. As well, there is an `or` condition, in which anyone older than 17 can enter without an adult. In the example below age equals 13 and parent is assigned the string value of *'no'*. Therefore, neither of the conditions are met or True. Python then skips the clause and evaluates the `else` statement and prints *'Sorry, you cannot enter'*\n",
    "\n",
    "``` Python \n",
    "\n",
    "age = 13 \n",
    "parent = \"no\"\n",
    "\n",
    "if ((age<=17) and (parent==\"yes\")) or ((age>=17) and (parent==\"no\")):\n",
    "    print(\"You're admitted\")\n",
    "\n",
    "else:\n",
    "    print(\"Sorry, you cannot enter \")\n",
    "\n",
    "```\n",
    "\n"
   ]
  },
  {
   "cell_type": "code",
   "execution_count": 32,
   "metadata": {
    "pycharm": {
     "name": "#%%\n"
    }
   },
   "outputs": [
    {
     "name": "stdout",
     "output_type": "stream",
     "text": [
      "Sorry, you cannot enter \n"
     ]
    }
   ],
   "source": [
    "## For films that are rated R, anyone under the age of 16 must be accompanied by an adult to gain admission. \n",
    "## Let's use the \"and\" and \"or\" with \"if\" and \"else\"\n",
    "\n",
    "age = 13 \n",
    "parent = \"no\"\n",
    "\n",
    "if ((age<=17) and (parent==\"yes\")) or ((age>=17) and (parent==\"no\")):\n",
    "    print(\"You're admitted\")\n",
    "\n",
    "else:\n",
    "    print(\"Sorry, you cannot enter \")"
   ]
  },
  {
   "cell_type": "markdown",
   "metadata": {
    "pycharm": {
     "name": "#%% md\n"
    }
   },
   "source": [
    "### We can also get the same result using the `elif` statement\n",
    "\n",
    "Instead of including `or` in the `if` statement, a chained conditional using the `elif` statement is used to evaluate the condition of when age is older than 17 and there is no parent. \n",
    "\n",
    "```Python\n",
    "age = 13 \n",
    "parent = \"no\"\n",
    "\n",
    "if ((age<=17) and (parent==\"yes\")):\n",
    "    print (\"You're admitted\")\n",
    "elif ((age>=17) and (parent==\"no\")):\n",
    "    print(\"You're admitted\")\n",
    "else:\n",
    "    print(\"Sorry, you cannot enter \")\n",
    "    \n",
    "``` \n"
   ]
  },
  {
   "cell_type": "code",
   "execution_count": 33,
   "metadata": {
    "pycharm": {
     "name": "#%%\n"
    }
   },
   "outputs": [
    {
     "name": "stdout",
     "output_type": "stream",
     "text": [
      "Sorry, you cannot enter \n"
     ]
    }
   ],
   "source": [
    "## Using elif instead of or \n",
    "\n",
    "\n",
    "age = 13 \n",
    "parent = \"no\"\n",
    "\n",
    "if ((age<=17) and (parent==\"yes\")):\n",
    "    print (\"You're admitted\")\n",
    "elif ((age>=17) and (parent==\"no\")):\n",
    "    print(\"You're admitted\")\n",
    "else:\n",
    "    print(\"Sorry, you cannot enter \")\n"
   ]
  },
  {
   "cell_type": "markdown",
   "metadata": {
    "pycharm": {
     "name": "#%% md\n"
    }
   },
   "source": [
    "### Let's try it for yourself! \n",
    "\n",
    "Copy and paste the example from above, but instead of the `or` operator and chained conditional, use a nested conditionl to determine when an individual can be allowed entrance to an R-rated film. Feel free to change the values assigned to *age* and *parent*\n"
   ]
  },
  {
   "cell_type": "code",
   "execution_count": 35,
   "metadata": {
    "pycharm": {
     "name": "#%%\n"
    }
   },
   "outputs": [],
   "source": [
    "## Based on the example above, use a nested conditional \n",
    "\n",
    "age =\n",
    "parent = ''"
   ]
  },
  {
   "cell_type": "markdown",
   "metadata": {
    "pycharm": {
     "name": "#%% md\n"
    }
   },
   "source": [
    "## PRACTICE QUESTIONS\n",
    "\n",
    "If you get stuck, scroll to the bottom \n",
    "\n"
   ]
  },
  {
   "cell_type": "code",
   "execution_count": null,
   "metadata": {
    "pycharm": {
     "name": "#%%\n"
    }
   },
   "outputs": [],
   "source": []
  },
  {
   "cell_type": "markdown",
   "metadata": {
    "pycharm": {
     "name": "#%% md\n"
    }
   },
   "source": [
    "### Question 1 Use Conditioinal Statements and Modulus (%) to Check for Even or Odd \n",
    "\n",
    "* Use conditional statements to check if a variable *x* is even or odd \n",
    "* There should be two clauses , *x is even* and *x is odd*\n"
   ]
  },
  {
   "cell_type": "code",
   "execution_count": null,
   "metadata": {
    "pycharm": {
     "name": "#%%\n"
    }
   },
   "outputs": [],
   "source": [
    "# check to see if x is even or odd\n",
    "## First, assign a value to X; next use if and else conditional statements\n",
    "\n",
    "x = 20\n"
   ]
  },
  {
   "cell_type": "code",
   "execution_count": null,
   "metadata": {
    "pycharm": {
     "name": "#%%\n"
    }
   },
   "outputs": [],
   "source": []
  },
  {
   "cell_type": "markdown",
   "metadata": {
    "pycharm": {
     "name": "#%% md\n"
    }
   },
   "source": [
    "### Question 2 Ski Trip Challenge\n",
    "\n",
    "This program considers a number of variables that, when used in conditional statements, will determine whether or not our skiier, Bob, can go on his ski trip\n",
    "\n",
    "The program provides values for how much it snowed outside (int), whether or not the slope is open (boolean), whether or not his skis are sharpened (boolean), and whether or not the roads were salted the night before (boolean). Bob is only interested in skiing if there are at least 6 inches of fresh powder on the slopes. He can't drive to the slopes if there were more than 12 inches of snowfall unless the roads were salted the night before - if they were, he can drive in up to 18 inches of snowfall.\n",
    "\n",
    "Using the above facts, the program will set the variables and determine whether or not Bob can ski today.\n",
    "\n",
    "Challenge\n",
    "Now the program will consider whether or not Bob is sick. If he is, he will not go skiing. Declare a new boolean variable to represent this new fact and add the new logic into the conditional below."
   ]
  },
  {
   "cell_type": "code",
   "execution_count": null,
   "metadata": {
    "pycharm": {
     "name": "#%%\n"
    }
   },
   "outputs": [],
   "source": [
    "# Set variables such that there were 16 inches of snowfall, Bob's skis are sharpened, the slope is open, \n",
    "# and the roads are salted\n",
    "SNOWFALL = \n",
    "\n",
    "SKIS_SHARPENED = \n",
    "SLOPE_OPEN = \n",
    "ROADS_SALTED = "
   ]
  },
  {
   "cell_type": "code",
   "execution_count": null,
   "metadata": {
    "pycharm": {
     "name": "#%%\n"
    }
   },
   "outputs": [],
   "source": [
    "# We will also use a variable of our own, BOB_SKIS, as a flag to help us output the result later\n",
    "BOB_SKIS = "
   ]
  },
  {
   "cell_type": "code",
   "execution_count": null,
   "metadata": {
    "pycharm": {
     "name": "#%%\n"
    }
   },
   "outputs": [],
   "source": [
    "# First, determine whether or not Bob can ski using nested conditional statements. By setting BOB_SKIS to False above, \n",
    "# we only need to evaluate for the cases in which Bob can ski. If we don't meet those conditions, our result will \n",
    "# already evaluate to false!\n"
   ]
  },
  {
   "cell_type": "code",
   "execution_count": null,
   "metadata": {
    "pycharm": {
     "name": "#%%\n"
    }
   },
   "outputs": [],
   "source": [
    "# Finally, we will use one more conditional to print the result\n"
   ]
  },
  {
   "cell_type": "markdown",
   "metadata": {
    "pycharm": {
     "name": "#%% md\n"
    }
   },
   "source": [
    "### ANSWERS"
   ]
  },
  {
   "cell_type": "code",
   "execution_count": null,
   "metadata": {
    "pycharm": {
     "name": "#%%\n"
    }
   },
   "outputs": [],
   "source": [
    "## Answers to Question 1\n",
    "\n",
    "x = 20\n",
    "if (x % 2) == 0: # using the modulo operator\n",
    "    print(\"x is even\")\n",
    "else:\n",
    "    print(\"x is odd\")"
   ]
  },
  {
   "cell_type": "code",
   "execution_count": null,
   "metadata": {
    "pycharm": {
     "name": "#%%\n"
    }
   },
   "outputs": [],
   "source": [
    "## Answers to Ski Trip Challenge\n",
    "\n",
    "# Set variables such that there were 16 inches of snowfall, Bob's skis are sharpened, the slope is open, \n",
    "# and the roads are salted\n",
    "SNOWFALL = 16\n",
    "\n",
    "SKIS_SHARPENED = True\n",
    "SLOPE_OPEN = True\n",
    "ROADS_SALTED = True"
   ]
  },
  {
   "cell_type": "code",
   "execution_count": null,
   "metadata": {
    "pycharm": {
     "name": "#%%\n"
    }
   },
   "outputs": [],
   "source": [
    "# We will also use a variable of our own, BOB_SKIS, as a flag to help us output the result later\n",
    "BOB_SKIS = False"
   ]
  },
  {
   "cell_type": "code",
   "execution_count": null,
   "metadata": {
    "pycharm": {
     "name": "#%%\n"
    }
   },
   "outputs": [],
   "source": [
    "# First, determine whether or not Bob can ski using nested conditional statements. By setting BOB_SKIS to False above, \n",
    "# we only need to evaluate for the cases in which Bob can ski. If we don't meet those conditions, our result will \n",
    "# already evaluate to false!\n",
    "if SKIS_SHARPENED == True:\n",
    "    if SLOPE_OPEN == True:\n",
    "        if ROADS_SALTED == True:\n",
    "            if (SNOWFALL >= 6 and SNOWFALL <= 18):\n",
    "                BOB_SKIS = True\n",
    "        else:\n",
    "            if (SNOWFALL >= 6 and SNOWFALL <= 12):\n",
    "                BOB_SKIS = True"
   ]
  },
  {
   "cell_type": "code",
   "execution_count": null,
   "metadata": {
    "pycharm": {
     "name": "#%%\n"
    }
   },
   "outputs": [],
   "source": [
    "# Finally, we will use one more conditional to print the result\n",
    "if BOB_SKIS == True:\n",
    "    print(\"Bob will go skiing today!\")\n",
    "else:\n",
    "    print(\"Bob will NOT go skiing today :(\")"
   ]
  }
 ],
 "metadata": {
  "kernelspec": {
   "display_name": "Python 3 (ipykernel)",
   "language": "python",
   "name": "python3"
  },
  "language_info": {
   "codemirror_mode": {
    "name": "ipython",
    "version": 3
   },
   "file_extension": ".py",
   "mimetype": "text/x-python",
   "name": "python",
   "nbconvert_exporter": "python",
   "pygments_lexer": "ipython3",
   "version": "3.9.12"
  }
 },
 "nbformat": 4,
 "nbformat_minor": 4
}
