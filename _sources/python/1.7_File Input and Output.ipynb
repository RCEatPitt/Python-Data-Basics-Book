{
 "cells": [
  {
   "cell_type": "markdown",
   "metadata": {
    "pycharm": {
     "name": "#%% md\n"
    }
   },
   "source": [
    "# File Input and Output\n",
    "\n",
    "Up to now we haven't really been doing much with data, only what we type into the notebooks (short strings, numbers, lists etc). In many cases our source of data comes from files. Learning how to import, open and save files are important for processing larger amounts of data.\n",
    "\n",
    "In this module we will cover the following topics:\n",
    "* how to read and open files \n",
    "* how to write files \n",
    "* hope to close files "
   ]
  },
  {
   "cell_type": "code",
   "execution_count": 5,
   "metadata": {
    "pycharm": {
     "name": "#%%\n"
    }
   },
   "outputs": [
    {
     "name": "stderr",
     "output_type": "stream",
     "text": [
      "cat: test.txt: No such file or directory\n"
     ]
    }
   ],
   "source": [
    "# use the shell command cat to display the contents of the file test.txt\n",
    "!cat test.txt"
   ]
  },
  {
   "cell_type": "markdown",
   "metadata": {
    "pycharm": {
     "name": "#%% md\n"
    }
   },
   "source": [
    "## Opening files\n",
    "\n",
    "We use the `open()` function to establish a *connection* to a file on disk. Once a file has been opened, we can perform operations on it like reading it into memory. Also be sure to use the `close()` function when you are done with the file (i.e. read the contents into memory)\n",
    "\n",
    "**Syntax**\n",
    "When we open a file, we assign it to an empty object, which in the case is `find_handler`. `file_handler` is a connection to the file, but it isn't the file contents itself. The name directory of the file and name of the file follows the `open` function and is placed within the parenthesis. Be sure to use quotations, double or single, when you identify the directory and name of the file. It's then followed by a built-in feature with the open function, here we are opening the document in `read` mode. In `read` mode, Python reads the entire file into memory at once. Don't do this with large files! We will use other techniques to read their contents. \n",
    "\n",
    "We then assign file_handler to an empty variable, called `file_contents`. We then print file_contents, which produces the contents of the text file. \n"
   ]
  },
  {
   "cell_type": "code",
   "execution_count": 97,
   "metadata": {
    "pycharm": {
     "name": "#%%\n"
    }
   },
   "outputs": [],
   "source": [
    "file_handler = open(\"assets/test.txt\", 'r') # the 'r' tells Python you are Reading the file"
   ]
  },
  {
   "cell_type": "code",
   "execution_count": 98,
   "metadata": {
    "pycharm": {
     "name": "#%%\n"
    }
   },
   "outputs": [
    {
     "data": {
      "text/plain": [
       "'I am a text file.\\nI am not very big.\\nOnly three lines of text.'"
      ]
     },
     "execution_count": 98,
     "metadata": {},
     "output_type": "execute_result"
    }
   ],
   "source": [
    "# read the file into a variable\n",
    "file_contents = file_handler.read()\n",
    "file_contents"
   ]
  },
  {
   "cell_type": "code",
   "execution_count": 95,
   "metadata": {
    "pycharm": {
     "name": "#%%\n"
    }
   },
   "outputs": [
    {
     "data": {
      "text/plain": [
       "'I am a text file.\\nI am not very big.\\nOnly three lines of text.'"
      ]
     },
     "execution_count": 95,
     "metadata": {},
     "output_type": "execute_result"
    }
   ],
   "source": [
    "## You can also read the contents without creating a new varaible \n",
    "file_handler.read()"
   ]
  },
  {
   "cell_type": "markdown",
   "metadata": {
    "pycharm": {
     "name": "#%% md\n"
    }
   },
   "source": [
    "### Remember to close the file! \n",
    "\n",
    "Notice when we run the same code again, it comes up empty, the contents of the file that was printed above don't appear again. That's because once we read() a file, we have to close it and re-open it. For good meausre, you shoudl always close a file when you're done with it. "
   ]
  },
  {
   "cell_type": "code",
   "execution_count": 13,
   "metadata": {
    "pycharm": {
     "name": "#%%\n"
    }
   },
   "outputs": [
    {
     "data": {
      "text/plain": [
       "''"
      ]
     },
     "execution_count": 13,
     "metadata": {},
     "output_type": "execute_result"
    }
   ],
   "source": [
    "# read the file into a variable\n",
    "file_contents = file_handler.read()\n",
    "file_contents"
   ]
  },
  {
   "cell_type": "code",
   "execution_count": null,
   "metadata": {
    "pycharm": {
     "name": "#%%\n"
    }
   },
   "outputs": [],
   "source": [
    "# close the previous open\n",
    "file_handler.close()"
   ]
  },
  {
   "cell_type": "code",
   "execution_count": 17,
   "metadata": {
    "pycharm": {
     "name": "#%%\n"
    }
   },
   "outputs": [
    {
     "name": "stdout",
     "output_type": "stream",
     "text": [
      "I am a text file.\n",
      "I am not very big.\n",
      "Only three lines of text.\n"
     ]
    }
   ],
   "source": [
    "# re-open the file and read it in\n",
    "file_handler = open(\"assets/test.txt\", 'r') \n",
    "file_contents = file_handler.read()\n",
    "print(file_contents)\n",
    "file_handler.close() # close it for good measure, you should always close a file when you are done"
   ]
  },
  {
   "cell_type": "markdown",
   "metadata": {
    "pycharm": {
     "name": "#%% md\n"
    }
   },
   "source": [
    "###  The `\\n` Character  \n",
    "One thing to note, the \"\\n\" gets printed as a newline by the `print()` function vs. raw output from Jupyter. When working with files, it is really important to understand the *newline* character A newline is represented in a string by `\\n`. This is useful for processing a text file line-by-line\n",
    "\n",
    "Print the following code, one without the `\\n` character and one with the `\\n` character. \n",
    "\n",
    "```python\n",
    "print(\"Hello World!\")\n",
    "\n",
    "print(\"Hello\\nWorld!\")\n",
    "```\n",
    "\n",
    "We can use the repr() function to see the raw string from the file. \n",
    "\n",
    "```Python \n",
    "print(repr(\"Hello\\nWorld!\"))\n",
    "```"
   ]
  },
  {
   "cell_type": "code",
   "execution_count": 27,
   "metadata": {
    "pycharm": {
     "name": "#%%\n"
    }
   },
   "outputs": [
    {
     "name": "stdout",
     "output_type": "stream",
     "text": [
      "Hello World!\n"
     ]
    }
   ],
   "source": [
    "print(\"Hello World!\")"
   ]
  },
  {
   "cell_type": "code",
   "execution_count": 26,
   "metadata": {
    "pycharm": {
     "name": "#%%\n"
    }
   },
   "outputs": [
    {
     "name": "stdout",
     "output_type": "stream",
     "text": [
      "Hello\n",
      "World!\n"
     ]
    }
   ],
   "source": [
    "# A string with a newline in it\n",
    "print(\"Hello\\nWorld!\")"
   ]
  },
  {
   "cell_type": "code",
   "execution_count": 28,
   "metadata": {
    "pycharm": {
     "name": "#%%\n"
    }
   },
   "outputs": [
    {
     "name": "stdout",
     "output_type": "stream",
     "text": [
      "'Hello\\nWorld!'\n"
     ]
    }
   ],
   "source": [
    "# leveraging the repr() function:\n",
    "\n",
    "print(repr(\"Hello\\nWorld!\"))"
   ]
  },
  {
   "cell_type": "markdown",
   "metadata": {
    "pycharm": {
     "name": "#%% md\n"
    }
   },
   "source": [
    "### Working with files line by line\n",
    "\n",
    "When you have files with data on each line, especially large files, you can loop over them. Just like iterating over lists, you can iterate over files. Python reads the contents of the file until it hits \"\\n\" and then it puts that in the loop variable. Useful for working with *extremely large* files because you only store one line in memory at a time"
   ]
  },
  {
   "cell_type": "code",
   "execution_count": 29,
   "metadata": {
    "pycharm": {
     "name": "#%%\n"
    }
   },
   "outputs": [
    {
     "name": "stdout",
     "output_type": "stream",
     "text": [
      "I am a text file.\n",
      "\n",
      "I am not very big.\n",
      "\n",
      "Only three lines of text.\n"
     ]
    }
   ],
   "source": [
    "file_handler = open(\"assets/test.txt\", 'r')\n",
    "for line in file_handler:\n",
    "    print(line)\n",
    "file_handler.close()"
   ]
  },
  {
   "cell_type": "markdown",
   "metadata": {
    "pycharm": {
     "name": "#%% md\n"
    }
   },
   "source": [
    "### Reading Data Files\n",
    "\n",
    "A file handler is not the file, it is a pointer to the file. This is how python can work with HUGE files. We can process large files line by line (assuming there are multiple lines). Each line gets treated as a separate string.\n",
    "\n",
    "The following code counts the number of lines in the document. \n",
    "\n",
    "```python\n",
    "# count the number of lines in the text file\n",
    "file_handler = open('assets/diabetes.csv', 'r')\n",
    "count = 0\n",
    "for line in file_handler:\n",
    "    count = count + 1\n",
    "    #count+=1\n",
    "file_handler.close()\n",
    "print(count)\n",
    "```"
   ]
  },
  {
   "cell_type": "code",
   "execution_count": 30,
   "metadata": {
    "pycharm": {
     "name": "#%%\n"
    }
   },
   "outputs": [
    {
     "name": "stderr",
     "output_type": "stream",
     "text": [
      "head: cannot open 'diabetes.csv' for reading: No such file or directory\n"
     ]
    }
   ],
   "source": [
    "# use the unix command head to see the first 25 lines of the file\n",
    "!head -n 25 diabetes.csv"
   ]
  },
  {
   "cell_type": "markdown",
   "metadata": {
    "pycharm": {
     "name": "#%% md\n"
    }
   },
   "source": [
    "* Lets count the lines of the file"
   ]
  },
  {
   "cell_type": "code",
   "execution_count": 31,
   "metadata": {
    "pycharm": {
     "name": "#%%\n"
    }
   },
   "outputs": [
    {
     "name": "stdout",
     "output_type": "stream",
     "text": [
      "404\n"
     ]
    }
   ],
   "source": [
    "# count the number of lines in the text file\n",
    "file_handler = open('assets/diabetes.csv', 'r')\n",
    "count = 0\n",
    "for line in file_handler:\n",
    "    count = count + 1\n",
    "    #count+=1\n",
    "file_handler.close()\n",
    "print(count)"
   ]
  },
  {
   "cell_type": "markdown",
   "metadata": {
    "pycharm": {
     "name": "#%% md\n"
    }
   },
   "source": [
    "## Reading in all the data\n",
    "\n",
    "Why don't we read every line of the file into memory as a list? To start, we need create an empty list. We then append each line to the empty list. Each line therefore becomes one item in a list called *data*. "
   ]
  },
  {
   "cell_type": "code",
   "execution_count": null,
   "metadata": {
    "pycharm": {
     "name": "#%%\n"
    }
   },
   "outputs": [],
   "source": [
    "# create an empty list to store each line\n",
    "data = [] \n",
    "\n",
    "# count the number of lines in the text file\n",
    "file_handler = open('assets/diabetes.csv', 'r')\n",
    "for line in file_handler:\n",
    "    # use the append function to add each line\n",
    "    data.append(line)\n",
    "file_handler.close() # close the file handler now that we are done.\n",
    "\n",
    "print(\"Length:\", len(data))\n",
    "print(\"First 10 lines:\", data[0:10])\n"
   ]
  },
  {
   "cell_type": "markdown",
   "metadata": {
    "pycharm": {
     "name": "#%% md\n"
    }
   },
   "source": [
    "## Write() Mode: writing files \n",
    "\n",
    "Above we looked at the read() mode within the open() function. There's also an option to `write()` files. Instead of reading the contents of a file into an object, write() mode, writes the content into a file. For an existing document, it will overwrite the content already in the file. \n",
    "\n",
    "Let's look at an example. If we open and read this text, you'll notice the content are numbers. When we use the write() mode, we are overwriting the file with new content. We'll use the write() mode to change the existing content, and substitute numbers with alphabetical characters. \n"
   ]
  },
  {
   "cell_type": "code",
   "execution_count": 79,
   "metadata": {
    "pycharm": {
     "name": "#%%\n"
    }
   },
   "outputs": [
    {
     "name": "stdout",
     "output_type": "stream",
     "text": [
      "1 2 3 4 5\n"
     ]
    }
   ],
   "source": [
    "num = open(\"assets/numbers_test.txt\", 'r') \n",
    "numbers = num.read()\n",
    "print(numbers )\n",
    "num.close()\n"
   ]
  },
  {
   "cell_type": "markdown",
   "metadata": {
    "pycharm": {
     "name": "#%% md\n"
    }
   },
   "source": [
    "To overwrite the existing text file, we create a new variable that contains the new content we would like to replace the text file with. We then re-open file, since in the previous line we closed the file. Within the parameters of the write() function, we identify the variable that contains the new text\n",
    "\n",
    "\n",
    "```Python\n",
    "new_text = ('one two three four five')\n",
    "num = open(\"assets/numbers_test.txt\", 'w') \n",
    "num.write(new_text)\n",
    "```\n",
    "\n",
    "To test if we successfully overwrite the file with alphabetical characters, let's read the file back in. \n",
    "\n",
    "```Python\n",
    "num = open(\"assets/numbers_test.txt\", 'r') \n",
    "numbers = num.read()\n",
    "print(numbers )\n",
    "num.close()\n",
    "```"
   ]
  },
  {
   "cell_type": "code",
   "execution_count": 80,
   "metadata": {
    "pycharm": {
     "name": "#%%\n"
    }
   },
   "outputs": [],
   "source": [
    "new_text = ('one two three four five')\n",
    "num = open(\"assets/numbers_test.txt\", 'w') \n",
    "num.write(new_text)\n",
    "# Closing file\n",
    "num.close()"
   ]
  },
  {
   "cell_type": "code",
   "execution_count": 81,
   "metadata": {
    "pycharm": {
     "name": "#%%\n"
    }
   },
   "outputs": [
    {
     "name": "stdout",
     "output_type": "stream",
     "text": [
      "one two three four five\n"
     ]
    }
   ],
   "source": [
    "num = open(\"assets/numbers_test.txt\", 'r') \n",
    "numbers = num.read()\n",
    "print(numbers )\n",
    "num.close()"
   ]
  },
  {
   "cell_type": "markdown",
   "metadata": {
    "pycharm": {
     "name": "#%% md\n"
    }
   },
   "source": [
    "##  Append() Mode: append files \n",
    "\n",
    "If you don't want to overwrite an existing file but just want to add content to the file, it's best to use the `append()` mode. It will append data to the end of a document file. You'll notice we insert `\\n` before the `new_text` variable. This inserts a new line before we append contents of new_text to the file. \n",
    "```Python\n",
    "num = open(\"assets/numbers_test.txt\", 'a') \n",
    "num.write(\"\\n\" + new_text)\n",
    "# Closing file\n",
    "num.close()\n",
    "``` "
   ]
  },
  {
   "cell_type": "code",
   "execution_count": 91,
   "metadata": {
    "pycharm": {
     "name": "#%%\n"
    }
   },
   "outputs": [],
   "source": [
    "num = open(\"assets/numbers_test.txt\", 'a') \n",
    "num.write(\"\\n\" + new_text)\n",
    "# Closing file\n",
    "num.close()"
   ]
  },
  {
   "cell_type": "markdown",
   "metadata": {
    "pycharm": {
     "name": "#%% md\n"
    }
   },
   "source": [
    "## With Open \n",
    "\n",
    "In the code blocks above, it was strongly advised to `close()` the file once you're done reading or writing the file. The `with open()` function allows you to avoid having to close() the file every time. Let's go back to the `test.txt` file \n",
    "\n",
    "**Syntax** \n",
    "\n",
    "You begin the code with `with open`, include the directory and name of the file in the paramater of the function. Make sure to include single or double quotations around the directory and file name. This is followed by the `as` keyword and the name of the empty object. You can give the empty object any name. Here, we've reused file_handler again. Create a new variable and assign the object to the variable, which in the example below is *test_doc*. Here, we are using the read() option to read the text file. You can also use the write() and append() option with the `with open` function. \n",
    "\n",
    "```Python\n",
    "with open('assets/test.txt') as file_handler:\n",
    "    test_doc = file_handler.read()\n",
    "    print(test_doc)\n",
    "\n",
    "``` "
   ]
  },
  {
   "cell_type": "code",
   "execution_count": 108,
   "metadata": {
    "pycharm": {
     "name": "#%%\n"
    }
   },
   "outputs": [
    {
     "name": "stdout",
     "output_type": "stream",
     "text": [
      "I am a text file.\n",
      "I am not very big.\n",
      "Only three lines of text.\n"
     ]
    }
   ],
   "source": [
    "with open('assets/test.txt') as file_handler:\n",
    "    test_doc = file_handler.read()\n",
    "    print(test_doc)"
   ]
  },
  {
   "cell_type": "markdown",
   "metadata": {
    "pycharm": {
     "name": "#%% md\n"
    }
   },
   "source": [
    "## Let's give it a try! \n",
    "\n",
    "Using the `with open` function, write or append text to the document called `tryit.txt`. You'll find the text file in the `Assets` folder. "
   ]
  },
  {
   "cell_type": "code",
   "execution_count": null,
   "metadata": {
    "pycharm": {
     "name": "#%%\n"
    }
   },
   "outputs": [],
   "source": [
    "## Wrote code here that uses the with open function to write or append text to the tryit.txt file. \n"
   ]
  },
  {
   "cell_type": "markdown",
   "metadata": {
    "pycharm": {
     "name": "#%% md\n"
    }
   },
   "source": [
    "## Working With CSV Files\n",
    "\n",
    "CSV files are used to store a large number of variables – or data. They are incredibly simplified spreadsheets – think Excel – only the content is stored in plaintext. Python has a CSV parser as part of the standard library. To parse CSV files, we use the csv module. The csv module provides a number of built-in functions to make it easier to parse and iterate through CSV files."
   ]
  },
  {
   "cell_type": "code",
   "execution_count": null,
   "metadata": {
    "collapsed": true,
    "jupyter": {
     "outputs_hidden": true
    },
    "pycharm": {
     "name": "#%%\n"
    }
   },
   "outputs": [],
   "source": [
    "#  load the CSV module \n",
    "import csv\n",
    "\n",
    "# open the diabetes file\n",
    "diabetes_file = open(\"assets/diabetes.csv\")"
   ]
  },
  {
   "cell_type": "markdown",
   "metadata": {
    "pycharm": {
     "name": "#%% md\n"
    }
   },
   "source": [
    "* Now we need to tell Python that the file stored in diabetes_file variable should be read as and interpreted as a CSV file. \n",
    "*  We do that by calling on the `reader()` function of the csv module"
   ]
  },
  {
   "cell_type": "code",
   "execution_count": null,
   "metadata": {
    "collapsed": true,
    "jupyter": {
     "outputs_hidden": true
    },
    "pycharm": {
     "name": "#%%\n"
    }
   },
   "outputs": [],
   "source": [
    "# Create a CSV reader \n",
    "diabetes_data = csv.reader(diabetes_file)"
   ]
  },
  {
   "cell_type": "markdown",
   "metadata": {
    "pycharm": {
     "name": "#%% md\n"
    }
   },
   "source": [
    "* At this point, the entire CSV file is treated as a table - a collection of rows and columns\n",
    "* We can iterate (loop) through this table and get access to each individual row, just like the line-by-line above\n",
    "* But CSV automatically splits it all into different values!"
   ]
  },
  {
   "cell_type": "code",
   "execution_count": null,
   "metadata": {
    "pycharm": {
     "name": "#%%\n"
    }
   },
   "outputs": [],
   "source": [
    "# loop over the file and print the row contents\n",
    "for row in diabetes_data:\n",
    "    print(row)\n",
    "    "
   ]
  },
  {
   "cell_type": "markdown",
   "metadata": {
    "pycharm": {
     "name": "#%% md\n"
    }
   },
   "source": [
    "* You probably noticed that the row variable is just a list - it is a list of values contained in each column.\n",
    "* You can access individual columns exactly the same way you would access values in a list.\n",
    "* For example, the value of cholesterol is in a column called 'chol', which is a second column and therefore has the index of 1"
   ]
  },
  {
   "cell_type": "code",
   "execution_count": null,
   "metadata": {
    "pycharm": {
     "name": "#%%\n"
    }
   },
   "outputs": [],
   "source": [
    "# Since we already iterated through the CSV file once, we need to tell Python to start at the beginning again\n",
    "# This action is called 'resetting the read position of the file object'\n",
    "# It basically is like re-opening the file\n",
    "diabetes_file.seek(0) \n",
    "\n",
    "for row in diabetes_data:\n",
    "    print(row[1]) # print only the values for the chol column"
   ]
  },
  {
   "cell_type": "markdown",
   "metadata": {
    "pycharm": {
     "name": "#%% md\n"
    }
   },
   "source": [
    "* You probably also noticed that the first row does not contain data - it's just the column headers\n",
    "* In order for us to do any mathematical or statistical operations on the data, we need to EXCLUDE the header\n",
    "* We have to skip the header row. We can do this with the `next()` function to separate the header rows"
   ]
  },
  {
   "cell_type": "code",
   "execution_count": null,
   "metadata": {
    "pycharm": {
     "name": "#%%\n"
    }
   },
   "outputs": [],
   "source": [
    "# One way to do this is with a counter variable\n",
    "\n",
    "diabetes_file.seek(0) # Reset the read position of the file object\n",
    "\n",
    "# use next to skip the header row\n",
    "headers = next(diabetes_file)\n",
    "print(headers)\n",
    "\n",
    "# now we can iterate through just the data values\n",
    "for row in diabetes_data:\n",
    "    print(row[1]) # print only the values for the chol column\n"
   ]
  },
  {
   "cell_type": "markdown",
   "metadata": {
    "pycharm": {
     "name": "#%% md\n"
    }
   },
   "source": [
    "## Practice Questions\n",
    "\n"
   ]
  },
  {
   "cell_type": "markdown",
   "metadata": {
    "pycharm": {
     "name": "#%% md\n"
    }
   },
   "source": [
    "### CSV files - Challenge 1\n",
    "\n",
    "Calculate the average and the highest (max) cholesterol value based on the data available in the dataset."
   ]
  },
  {
   "cell_type": "code",
   "execution_count": null,
   "metadata": {
    "pycharm": {
     "name": "#%%\n"
    }
   },
   "outputs": [],
   "source": [
    "# Step 1: Import csv module\n",
    "import csv"
   ]
  },
  {
   "cell_type": "code",
   "execution_count": null,
   "metadata": {
    "pycharm": {
     "name": "#%%\n"
    }
   },
   "outputs": [],
   "source": [
    "# Step 2: Read the csv file\n",
    "diabetes_file = open(\"diabetes.csv\")\n",
    "diabetes_data = csv.reader(diabetes_file)"
   ]
  },
  {
   "cell_type": "code",
   "execution_count": null,
   "metadata": {
    "pycharm": {
     "name": "#%%\n"
    }
   },
   "outputs": [],
   "source": [
    "# Step 3: Iterate through csv data\n",
    "cnt = 0 # Initialize a temporary counter\n",
    "diabetes_file.seek(0) # Reset the read position of the file object\n",
    "\n",
    "# Hint: you'll need to declare variables to store average and maximum cholesterol here (outside of the loop)\n",
    "for row in diabetes_data:\n",
    "    if cnt > 0:\n",
    "        ################################################################################################\n",
    "        # This is where you need to complete the logic for calculating average and maximum cholesterol\n",
    "        ################################################################################################\n",
    "        \n",
    "        print(row[1]) # print only the values for the chol column\n",
    "    cnt = cnt + 1 # Increment the counter by one"
   ]
  },
  {
   "cell_type": "code",
   "execution_count": null,
   "metadata": {
    "pycharm": {
     "name": "#%%\n"
    }
   },
   "outputs": [],
   "source": []
  },
  {
   "cell_type": "code",
   "execution_count": null,
   "metadata": {
    "pycharm": {
     "name": "#%%\n"
    }
   },
   "outputs": [],
   "source": []
  },
  {
   "cell_type": "markdown",
   "metadata": {
    "pycharm": {
     "name": "#%% md\n"
    }
   },
   "source": [
    "### Answers"
   ]
  },
  {
   "cell_type": "code",
   "execution_count": null,
   "metadata": {
    "pycharm": {
     "name": "#%%\n"
    }
   },
   "outputs": [],
   "source": [
    "# Step 1: Import csv module\n",
    "import csv"
   ]
  },
  {
   "cell_type": "code",
   "execution_count": null,
   "metadata": {
    "pycharm": {
     "name": "#%%\n"
    }
   },
   "outputs": [],
   "source": [
    "# Step 2: Read the csv file\n",
    "diabetes_file = open(\"diabetes.csv\")\n",
    "diabetes_data = csv.reader(diabetes_file)"
   ]
  },
  {
   "cell_type": "code",
   "execution_count": null,
   "metadata": {
    "pycharm": {
     "name": "#%%\n"
    }
   },
   "outputs": [],
   "source": [
    "# Step 3: Calculate average cholesterol\n",
    "\n",
    "cnt = 0 # Initialize a temporary counter\n",
    "diabetes_file.seek(0) # Reset the read position of the file object\n",
    "total = 0 # This variable will hold the sum of all cholesterol values\n",
    "\n",
    "for row in diabetes_data:\n",
    "    if row[1] != \"\":\n",
    "        if cnt > 0:\n",
    "            total = total + int(row[1])\n",
    "        cnt = cnt + 1 # Increment the counter by one\n",
    "        \n",
    "print(\"Total: \" , total)\n",
    "print(\"Count: \" , cnt)\n",
    "\n",
    "avg_chol = total / cnt\n",
    "\n",
    "print(\"Average: \", avg_chol)"
   ]
  },
  {
   "cell_type": "code",
   "execution_count": null,
   "metadata": {
    "pycharm": {
     "name": "#%%\n"
    }
   },
   "outputs": [],
   "source": [
    "# Step 4: Calculate maximum cholesterol\n",
    "\n",
    "cnt = 0 # Initialize a temporary counter\n",
    "diabetes_file.seek(0) # Reset the read position of the file object\n",
    "max_chol = 0 # This variable will hold the sum of all cholesterol values\n",
    "\n",
    "for row in diabetes_data:\n",
    "    if row[1] != \"\":\n",
    "        if cnt > 0:\n",
    "            # Every time through the loop (for every row that contains a value)\n",
    "            # we compare the value from the data with the value stored in \n",
    "            # max_chol variable.  \n",
    "            # If the value from the data is larger, we set max_chol to that larger value\n",
    "            # After the loop finishes running, the largest value will be stored in max_chols\n",
    "            if max_chol < int(row[1]):\n",
    "                max_chol = int(row[1])\n",
    "        cnt = cnt + 1 # Increment the counter by one\n",
    "        \n",
    "\n",
    "print(\"Maximum cholesterol: \", max_chol)"
   ]
  }
 ],
 "metadata": {
  "kernelspec": {
   "display_name": "Python 3 (ipykernel)",
   "language": "python",
   "name": "python3"
  },
  "language_info": {
   "codemirror_mode": {
    "name": "ipython",
    "version": 3
   },
   "file_extension": ".py",
   "mimetype": "text/x-python",
   "name": "python",
   "nbconvert_exporter": "python",
   "pygments_lexer": "ipython3",
   "version": "3.9.12"
  },
  "toc-autonumbering": true
 },
 "nbformat": 4,
 "nbformat_minor": 4
}
