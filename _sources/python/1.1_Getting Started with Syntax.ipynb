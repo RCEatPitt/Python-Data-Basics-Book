{
 "cells": [
  {
   "cell_type": "markdown",
   "metadata": {
    "pycharm": {
     "name": "#%% md\n"
    }
   },
   "source": [
    "# Getting Started in Python \n",
    "\n",
    "In this module, students will be introduced to basic syntax and how to run code in Juptyr Notebook. We will be covering the following topics: \n",
    " \n",
    "* Basic Syntax \n",
    "* Error Messages \n",
    "* Python Vocabulary "
   ]
  },
  {
   "cell_type": "markdown",
   "metadata": {
    "pycharm": {
     "name": "#%% md\n"
    }
   },
   "source": [
    "\n",
    "\n",
    "## Basic Syntax \n",
    "\n",
    "### Making Comments \n",
    "\n",
    "When running code, you might want to include notes and comments. Simply, type the pound sign or hashtag `#` before the text. When your code is run, any text after the `#` sign is ignored by Python. Including comments can be a helpful way to explain your  code to readers. It will not affect the execution of your code. If you do include comments, but forget to add the `#` in front, it will result in error code. \n",
    "\n",
    "### Case Sensitivity \n",
    "\n",
    "Python code is case sensitive. A common error is mistyping the name of variables with the incorrect letter cases. \n",
    "\n",
    "In the cell below, type \n",
    "``` Python\n",
    "Ford = 1903\n",
    "print(FORD)```\n",
    "\n",
    "The example results in a `NameError` because Ford was assgined the value of 1903 and is stored in memory"
   ]
  },
  {
   "cell_type": "code",
   "execution_count": 1,
   "metadata": {
    "pycharm": {
     "name": "#%%\n"
    }
   },
   "outputs": [
    {
     "ename": "NameError",
     "evalue": "name 'ford' is not defined",
     "output_type": "error",
     "traceback": [
      "\u001b[0;31m---------------------------------------------------------------------------\u001b[0m",
      "\u001b[0;31mNameError\u001b[0m                                 Traceback (most recent call last)",
      "Input \u001b[0;32mIn [1]\u001b[0m, in \u001b[0;36m<cell line: 2>\u001b[0;34m()\u001b[0m\n\u001b[1;32m      1\u001b[0m Ford \u001b[38;5;241m=\u001b[39m \u001b[38;5;241m1903\u001b[39m\n\u001b[0;32m----> 2\u001b[0m \u001b[38;5;28mprint\u001b[39m (\u001b[43mford\u001b[49m)\n",
      "\u001b[0;31mNameError\u001b[0m: name 'ford' is not defined"
     ]
    }
   ],
   "source": [
    "Ford = 1903\n",
    "print (ford)"
   ]
  },
  {
   "cell_type": "markdown",
   "metadata": {
    "pycharm": {
     "name": "#%% md\n"
    }
   },
   "source": [
    "### Print Function \n",
    "\n",
    "The `print function` allows you to see the contents of the variable. You must include parenthesis around the variable. \n",
    "\n",
    "Try an example. In the cell below, assign any number to the variable `x` and `print x`: \n",
    "```python \n",
    "x = \n",
    "print(x) ```"
   ]
  },
  {
   "cell_type": "markdown",
   "metadata": {
    "pycharm": {
     "name": "#%% md\n"
    }
   },
   "source": [
    "You can also use semi colons `;` instead of a new line of code. In the example below, the code will successfully print the variable `y`"
   ]
  },
  {
   "cell_type": "code",
   "execution_count": null,
   "metadata": {
    "pycharm": {
     "name": "#%%\n"
    }
   },
   "outputs": [],
   "source": [
    "y = 'car'; print(y)"
   ]
  },
  {
   "cell_type": "markdown",
   "metadata": {
    "pycharm": {
     "name": "#%% md\n"
    }
   },
   "source": [
    "### Try it yourself! "
   ]
  },
  {
   "cell_type": "code",
   "execution_count": null,
   "metadata": {
    "pycharm": {
     "name": "#%%\n"
    }
   },
   "outputs": [],
   "source": [
    "# Try the print function by assigning a numeric value to the variable 'age'\n",
    "\n",
    "age = 21 "
   ]
  },
  {
   "cell_type": "code",
   "execution_count": null,
   "metadata": {
    "pycharm": {
     "name": "#%%\n"
    }
   },
   "outputs": [],
   "source": [
    "# Try the print function by assigning a string value to the variable 'county'\n",
    "\n",
    "county = 'Allegheny' "
   ]
  },
  {
   "cell_type": "markdown",
   "metadata": {
    "pycharm": {
     "name": "#%% md\n"
    }
   },
   "source": [
    "### Indentation and White Space \n",
    "\n",
    "White space between characters within the same line will not affect your code. In the example below, `x` will still equal 22 regardless of the space between the characters."
   ]
  },
  {
   "cell_type": "code",
   "execution_count": null,
   "metadata": {
    "pycharm": {
     "name": "#%%\n"
    }
   },
   "outputs": [],
   "source": [
    "x = 8* 2    +   6\n",
    "print (x)"
   ]
  },
  {
   "cell_type": "markdown",
   "metadata": {
    "pycharm": {
     "name": "#%% md\n"
    }
   },
   "source": [
    "However, if you create an indentation in the following line, it will result in `IndentationError`. In this case, what space is important!  \n",
    "In the example below, the `print` function is indented, which leads to a common error. When you create an indentation in your line of code, you are indicating that it is part of a single block code. When declaring that `y = car`, the statement is complete, and there is no need to indent in the following line. "
   ]
  },
  {
   "cell_type": "code",
   "execution_count": null,
   "metadata": {
    "pycharm": {
     "name": "#%%\n"
    }
   },
   "outputs": [],
   "source": [
    "y= 'car'\n",
    "    print(y)"
   ]
  },
  {
   "cell_type": "markdown",
   "metadata": {
    "pycharm": {
     "name": "#%% md\n"
    }
   },
   "source": [
    "Indentation therefore is part of a block of code. An indented line should follow a colon `:` In the example below, there are two functions that necessitate two indentations and two colons. This is an example of a control flow statement, denoted by `for` and `in` and a conditional statement denoted by `if` and `else`.\n",
    "\n",
    "First we will create two lists of a sequence of numbers. For every number between 1 and 20 , `if` it's less than 10, we will `append` it to the empty list called `under_list`. All `else` (for numbers equal and over 10) we will be appended them to the `over_list`. You will notice:\n",
    "* for every colon, an indented line follows in the next line\n",
    "* the print function is not contingent on the previous line of code and therefore it does not need an indentation"
   ]
  },
  {
   "cell_type": "code",
   "execution_count": null,
   "metadata": {
    "pycharm": {
     "name": "#%%\n"
    }
   },
   "outputs": [],
   "source": [
    "under_list = []\n",
    "over_list = []\n",
    "\n",
    "for i in range(1,20):\n",
    "    if (i <= 10 ):\n",
    "        under_list.append(i)\n",
    "    else:\n",
    "        over_list.append(i)\n",
    "print(under_list)\n",
    "print(over_list)"
   ]
  },
  {
   "cell_type": "markdown",
   "metadata": {
    "pycharm": {
     "name": "#%% md\n"
    }
   },
   "source": [
    "\n",
    "### Parentheses\n",
    "\n",
    "Different types are of parentheses and brackets are used in Python and serve different functions. \n",
    "* Round brackets `()` are used to call a function. For instance to `print` a variable. They are also used to create tuples and for mathematical order \n",
    "* Index brackets `[]` are used to create lists, as well as to slice and index items in a list \n",
    "* Braces `{}` are used to create dictionaries \n",
    "\n",
    "We will return to `lists`, `dictionaries`, and `tuples` in the module on Data Structures!"
   ]
  },
  {
   "cell_type": "markdown",
   "metadata": {
    "pycharm": {
     "name": "#%% md\n"
    }
   },
   "source": [
    "## Error Messages \n",
    "\n",
    "Understanding error messages are important to help correct your code. Let's look back at the indentation error. Run the code in the line below and dissect the error term. \n",
    "\n",
    "``` python \n",
    "y= 'car'\n",
    "    print(y)\n",
    "``` \n",
    "\n",
    "* The first line in green text tells us the error is on `line 2`\n",
    "* The second line and third line, denoted by the yellow text and `^` symbol indicate that the print function caused the error\n",
    "* The last line summarizes the error"
   ]
  },
  {
   "cell_type": "code",
   "execution_count": null,
   "metadata": {
    "pycharm": {
     "name": "#%%\n"
    },
    "tags": []
   },
   "outputs": [],
   "source": [
    "y= 'car'\n",
    "    print(y) "
   ]
  },
  {
   "cell_type": "markdown",
   "metadata": {
    "pycharm": {
     "name": "#%% md\n"
    }
   },
   "source": [
    "\n",
    "## Python Vocabulary \n",
    "\n",
    "### Expressions\n",
    "\n",
    "An expression is a combination of `variables`, `operators`, `values`, and `functions`. They always produce and result in a value. The following are some examples of when expressions are used: \n",
    "\n",
    "* Performing and displaying operators \n",
    "* Calls to Functions like printing variables\n",
    "\n",
    "The print function is an example of an expression. It asks Python to return the variable after it was assigned a string value. \n",
    "\n",
    "``` Python\n",
    "x = 'hello world'\n",
    "print (x)\n",
    "```\n"
   ]
  },
  {
   "cell_type": "code",
   "execution_count": null,
   "metadata": {
    "pycharm": {
     "name": "#%%\n"
    }
   },
   "outputs": [],
   "source": [
    "x = 'hello world'\n",
    "print (x)"
   ]
  },
  {
   "cell_type": "markdown",
   "metadata": {
    "pycharm": {
     "name": "#%% md\n"
    }
   },
   "source": [
    "Similarly the `Type` and `Len` functions asks Python to return a value. The `Type` function for instance identifies the type or classification of the variable. It asks Python to return the type of the varaible. Similarly the `Len` counts the number of characters in a string or list in a variable. In a list, `len()` will count the number of items in a list, and in a string variable, the number of characters. \n",
    "\n",
    "In the example below, \n",
    "\n",
    "\n",
    "```Python \n",
    "m = 3.14\n",
    "type (m)\n",
    "```\n",
    "\n",
    "```Python \n",
    "n = [1, 2, 3, 4, 5]\n",
    "len(n)\n",
    "```  \n",
    "\n",
    "```Python \n",
    "o = 'orange'\n",
    "len(o)\n",
    "```  \n"
   ]
  },
  {
   "cell_type": "code",
   "execution_count": null,
   "metadata": {
    "pycharm": {
     "name": "#%%\n"
    }
   },
   "outputs": [],
   "source": [
    "m = 3.14\n",
    "type (m)"
   ]
  },
  {
   "cell_type": "code",
   "execution_count": null,
   "metadata": {
    "pycharm": {
     "name": "#%%\n"
    },
    "tags": []
   },
   "outputs": [],
   "source": [
    "n = [1, 2, 3, 4, 5]\n",
    "len(n)"
   ]
  },
  {
   "cell_type": "code",
   "execution_count": null,
   "metadata": {
    "pycharm": {
     "name": "#%%\n"
    }
   },
   "outputs": [],
   "source": [
    "o = 'orange'\n",
    "len(o)"
   ]
  },
  {
   "cell_type": "markdown",
   "metadata": {
    "pycharm": {
     "name": "#%% md\n"
    }
   },
   "source": [
    "\n",
    "### Statements\n",
    "\n",
    "By contrast, statements instruct Python to carry out or execute a command. It is the smallest executable unit; every line in a piece of code is a statement. While expressions produce a value, statements execute code. \n",
    "\n",
    "In the example below, every line is a statement. Assigning `hello world` to the variable `x` is a statement. But only the last line is an expression; it is asking Python to produce a value.\n",
    "\n",
    "\n",
    "``` Python\n",
    "x = 'hello world'\n",
    "print (x)\n",
    "```"
   ]
  },
  {
   "cell_type": "markdown",
   "metadata": {
    "pycharm": {
     "name": "#%% md\n"
    },
    "tags": []
   },
   "source": [
    "## Practice Questions \n",
    "\n",
    "Let's try some practice questions! If you're stumped, scroll to the end for the answers! "
   ]
  },
  {
   "cell_type": "markdown",
   "metadata": {
    "pycharm": {
     "name": "#%% md\n"
    }
   },
   "source": [
    "\n",
    "### 1) Error Messages \n",
    "\n",
    "Run the codes below and you'll see they will result in an error. Identify what caused the error. Next provide the correct codes and run them"
   ]
  },
  {
   "cell_type": "code",
   "execution_count": null,
   "metadata": {
    "pycharm": {
     "name": "#%%\n"
    }
   },
   "outputs": [],
   "source": [
    "#1.a) Error Message\n",
    "\n",
    "state = \"Pennsylvania\"\n",
    "print (State)"
   ]
  },
  {
   "cell_type": "code",
   "execution_count": null,
   "metadata": {
    "pycharm": {
     "name": "#%%\n"
    }
   },
   "outputs": [],
   "source": [
    "# Run the correct code here:\n"
   ]
  },
  {
   "cell_type": "code",
   "execution_count": null,
   "metadata": {
    "pycharm": {
     "name": "#%%\n"
    }
   },
   "outputs": [],
   "source": [
    "#1.b) Error Message\n",
    "coffee = {'latte': 4.5, 'americano': 3.75, 'cappuccino': 5.25, 'drip': 2.95}\n",
    "\n",
    "for key, value in coffee.items():\n",
    "       if key =='americano'\n",
    "            coffee[key] = 3.55\n",
    "\n",
    "    "
   ]
  },
  {
   "cell_type": "code",
   "execution_count": null,
   "metadata": {
    "pycharm": {
     "name": "#%%\n"
    }
   },
   "outputs": [],
   "source": [
    "# Run the correct code here: "
   ]
  },
  {
   "cell_type": "code",
   "execution_count": null,
   "metadata": {
    "pycharm": {
     "name": "#%%\n"
    }
   },
   "outputs": [],
   "source": [
    "#1.c) Error Message\n",
    "\n",
    "mascot_name = panther"
   ]
  },
  {
   "cell_type": "code",
   "execution_count": null,
   "metadata": {
    "pycharm": {
     "name": "#%%\n"
    }
   },
   "outputs": [],
   "source": [
    "# Run the correct code here: "
   ]
  },
  {
   "cell_type": "markdown",
   "metadata": {
    "pycharm": {
     "name": "#%% md\n"
    }
   },
   "source": [
    "### 2) Statements vs Expressions \n",
    "\n",
    "\n",
    "Run the following codes and identify whether they are an expression or a statement! "
   ]
  },
  {
   "cell_type": "code",
   "execution_count": null,
   "metadata": {
    "pycharm": {
     "name": "#%%\n"
    }
   },
   "outputs": [],
   "source": [
    "# 2. a) Is the code below an expression or statement? \n",
    "\n",
    "17/3"
   ]
  },
  {
   "cell_type": "code",
   "execution_count": null,
   "metadata": {
    "pycharm": {
     "name": "#%%\n"
    }
   },
   "outputs": [],
   "source": [
    "Answer: "
   ]
  },
  {
   "cell_type": "code",
   "execution_count": null,
   "metadata": {
    "pycharm": {
     "name": "#%%\n"
    }
   },
   "outputs": [],
   "source": [
    "# 2. b) Is the code below an expression or statement? \n",
    "\n",
    "weight = [95, 115, 130, 105, 155]"
   ]
  },
  {
   "cell_type": "code",
   "execution_count": null,
   "metadata": {
    "pycharm": {
     "name": "#%%\n"
    }
   },
   "outputs": [],
   "source": [
    "Answer: "
   ]
  },
  {
   "cell_type": "code",
   "execution_count": null,
   "metadata": {
    "pycharm": {
     "name": "#%%\n"
    }
   },
   "outputs": [],
   "source": [
    "# 2. c) Is the code below an expression or statement?\n",
    "\n",
    "subjects= ['English', 'History', 'Algebra', 'Biology', 'Civics']\n",
    "len(subjects)"
   ]
  },
  {
   "cell_type": "code",
   "execution_count": null,
   "metadata": {
    "pycharm": {
     "name": "#%%\n"
    }
   },
   "outputs": [],
   "source": [
    "Answer: "
   ]
  },
  {
   "cell_type": "code",
   "execution_count": null,
   "metadata": {
    "pycharm": {
     "name": "#%%\n"
    }
   },
   "outputs": [],
   "source": [
    "# 2. d) Is the code below an expression or statement?\n",
    "\n",
    "subjects= ['English', 'History', 'Algebra', 'Biology', 'Civics']\n",
    "subjects.insert(1, \"Spanish\")"
   ]
  },
  {
   "cell_type": "code",
   "execution_count": null,
   "metadata": {
    "pycharm": {
     "name": "#%%\n"
    }
   },
   "outputs": [],
   "source": [
    "Answer: "
   ]
  },
  {
   "cell_type": "code",
   "execution_count": null,
   "metadata": {
    "pycharm": {
     "name": "#%%\n"
    }
   },
   "outputs": [],
   "source": [
    "# 2. e) In the code below, which are expressions and which are statements? \n",
    "\n",
    "subjects= ['English', 'History', 'Algebra', 'Biology', 'Civics']\n",
    "subjects.insert(1, \"Spanish\")\n",
    "print(subjects)"
   ]
  },
  {
   "cell_type": "code",
   "execution_count": null,
   "metadata": {
    "pycharm": {
     "name": "#%%\n"
    }
   },
   "outputs": [],
   "source": [
    "Answer: "
   ]
  },
  {
   "cell_type": "code",
   "execution_count": null,
   "metadata": {
    "pycharm": {
     "name": "#%%\n"
    }
   },
   "outputs": [],
   "source": []
  },
  {
   "cell_type": "code",
   "execution_count": null,
   "metadata": {
    "pycharm": {
     "name": "#%%\n"
    }
   },
   "outputs": [],
   "source": []
  },
  {
   "cell_type": "code",
   "execution_count": null,
   "metadata": {
    "pycharm": {
     "name": "#%%\n"
    }
   },
   "outputs": [],
   "source": []
  },
  {
   "cell_type": "markdown",
   "metadata": {
    "pycharm": {
     "name": "#%% md\n"
    }
   },
   "source": [
    "## Answers to Practice Questions "
   ]
  },
  {
   "cell_type": "code",
   "execution_count": null,
   "metadata": {
    "pycharm": {
     "name": "#%%\n"
    }
   },
   "outputs": [],
   "source": [
    "# 1. a) Error Message \n",
    "## Correction: Recall that variables are case sensitive!  \n",
    "\n",
    "state = \"Pennsylvania\"\n",
    "print (state)"
   ]
  },
  {
   "cell_type": "code",
   "execution_count": null,
   "metadata": {
    "pycharm": {
     "name": "#%%\n"
    }
   },
   "outputs": [],
   "source": [
    "# 1. b) Error Message \n",
    "## Correction: You must include colon (:) after the if statement. Every indented line is preceded by a colon (:) \n",
    "\n",
    "\n",
    "coffee = {'latte': 4.5, 'americano': 3.75, 'cappuccino': 5.25, 'drip': 2.95}\n",
    "\n",
    "for key, value in coffee.items():\n",
    "       if key =='americano':\n",
    "            coffee[key] = 3.55\n"
   ]
  },
  {
   "cell_type": "code",
   "execution_count": null,
   "metadata": {
    "pycharm": {
     "name": "#%%\n"
    }
   },
   "outputs": [],
   "source": [
    "# 2. a) Is the code below an expression or statement? \n",
    "## ANSWER: Expression \n",
    "\n",
    "17/3\n"
   ]
  },
  {
   "cell_type": "code",
   "execution_count": null,
   "metadata": {
    "pycharm": {
     "name": "#%%\n"
    }
   },
   "outputs": [],
   "source": [
    "# 2. b) Is the code below an expression or statement? \n",
    "## ANSWER: Statement \n",
    "\n",
    "weight = [95, 115, 130, 105, 155]"
   ]
  },
  {
   "cell_type": "code",
   "execution_count": null,
   "metadata": {
    "pycharm": {
     "name": "#%%\n"
    }
   },
   "outputs": [],
   "source": [
    "# 2. c) Is the code below an expression or statement?\n",
    "## ANSWER: Expression \n",
    "\n",
    "subjects= ['English', 'History', 'Algebra', 'Biology', 'Civics']\n",
    "len(subjects)"
   ]
  },
  {
   "cell_type": "code",
   "execution_count": null,
   "metadata": {
    "pycharm": {
     "name": "#%%\n"
    }
   },
   "outputs": [],
   "source": [
    "# 2. d) Is the code below an expression or statement?\n",
    "## ANSWER: Statement \n",
    "\n",
    "subjects= ['English', 'History', 'Algebra', 'Biology', 'Civics']\n",
    "subjects.insert(1, \"Spanish\")"
   ]
  },
  {
   "cell_type": "code",
   "execution_count": null,
   "metadata": {
    "pycharm": {
     "name": "#%%\n"
    }
   },
   "outputs": [],
   "source": [
    "# 2. e) In the code below, which are expressions and which are statements? \n",
    "## ANSWER: Expression \n",
    "\n",
    "subjects= ['English', 'History', 'Algebra', 'Biology', 'Civics']\n",
    "subjects.insert(1, \"Spanish\")\n",
    "print(subjects)\n",
    "\n"
   ]
  }
 ],
 "metadata": {
  "kernelspec": {
   "display_name": "Python 3 (ipykernel)",
   "language": "python",
   "name": "python3"
  },
  "language_info": {
   "codemirror_mode": {
    "name": "ipython",
    "version": 3
   },
   "file_extension": ".py",
   "mimetype": "text/x-python",
   "name": "python",
   "nbconvert_exporter": "python",
   "pygments_lexer": "ipython3",
   "version": "3.9.12"
  },
  "toc-autonumbering": true,
  "toc-showcode": false,
  "toc-showtags": false
 },
 "nbformat": 4,
 "nbformat_minor": 4
}
